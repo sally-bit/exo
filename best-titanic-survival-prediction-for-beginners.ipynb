{
 "cells": [
  {
   "cell_type": "markdown",
   "execution_count": null,
   "metadata": {},
   "source": [
    "# <center><h1><font color=\"red\">Titanic</font></h1></center>\n",
    "\n",
    "<center><img src=\"https://static3.thetravelimages.com/wordpress/wp-content/uploads/2018/11/titanic1-e1542497861799.jpg\" height=500 /></center>"
   ]
  },
  {
   "cell_type": "markdown",
   "execution_count": null,
   "metadata": {
    "_cell_guid": "b6c4f4e8-7e39-45a7-947f-f53102224e06",
    "_uuid": "18ad5c404b9f95496a3137b0217a223c3d64dfaf"
   },
   "source": [
    "<h1> History</h1>\n",
    "\n",
    "**Titanic** is one of the most infamous shipwrecks in history.  On April 15, 1912, during her maiden voyage, the **Titanic** sank after colliding with an iceberg, killing *1502* out of *2224* passengers and crew. This sensational tragedy shocked the international community and led to better safety regulations for ships.<br><br>\n",
    "\n",
    "<h3>If you are using the kaggle first time</h3>\n",
    "This github link is for \n",
    "<a href='https://github.com/vikramvinay/Titanic-Machine-Learning-from-Disaster'>Beginners  who try first time kaggle</a>\n",
    "\n",
    "In this github link i  basically explains all the thing that i did when i begin first time with kaggle .So this one just gives you the kind of connect that you need when you begin with kaggle. It will also enhance your knowledge.\n",
    "\n",
    "To use this github repository fork it and use it and try to gain most of it."
   ]
  },
  {
   "cell_type": "markdown",
   "execution_count": null,
   "metadata": {},
   "source": [
    "<center><h3>From now onward we will follow below TOC points</h3></center>"
   ]
  },
  {
   "cell_type": "markdown",
   "execution_count": null,
   "metadata": {},
   "source": [
    "## Table of Contents\n",
    "\n",
    "1. [Problem Statement](#section1)<br>\n",
    "2. [Data Loading and Description](#section2)<br/>\n",
    "    - 2.1  [Loading the data files](#section201)<br/>\n",
    "    - 2.2 [Data Description](#section202)<br/>\n",
    "3. [Cleaning the data](#section3)\n",
    "    - 3.1 [Understanding the Dataset](#section301)<br/>\n",
    "    - 3.2 [Why missing values treatment is required?](#section302)<br/>\n",
    "    - 3.3 [Dealing with Missing values](#section303)<br/>\n",
    "    - 3.4 [Transforming Sex](#section304)<br/>\n",
    "    - 3.5 [Treating Missing age](#section305)<br/>\n",
    "4. [Exploratory data analysis](#section4)\n",
    "    - 4.1 [Correlation Matrix and Heatmap](#section401)<br/>\n",
    "    - 4.2 [Gender and Survived](#section402)<br/>\n",
    "    - 4.3 [Pclass and Survived](#section403)<br/>\n",
    "    - 4.4 [Fare and Survived](#section404)<br/>\n",
    "    - 4.5 [Age and Survived](#section405)<br/>\n",
    "5. [Feature Engineering](#section5)<br/>  \n",
    "    - 5.1 [family_size feature](#section501)<br/>\n",
    "    - 5.2 [Is_alone feature](#section502)<br/>\n",
    "    - 5.3 [Child feature](#section503)<br/>\n",
    "    - 5.4 [fare feature](#section504)<br/>\n",
    "    - 5.5 [Calculated_fare feature](#section505)<br/>\n",
    "    - 5.6 [Creating dummy variables](#section506)<br/>\n",
    "6. [Model Creation](#section6)<br/>\n",
    "    - 6.1 [Classifier Comparision](#section601)<br/>\n",
    "    - 6.2 [LogisticRegression](#section602)<br/>\n",
    "    - 6.3 [AdaBoostClassifer](#section603)<br/>\n",
    "    - 6.4 [XGBClassifier](#section604)<br/>\n",
    "    - 6.5 [DecisionTree Classifier](#section605)<br/>\n",
    "    - 6.6 [Random Forest Classifier](#section606)<br/>\n",
    "    - 6.7 [Bagging Classifier](#section607)<br/>\n",
    "    - 6.8 [Voting Classifier](#section608)<br/>\n",
    "7. [Submit test predictions](#section7)<br/>"
   ]
  },
  {
   "cell_type": "markdown",
   "execution_count": null,
   "metadata": {},
   "source": [
    "Remember the <font color='red'>Upvote button</font> is next to the fork button and if you wants further updates of my notebooks <font color='red'>Click Follow</font> , and it's free too! ;)"
   ]
  },
  {
   "cell_type": "markdown",
   "execution_count": null,
   "metadata": {},
   "source": [
    "<a id=\"section1\"></a>\n",
    "### 1. Problem Statement\n",
    "\n",
    "\n",
    "In this challenge, we need to complete the __analysis__ of what sorts of people were likely to __survive__. In particular,  we apply the tools of __machine learning__ to predict which passengers survived the tragedy\n",
    "\n",
    "- Predict whether passenger gonna __survive or not__."
   ]
  },
  {
   "cell_type": "markdown",
   "execution_count": null,
   "metadata": {
    "_cell_guid": "9b36c71d-a9fe-41b0-bb14-3805ab662a7e",
    "_uuid": "270acc34e8c6ae2195f3c566b46ed4b03887142c"
   },
   "source": [
    "<a id=\"section2\"></a>\n",
    "### 2. Data Loading and Description"
   ]
  },
  {
   "cell_type": "code",
   "execution_count": 1,
   "metadata": {
    "_cell_guid": "c0951611-1d3a-4231-b236-f184265b3d17",
    "_uuid": "d25b701d54ac0fe6aa0c406ccb3eabaf0480265a"
   },
   "outputs": [],
   "source": [
    "# importing libraires\n",
    "%matplotlib inline                 \n",
    "\n",
    "import pandas as pd                # Implemennts milti-dimensional array and matrices\n",
    "import numpy as np                 # For data manipulation and analysis\n",
    "import matplotlib.pyplot as plt    # Plotting library for Python programming language and it's numerical mathematics extension NumPy\n",
    "import seaborn as sns              # Provides a high level interface for drawing attractive and informative statistical graphics\n",
    "\n",
    "\n",
    "from sklearn.model_selection import train_test_split,GridSearchCV\n",
    "from sklearn.preprocessing import StandardScaler\n",
    "from sklearn.preprocessing import LabelEncoder\n",
    "label=LabelEncoder()\n",
    "\n",
    "\n",
    "\n",
    "from catboost import CatBoostClassifier   # import algorithms for model training "
   ]
  },
  {
   "cell_type": "markdown",
   "execution_count": null,
   "metadata": {},
   "source": [
    "<a id=\"section201\"></a>\n",
    "#### 2.1  Loading the data files "
   ]
  },
  {
   "cell_type": "code",
   "execution_count": 2,
   "metadata": {},
   "outputs": [
    {
     "data": {
      "text/html": [
       "<div>\n",
       "<style scoped>\n",
       "    .dataframe tbody tr th:only-of-type {\n",
       "        vertical-align: middle;\n",
       "    }\n",
       "\n",
       "    .dataframe tbody tr th {\n",
       "        vertical-align: top;\n",
       "    }\n",
       "\n",
       "    .dataframe thead th {\n",
       "        text-align: right;\n",
       "    }\n",
       "</style>\n",
       "<table border=\"1\" class=\"dataframe\">\n",
       "  <thead>\n",
       "    <tr style=\"text-align: right;\">\n",
       "      <th></th>\n",
       "      <th>PassengerId</th>\n",
       "      <th>Survived</th>\n",
       "      <th>Pclass</th>\n",
       "      <th>Name</th>\n",
       "      <th>Sex</th>\n",
       "      <th>Age</th>\n",
       "      <th>SibSp</th>\n",
       "      <th>Parch</th>\n",
       "      <th>Ticket</th>\n",
       "      <th>Fare</th>\n",
       "      <th>Cabin</th>\n",
       "      <th>Embarked</th>\n",
       "    </tr>\n",
       "  </thead>\n",
       "  <tbody>\n",
       "    <tr>\n",
       "      <td>0</td>\n",
       "      <td>1</td>\n",
       "      <td>0</td>\n",
       "      <td>3</td>\n",
       "      <td>Braund, Mr. Owen Harris</td>\n",
       "      <td>male</td>\n",
       "      <td>22.0</td>\n",
       "      <td>1</td>\n",
       "      <td>0</td>\n",
       "      <td>A/5 21171</td>\n",
       "      <td>7.2500</td>\n",
       "      <td>NaN</td>\n",
       "      <td>S</td>\n",
       "    </tr>\n",
       "    <tr>\n",
       "      <td>1</td>\n",
       "      <td>2</td>\n",
       "      <td>1</td>\n",
       "      <td>1</td>\n",
       "      <td>Cumings, Mrs. John Bradley (Florence Briggs Th...</td>\n",
       "      <td>female</td>\n",
       "      <td>38.0</td>\n",
       "      <td>1</td>\n",
       "      <td>0</td>\n",
       "      <td>PC 17599</td>\n",
       "      <td>71.2833</td>\n",
       "      <td>C85</td>\n",
       "      <td>C</td>\n",
       "    </tr>\n",
       "    <tr>\n",
       "      <td>2</td>\n",
       "      <td>3</td>\n",
       "      <td>1</td>\n",
       "      <td>3</td>\n",
       "      <td>Heikkinen, Miss. Laina</td>\n",
       "      <td>female</td>\n",
       "      <td>26.0</td>\n",
       "      <td>0</td>\n",
       "      <td>0</td>\n",
       "      <td>STON/O2. 3101282</td>\n",
       "      <td>7.9250</td>\n",
       "      <td>NaN</td>\n",
       "      <td>S</td>\n",
       "    </tr>\n",
       "    <tr>\n",
       "      <td>3</td>\n",
       "      <td>4</td>\n",
       "      <td>1</td>\n",
       "      <td>1</td>\n",
       "      <td>Futrelle, Mrs. Jacques Heath (Lily May Peel)</td>\n",
       "      <td>female</td>\n",
       "      <td>35.0</td>\n",
       "      <td>1</td>\n",
       "      <td>0</td>\n",
       "      <td>113803</td>\n",
       "      <td>53.1000</td>\n",
       "      <td>C123</td>\n",
       "      <td>S</td>\n",
       "    </tr>\n",
       "    <tr>\n",
       "      <td>4</td>\n",
       "      <td>5</td>\n",
       "      <td>0</td>\n",
       "      <td>3</td>\n",
       "      <td>Allen, Mr. William Henry</td>\n",
       "      <td>male</td>\n",
       "      <td>35.0</td>\n",
       "      <td>0</td>\n",
       "      <td>0</td>\n",
       "      <td>373450</td>\n",
       "      <td>8.0500</td>\n",
       "      <td>NaN</td>\n",
       "      <td>S</td>\n",
       "    </tr>\n",
       "  </tbody>\n",
       "</table>\n",
       "</div>"
      ],
      "text/plain": [
       "   PassengerId  Survived  Pclass  \\\n",
       "0            1         0       3   \n",
       "1            2         1       1   \n",
       "2            3         1       3   \n",
       "3            4         1       1   \n",
       "4            5         0       3   \n",
       "\n",
       "                                                Name     Sex   Age  SibSp  \\\n",
       "0                            Braund, Mr. Owen Harris    male  22.0      1   \n",
       "1  Cumings, Mrs. John Bradley (Florence Briggs Th...  female  38.0      1   \n",
       "2                             Heikkinen, Miss. Laina  female  26.0      0   \n",
       "3       Futrelle, Mrs. Jacques Heath (Lily May Peel)  female  35.0      1   \n",
       "4                           Allen, Mr. William Henry    male  35.0      0   \n",
       "\n",
       "   Parch            Ticket     Fare Cabin Embarked  \n",
       "0      0         A/5 21171   7.2500   NaN        S  \n",
       "1      0          PC 17599  71.2833   C85        C  \n",
       "2      0  STON/O2. 3101282   7.9250   NaN        S  \n",
       "3      0            113803  53.1000  C123        S  \n",
       "4      0            373450   8.0500   NaN        S  "
      ]
     },
     "execution_count": 2,
     "metadata": {},
     "output_type": "execute_result"
    }
   ],
   "source": [
    "from sklearn.preprocessing import Imputer\n",
    "\n",
    "train_df = pd.read_csv(\"../input/train.csv\")\n",
    "test_df = pd.read_csv(\"../input/test.csv\")\n",
    "\n",
    "train_df.head()"
   ]
  },
  {
   "cell_type": "markdown",
   "execution_count": null,
   "metadata": {
    "_cell_guid": "1a0aa0c3-b276-42ed-87f1-0a92c7862d6a",
    "_uuid": "934c060affbb030f8bc85a395ff1a9b70186923e",
    "collapsed": true
   },
   "source": [
    "<a id=\"section202\"></a>\n",
    "#### 2.2 Data Description"
   ]
  },
  {
   "cell_type": "markdown",
   "execution_count": null,
   "metadata": {
    "_cell_guid": "37cbb7e9-ef04-4592-a2e1-b1b3995c7d5e",
    "_uuid": "cd5e6fa5db8d58838845ef106833ed314cbc8615"
   },
   "source": [
    "The data has been split into two groups:\n",
    "- training set (train.csv)\n",
    "- test set(test.csv)\n",
    "<br>\n",
    "\n",
    "The training set includes passengers survival status(also know as the ground truth from the titanic tragedy) which along with other features like gender, class, fare and pclass is used to create machine learning model.\n",
    "<br><br>\n",
    "The test set should be used to see how well my model performs on unseen data. The test set does not provide passengers survival status. We are going to use our model to predict passenger survival status.\n",
    "<br><br>\n",
    "\n",
    "Lets describe whats the meaning of the features given the both train & test datasets.\n",
    "<h4>Variable Definition Key.</h4>\n",
    "- Survival\n",
    " - 0= No\n",
    " - 1= Yes\n",
    "- pclass (Ticket class)\n",
    " - 1=1st\n",
    " - 2=2nd\n",
    " - 3=3rd\n",
    " \n",
    "- sex\n",
    "<br>\n",
    "\n",
    "- age\n",
    "\n",
    "\n",
    "- sibsp (# of siblings / spouses aboard the Titanic)\n",
    "<br>\n",
    "- parch (# of parents / children aboard the Titanic)\n",
    "<br>\n",
    "- tickets\n",
    "<br>\n",
    "- fare\n",
    "<br>\n",
    "- cabin\n",
    "- embarked Port of Embarkation.\n",
    " - C = Cherbourg,\n",
    " - Q = Queenstown,\n",
    " - S = Southampton\n",
    "- pclass: A proxy for socio-economic status (SES)\n",
    "<br>\n",
    "<h4>This is important to remember and will come in handy for later analysis.</h4>\n",
    " - 1st = Upper\n",
    " - 2nd = Middle\n",
    " - 3rd = Lower\n"
   ]
  },
  {
   "cell_type": "markdown",
   "execution_count": null,
   "metadata": {},
   "source": [
    "| Column Name                       | Description                                                                                        |\n",
    "| ----------------------------------|:--------------------------------------------------------------------------------------------------:|\n",
    "| PassengerId                       | Passenger Identity                                                                                                   | \n",
    "| Survived                          | Whether passenger survived or not                                                                  | \n",
    "| Pclass                            | Class of ticket                                                                                    | \n",
    "| Name                              | Name of passenger                                                                                  | \n",
    "| Sex                               | Sex of passenger                                                                                   |\n",
    "| Age                               | Age of passenger                                                                                   |\n",
    "| SibSp                             | Number of sibling and/or spouse travelling with passenger                                          |\n",
    "| Parch                             | Number of parent and/or children travelling with passenger                                         |\n",
    "| Ticket                            | Ticket number                                                                                      |\n",
    "| Fare                              | Price of ticket                                                                                    |\n",
    "| Cabin                             | Cabin number                                                                                       |"
   ]
  },
  {
   "cell_type": "markdown",
   "execution_count": null,
   "metadata": {
    "_cell_guid": "f95fbbe3-220a-4eca-8a95-3482e31bce15",
    "_uuid": "02610423c5e01f8f4eda88abb88836ff0e2ebd08",
    "collapsed": true
   },
   "source": [
    "<a id=\"section3\"></a>\n",
    "### 3. Cleaning the data"
   ]
  },
  {
   "cell_type": "markdown",
   "execution_count": null,
   "metadata": {
    "_cell_guid": "11e51c0a-b93d-407b-930a-a04e5df18ecb",
    "_uuid": "c56e9091dce4f62ebad385ef62ba52d3e3745e0b"
   },
   "source": [
    "It looks like this dataset is quite organized, however, before using this dataset for analyzing and visualizing we need to deal with ..\n",
    "- Different variables\n",
    "- Null values\n",
    "\n",
    "__Different variables present in the datasets__\n",
    " - **There are four type of variables**\n",
    "  - **Numerical Features**: Age, Fare, SibSp and Parch\n",
    "  - **Categorical Features**: Sex, Embarked, Survived and Pclass\n",
    "  - **Alphanumeric Features**: Ticket and Cabin(Contains both alphabets and the numeric value)\n",
    "  - **Text Features**: Name\n",
    "\n",
    "- We really need to tweak these features so we get the desired form of input data"
   ]
  },
  {
   "cell_type": "markdown",
   "execution_count": null,
   "metadata": {
    "_cell_guid": "6303e80b-51a3-417f-ad09-3bd4ee2fa9bb",
    "_uuid": "20aec52aee70e301b73073a5ab0d1ee9238e15f2"
   },
   "source": [
    "We see Age  and Cabin have a lot of missing value.So First we need to deal with all these NaN values.\n",
    "- As in Cabin column about 1\\3rd of the values are missing.So we get rid of this column. \n",
    "<br>\n"
   ]
  },
  {
   "cell_type": "markdown",
   "execution_count": null,
   "metadata": {},
   "source": [
    "<a id=\"section302\"></a>\n",
    "#### 3.2  Why missing values treatment is required?\n",
    "\n",
    "__Missing data__ in the training data set can reduce the power / fit of a model or can lead to a biased model because we have not analysed the behavior and relationship with other variables correctly. It can lead to __wrong prediction__ or __classification__.\n"
   ]
  },
  {
   "cell_type": "code",
   "execution_count": 3,
   "metadata": {
    "_cell_guid": "6035fac2-a333-4635-bc71-32f061d314ce",
    "_uuid": "1938b387a7eadd91ca5daa4bd5127af0f184625c"
   },
   "outputs": [
    {
     "name": "stderr",
     "output_type": "stream",
     "text": [
      "/opt/conda/lib/python3.6/site-packages/pandas/core/frame.py:7123: FutureWarning: Sorting because non-concatenation axis is not aligned. A future version\n",
      "of pandas will change to not sort by default.\n",
      "\n",
      "To accept the future behavior, pass 'sort=False'.\n",
      "\n",
      "To retain the current behavior and silence the warning, pass 'sort=True'.\n",
      "\n",
      "  sort=sort,\n"
     ]
    },
    {
     "data": {
      "text/plain": [
       "(418, 10)"
      ]
     },
     "execution_count": 3,
     "metadata": {},
     "output_type": "execute_result"
    }
   ],
   "source": [
    "#As test has only one missing value so lets fill it..\n",
    "test_df.Fare.fillna(test_df.Fare.mean(), inplace=True)\n",
    "data_df = train_df.append(test_df) # The entire data: train + test.\n",
    "passenger_id=test_df['PassengerId']\n",
    "\n",
    "## We will drop PassengerID and Ticket since it will be useless for our data. \n",
    "train_df.drop(['PassengerId'], axis=1, inplace=True)\n",
    "test_df.drop(['PassengerId'], axis=1, inplace=True)\n",
    "test_df.shape"
   ]
  },
  {
   "cell_type": "markdown",
   "execution_count": null,
   "metadata": {
    "_cell_guid": "c961f507-605f-4249-81ba-e9af7ca1c35b",
    "_uuid": "8cbc093d5f1c55b85e99f9a64f00a9061ee94ef1",
    "collapsed": true
   },
   "source": [
    "<a id=\"section303\"></a>\n",
    "#### 3.3 Dealing with Missing values"
   ]
  },
  {
   "cell_type": "code",
   "execution_count": 4,
   "metadata": {
    "_cell_guid": "08215d03-81a5-46ab-92ac-ad99d2d70cf9",
    "_uuid": "83dfd8413cfc271e93ced15e6f28b870a2bc3f7b"
   },
   "outputs": [
    {
     "name": "stdout",
     "output_type": "stream",
     "text": [
      "Survived      0\n",
      "Pclass        0\n",
      "Name          0\n",
      "Sex           0\n",
      "Age         177\n",
      "SibSp         0\n",
      "Parch         0\n",
      "Ticket        0\n",
      "Fare          0\n",
      "Cabin       687\n",
      "Embarked      2\n",
      "dtype: int64\n",
      "********************\n",
      "Pclass        0\n",
      "Name          0\n",
      "Sex           0\n",
      "Age          86\n",
      "SibSp         0\n",
      "Parch         0\n",
      "Ticket        0\n",
      "Fare          0\n",
      "Cabin       327\n",
      "Embarked      0\n",
      "dtype: int64\n"
     ]
    },
    {
     "data": {
      "text/plain": [
       "<matplotlib.axes._subplots.AxesSubplot at 0x7f43e95180f0>"
      ]
     },
     "execution_count": 4,
     "metadata": {},
     "output_type": "execute_result"
    },
    {
     "data": {
      "image/png": "[encoded data removed]",
      "text/plain": [
       "<Figure size 432x288 with 1 Axes>"
      ]
     },
     "metadata": {
      "needs_background": "light"
     },
     "output_type": "display_data"
    }
   ],
   "source": [
    "print (train_df.isnull().sum())\n",
    "print (''.center(20, \"*\"))\n",
    "print (test_df.isnull().sum())\n",
    "sns.boxplot(x='Survived',y='Fare',data=train_df)"
   ]
  },
  {
   "cell_type": "markdown",
   "execution_count": null,
   "metadata": {
    "_cell_guid": "5f13e257-4a0b-4ab9-bd6e-a0ac44b4eadf",
    "_uuid": "2aa47fffcf801838d5fbbce232a64255056c47c8",
    "collapsed": true
   },
   "source": [
    "<a id=\"section304\"></a>\n",
    "#### 3.4 Transforming Sex"
   ]
  },
  {
   "cell_type": "code",
   "execution_count": 5,
   "metadata": {
    "_cell_guid": "e4ed9480-f73f-4acc-a871-a1a86e825213",
    "_uuid": "1b1e956ba1365f69a320dc319fe87222595b6384"
   },
   "outputs": [],
   "source": [
    "train_df=train_df[train_df['Fare']<400]"
   ]
  },
  {
   "cell_type": "code",
   "execution_count": 6,
   "metadata": {
    "_cell_guid": "60211aab-2460-461c-83a9-477c44efbf9e",
    "_uuid": "73f517a6704a0cc1f131a4b9fc577eb1b71a2bf5"
   },
   "outputs": [],
   "source": [
    "train_df['Sex'] = train_df.Sex.apply(lambda x: 0 if x == \"female\" else 1)\n",
    "test_df['Sex'] = test_df.Sex.apply(lambda x: 0 if x == \"female\" else 1)"
   ]
  },
  {
   "cell_type": "code",
   "execution_count": 7,
   "metadata": {
    "_cell_guid": "4b65d25b-eaf5-4488-926b-b04918ae1015",
    "_uuid": "f3f4275f92b98703e15a0a437c82393c82e1f701"
   },
   "outputs": [
    {
     "data": {
      "text/html": [
       "<div>\n",
       "<style scoped>\n",
       "    .dataframe tbody tr th:only-of-type {\n",
       "        vertical-align: middle;\n",
       "    }\n",
       "\n",
       "    .dataframe tbody tr th {\n",
       "        vertical-align: top;\n",
       "    }\n",
       "\n",
       "    .dataframe thead th {\n",
       "        text-align: right;\n",
       "    }\n",
       "</style>\n",
       "<table border=\"1\" class=\"dataframe\">\n",
       "  <thead>\n",
       "    <tr style=\"text-align: right;\">\n",
       "      <th></th>\n",
       "      <th>Survived</th>\n",
       "      <th>Pclass</th>\n",
       "      <th>Name</th>\n",
       "      <th>Sex</th>\n",
       "      <th>Age</th>\n",
       "      <th>SibSp</th>\n",
       "      <th>Parch</th>\n",
       "      <th>Ticket</th>\n",
       "      <th>Fare</th>\n",
       "      <th>Cabin</th>\n",
       "      <th>Embarked</th>\n",
       "    </tr>\n",
       "  </thead>\n",
       "  <tbody>\n",
       "    <tr>\n",
       "      <td>0</td>\n",
       "      <td>0</td>\n",
       "      <td>3</td>\n",
       "      <td>Braund, Mr. Owen Harris</td>\n",
       "      <td>1</td>\n",
       "      <td>22.0</td>\n",
       "      <td>1</td>\n",
       "      <td>0</td>\n",
       "      <td>A/5 21171</td>\n",
       "      <td>7.2500</td>\n",
       "      <td>NaN</td>\n",
       "      <td>S</td>\n",
       "    </tr>\n",
       "    <tr>\n",
       "      <td>1</td>\n",
       "      <td>1</td>\n",
       "      <td>1</td>\n",
       "      <td>Cumings, Mrs. John Bradley (Florence Briggs Th...</td>\n",
       "      <td>0</td>\n",
       "      <td>38.0</td>\n",
       "      <td>1</td>\n",
       "      <td>0</td>\n",
       "      <td>PC 17599</td>\n",
       "      <td>71.2833</td>\n",
       "      <td>C85</td>\n",
       "      <td>C</td>\n",
       "    </tr>\n",
       "    <tr>\n",
       "      <td>2</td>\n",
       "      <td>1</td>\n",
       "      <td>3</td>\n",
       "      <td>Heikkinen, Miss. Laina</td>\n",
       "      <td>0</td>\n",
       "      <td>26.0</td>\n",
       "      <td>0</td>\n",
       "      <td>0</td>\n",
       "      <td>STON/O2. 3101282</td>\n",
       "      <td>7.9250</td>\n",
       "      <td>NaN</td>\n",
       "      <td>S</td>\n",
       "    </tr>\n",
       "    <tr>\n",
       "      <td>3</td>\n",
       "      <td>1</td>\n",
       "      <td>1</td>\n",
       "      <td>Futrelle, Mrs. Jacques Heath (Lily May Peel)</td>\n",
       "      <td>0</td>\n",
       "      <td>35.0</td>\n",
       "      <td>1</td>\n",
       "      <td>0</td>\n",
       "      <td>113803</td>\n",
       "      <td>53.1000</td>\n",
       "      <td>C123</td>\n",
       "      <td>S</td>\n",
       "    </tr>\n",
       "    <tr>\n",
       "      <td>4</td>\n",
       "      <td>0</td>\n",
       "      <td>3</td>\n",
       "      <td>Allen, Mr. William Henry</td>\n",
       "      <td>1</td>\n",
       "      <td>35.0</td>\n",
       "      <td>0</td>\n",
       "      <td>0</td>\n",
       "      <td>373450</td>\n",
       "      <td>8.0500</td>\n",
       "      <td>NaN</td>\n",
       "      <td>S</td>\n",
       "    </tr>\n",
       "    <tr>\n",
       "      <td>...</td>\n",
       "      <td>...</td>\n",
       "      <td>...</td>\n",
       "      <td>...</td>\n",
       "      <td>...</td>\n",
       "      <td>...</td>\n",
       "      <td>...</td>\n",
       "      <td>...</td>\n",
       "      <td>...</td>\n",
       "      <td>...</td>\n",
       "      <td>...</td>\n",
       "      <td>...</td>\n",
       "    </tr>\n",
       "    <tr>\n",
       "      <td>886</td>\n",
       "      <td>0</td>\n",
       "      <td>2</td>\n",
       "      <td>Montvila, Rev. Juozas</td>\n",
       "      <td>1</td>\n",
       "      <td>27.0</td>\n",
       "      <td>0</td>\n",
       "      <td>0</td>\n",
       "      <td>211536</td>\n",
       "      <td>13.0000</td>\n",
       "      <td>NaN</td>\n",
       "      <td>S</td>\n",
       "    </tr>\n",
       "    <tr>\n",
       "      <td>887</td>\n",
       "      <td>1</td>\n",
       "      <td>1</td>\n",
       "      <td>Graham, Miss. Margaret Edith</td>\n",
       "      <td>0</td>\n",
       "      <td>19.0</td>\n",
       "      <td>0</td>\n",
       "      <td>0</td>\n",
       "      <td>112053</td>\n",
       "      <td>30.0000</td>\n",
       "      <td>B42</td>\n",
       "      <td>S</td>\n",
       "    </tr>\n",
       "    <tr>\n",
       "      <td>888</td>\n",
       "      <td>0</td>\n",
       "      <td>3</td>\n",
       "      <td>Johnston, Miss. Catherine Helen \"Carrie\"</td>\n",
       "      <td>0</td>\n",
       "      <td>NaN</td>\n",
       "      <td>1</td>\n",
       "      <td>2</td>\n",
       "      <td>W./C. 6607</td>\n",
       "      <td>23.4500</td>\n",
       "      <td>NaN</td>\n",
       "      <td>S</td>\n",
       "    </tr>\n",
       "    <tr>\n",
       "      <td>889</td>\n",
       "      <td>1</td>\n",
       "      <td>1</td>\n",
       "      <td>Behr, Mr. Karl Howell</td>\n",
       "      <td>1</td>\n",
       "      <td>26.0</td>\n",
       "      <td>0</td>\n",
       "      <td>0</td>\n",
       "      <td>111369</td>\n",
       "      <td>30.0000</td>\n",
       "      <td>C148</td>\n",
       "      <td>C</td>\n",
       "    </tr>\n",
       "    <tr>\n",
       "      <td>890</td>\n",
       "      <td>0</td>\n",
       "      <td>3</td>\n",
       "      <td>Dooley, Mr. Patrick</td>\n",
       "      <td>1</td>\n",
       "      <td>32.0</td>\n",
       "      <td>0</td>\n",
       "      <td>0</td>\n",
       "      <td>370376</td>\n",
       "      <td>7.7500</td>\n",
       "      <td>NaN</td>\n",
       "      <td>Q</td>\n",
       "    </tr>\n",
       "  </tbody>\n",
       "</table>\n",
       "<p>888 rows × 11 columns</p>\n",
       "</div>"
      ],
      "text/plain": [
       "     Survived  Pclass                                               Name  Sex  \\\n",
       "0           0       3                            Braund, Mr. Owen Harris    1   \n",
       "1           1       1  Cumings, Mrs. John Bradley (Florence Briggs Th...    0   \n",
       "2           1       3                             Heikkinen, Miss. Laina    0   \n",
       "3           1       1       Futrelle, Mrs. Jacques Heath (Lily May Peel)    0   \n",
       "4           0       3                           Allen, Mr. William Henry    1   \n",
       "..        ...     ...                                                ...  ...   \n",
       "886         0       2                              Montvila, Rev. Juozas    1   \n",
       "887         1       1                       Graham, Miss. Margaret Edith    0   \n",
       "888         0       3           Johnston, Miss. Catherine Helen \"Carrie\"    0   \n",
       "889         1       1                              Behr, Mr. Karl Howell    1   \n",
       "890         0       3                                Dooley, Mr. Patrick    1   \n",
       "\n",
       "      Age  SibSp  Parch            Ticket     Fare Cabin Embarked  \n",
       "0    22.0      1      0         A/5 21171   7.2500   NaN        S  \n",
       "1    38.0      1      0          PC 17599  71.2833   C85        C  \n",
       "2    26.0      0      0  STON/O2. 3101282   7.9250   NaN        S  \n",
       "3    35.0      1      0            113803  53.1000  C123        S  \n",
       "4    35.0      0      0            373450   8.0500   NaN        S  \n",
       "..    ...    ...    ...               ...      ...   ...      ...  \n",
       "886  27.0      0      0            211536  13.0000   NaN        S  \n",
       "887  19.0      0      0            112053  30.0000   B42        S  \n",
       "888   NaN      1      2        W./C. 6607  23.4500   NaN        S  \n",
       "889  26.0      0      0            111369  30.0000  C148        C  \n",
       "890  32.0      0      0            370376   7.7500   NaN        Q  \n",
       "\n",
       "[888 rows x 11 columns]"
      ]
     },
     "execution_count": 7,
     "metadata": {},
     "output_type": "execute_result"
    }
   ],
   "source": [
    "train_df"
   ]
  },
  {
   "cell_type": "code",
   "execution_count": 8,
   "metadata": {
    "_cell_guid": "87fb6e61-be55-45f3-9da1-a279be250aa6",
    "_uuid": "596e0a74fb1a655b2331e5c65f86b67cde05bae7"
   },
   "outputs": [
    {
     "data": {
      "text/html": [
       "<div>\n",
       "<style scoped>\n",
       "    .dataframe tbody tr th:only-of-type {\n",
       "        vertical-align: middle;\n",
       "    }\n",
       "\n",
       "    .dataframe tbody tr th {\n",
       "        vertical-align: top;\n",
       "    }\n",
       "\n",
       "    .dataframe thead th {\n",
       "        text-align: right;\n",
       "    }\n",
       "</style>\n",
       "<table border=\"1\" class=\"dataframe\">\n",
       "  <thead>\n",
       "    <tr style=\"text-align: right;\">\n",
       "      <th></th>\n",
       "      <th>Survived</th>\n",
       "      <th>Pclass</th>\n",
       "      <th>Name</th>\n",
       "      <th>Sex</th>\n",
       "      <th>Age</th>\n",
       "      <th>SibSp</th>\n",
       "      <th>Parch</th>\n",
       "      <th>Ticket</th>\n",
       "      <th>Fare</th>\n",
       "      <th>Cabin</th>\n",
       "      <th>Embarked</th>\n",
       "    </tr>\n",
       "  </thead>\n",
       "  <tbody>\n",
       "    <tr>\n",
       "      <td>0</td>\n",
       "      <td>0</td>\n",
       "      <td>3</td>\n",
       "      <td>Braund, Mr. Owen Harris</td>\n",
       "      <td>1</td>\n",
       "      <td>22.0</td>\n",
       "      <td>1</td>\n",
       "      <td>0</td>\n",
       "      <td>A/5 21171</td>\n",
       "      <td>7.2500</td>\n",
       "      <td>NaN</td>\n",
       "      <td>S</td>\n",
       "    </tr>\n",
       "    <tr>\n",
       "      <td>1</td>\n",
       "      <td>1</td>\n",
       "      <td>1</td>\n",
       "      <td>Cumings, Mrs. John Bradley (Florence Briggs Th...</td>\n",
       "      <td>0</td>\n",
       "      <td>38.0</td>\n",
       "      <td>1</td>\n",
       "      <td>0</td>\n",
       "      <td>PC 17599</td>\n",
       "      <td>71.2833</td>\n",
       "      <td>C85</td>\n",
       "      <td>C</td>\n",
       "    </tr>\n",
       "    <tr>\n",
       "      <td>2</td>\n",
       "      <td>1</td>\n",
       "      <td>3</td>\n",
       "      <td>Heikkinen, Miss. Laina</td>\n",
       "      <td>0</td>\n",
       "      <td>26.0</td>\n",
       "      <td>0</td>\n",
       "      <td>0</td>\n",
       "      <td>STON/O2. 3101282</td>\n",
       "      <td>7.9250</td>\n",
       "      <td>NaN</td>\n",
       "      <td>S</td>\n",
       "    </tr>\n",
       "    <tr>\n",
       "      <td>3</td>\n",
       "      <td>1</td>\n",
       "      <td>1</td>\n",
       "      <td>Futrelle, Mrs. Jacques Heath (Lily May Peel)</td>\n",
       "      <td>0</td>\n",
       "      <td>35.0</td>\n",
       "      <td>1</td>\n",
       "      <td>0</td>\n",
       "      <td>113803</td>\n",
       "      <td>53.1000</td>\n",
       "      <td>C123</td>\n",
       "      <td>S</td>\n",
       "    </tr>\n",
       "    <tr>\n",
       "      <td>4</td>\n",
       "      <td>0</td>\n",
       "      <td>3</td>\n",
       "      <td>Allen, Mr. William Henry</td>\n",
       "      <td>1</td>\n",
       "      <td>35.0</td>\n",
       "      <td>0</td>\n",
       "      <td>0</td>\n",
       "      <td>373450</td>\n",
       "      <td>8.0500</td>\n",
       "      <td>NaN</td>\n",
       "      <td>S</td>\n",
       "    </tr>\n",
       "  </tbody>\n",
       "</table>\n",
       "</div>"
      ],
      "text/plain": [
       "   Survived  Pclass                                               Name  Sex  \\\n",
       "0         0       3                            Braund, Mr. Owen Harris    1   \n",
       "1         1       1  Cumings, Mrs. John Bradley (Florence Briggs Th...    0   \n",
       "2         1       3                             Heikkinen, Miss. Laina    0   \n",
       "3         1       1       Futrelle, Mrs. Jacques Heath (Lily May Peel)    0   \n",
       "4         0       3                           Allen, Mr. William Henry    1   \n",
       "\n",
       "    Age  SibSp  Parch            Ticket     Fare Cabin Embarked  \n",
       "0  22.0      1      0         A/5 21171   7.2500   NaN        S  \n",
       "1  38.0      1      0          PC 17599  71.2833   C85        C  \n",
       "2  26.0      0      0  STON/O2. 3101282   7.9250   NaN        S  \n",
       "3  35.0      1      0            113803  53.1000  C123        S  \n",
       "4  35.0      0      0            373450   8.0500   NaN        S  "
      ]
     },
     "execution_count": 8,
     "metadata": {},
     "output_type": "execute_result"
    }
   ],
   "source": [
    "pd.options.display.max_columns = 99\n",
    "test_df['Fare'].fillna(test_df['Fare'].mean(),inplace=True)\n",
    "train_df.head()\n"
   ]
  },
  {
   "cell_type": "markdown",
   "execution_count": null,
   "metadata": {
    "_cell_guid": "deb2caf0-04ba-4ace-b782-7beb803eca59",
    "_uuid": "112c84520482541f5bd01ea16b02cc66c66f3832"
   },
   "source": [
    "<a id=\"section305\"></a>\n",
    "#### 3.5 Treating Missing age"
   ]
  },
  {
   "cell_type": "markdown",
   "execution_count": null,
   "metadata": {},
   "source": [
    "#### <font color=\"red\">Edit</font> \n",
    "- After ```Ken Lim``` __Suggestion__: Check in the __comment section__  "
   ]
  },
  {
   "cell_type": "code",
   "execution_count": 9,
   "metadata": {},
   "outputs": [],
   "source": [
    "for name_string in data_df['Name']:\n",
    "    data_df['Title']=data_df['Name'].str.extract('([A-Za-z]+)\\.',expand=True)\n",
    "\n",
    "\n",
    "mapping = {'Mlle': 'Miss', 'Major': 'Mr', 'Col': 'Mr', 'Sir': 'Mr', 'Don': 'Mr', 'Mme': 'Miss',\n",
    "          'Jonkheer': 'Mr', 'Lady': 'Mrs', 'Capt': 'Mr', 'Countess': 'Mrs', 'Ms': 'Miss', 'Dona': 'Mrs'}\n",
    "data_df.replace({'Title': mapping}, inplace=True)"
   ]
  },
  {
   "cell_type": "code",
   "execution_count": 10,
   "metadata": {},
   "outputs": [
    {
     "data": {
      "text/plain": [
       "Title\n",
       "Dr        49.0\n",
       "Master     4.0\n",
       "Miss      22.0\n",
       "Mr        30.0\n",
       "Mrs       36.0\n",
       "Rev       41.5\n",
       "Name: Age, dtype: float64"
      ]
     },
     "execution_count": 10,
     "metadata": {},
     "output_type": "execute_result"
    }
   ],
   "source": [
    "data_df.groupby('Title')['Age'].median()"
   ]
  },
  {
   "cell_type": "code",
   "execution_count": 11,
   "metadata": {
    "_cell_guid": "7f46ba4b-1ab3-4c64-b297-1a45f27cabde",
    "_uuid": "3ff3c7095e6600b6cb69b4b45ea66b3d41c80eff"
   },
   "outputs": [
    {
     "data": {
      "text/plain": [
       "Pclass        0\n",
       "Name          0\n",
       "Sex           0\n",
       "Age           0\n",
       "SibSp         0\n",
       "Parch         0\n",
       "Ticket        0\n",
       "Fare          0\n",
       "Cabin       327\n",
       "Embarked      0\n",
       "Title         0\n",
       "dtype: int64"
      ]
     },
     "execution_count": 11,
     "metadata": {},
     "output_type": "execute_result"
    }
   ],
   "source": [
    "# imputing with the mean() strategy.\n",
    "\n",
    "for name_string in data_df['Name']:\n",
    "    data_df['Title']=data_df['Name'].str.extract('([A-Za-z]+)\\.',expand=True)\n",
    "    \n",
    "#replacing the rare title with more common one.\n",
    "# here the mapping for different title is done through finding relation between two columns. (Sex,Title)\n",
    "\n",
    "#pd.crosstab(data_train['Title'],data_train['Sex']) (try this out)\n",
    "\n",
    "mapping = {'Mlle': 'Miss', 'Major': 'Mr', 'Col': 'Mr', 'Sir': 'Mr', 'Don': 'Mr', 'Mme': 'Miss',\n",
    "          'Jonkheer': 'Mr', 'Lady': 'Mrs', 'Capt': 'Mr', 'Countess': 'Mrs', 'Ms': 'Miss', 'Dona': 'Mrs'}\n",
    "data_df.replace({'Title': mapping}, inplace=True)\n",
    "\n",
    "data_df['Title'].value_counts()\n",
    "train_df['Title']=data_df['Title'][:891]\n",
    "test_df['Title']=data_df['Title'][891:]\n",
    "\n",
    "titles=['Mr','Miss','Mrs','Master','Rev','Dr']\n",
    "for title in titles:\n",
    "    age_to_impute = data_df.groupby('Title')['Age'].mean()[titles.index(title)]\n",
    "    #print(age_to_impute)\n",
    "    data_df.loc[(data_df['Age'].isnull()) & (data_df['Title'] == title), 'Age'] = age_to_impute\n",
    "data_df.isnull().sum()\n",
    "\n",
    "\n",
    "\n",
    "train_df['Age']=data_df['Age'][:891]\n",
    "test_df['Age']=data_df['Age'][891:]\n",
    "test_df.isnull().sum()"
   ]
  },
  {
   "cell_type": "markdown",
   "execution_count": null,
   "metadata": {
    "_cell_guid": "0c01fc62-96a4-44c2-92c2-8c8dcd2bd251",
    "_uuid": "88c1ccccad1ac346a13a1f403184e10c027830aa"
   },
   "source": [
    "<a id=\"section4\"></a>\n",
    "### 4.Exploratory data analysis\n",
    "![](http://media.giphy.com/media/m3UHHYejQ4rug/giphy.gif)\n",
    "\n",
    "**Exploratory data analysis (EDA)** is an approach to analyzing data sets to summarize their main characteristics, often with visual methods."
   ]
  },
  {
   "cell_type": "code",
   "execution_count": 12,
   "metadata": {
    "_cell_guid": "35793d15-0af7-4c30-b75e-48da66fa3070",
    "_uuid": "a1213b1abcb5104f65f45693784a76d27ce5adec"
   },
   "outputs": [
    {
     "data": {
      "text/html": [
       "<div>\n",
       "<style scoped>\n",
       "    .dataframe tbody tr th:only-of-type {\n",
       "        vertical-align: middle;\n",
       "    }\n",
       "\n",
       "    .dataframe tbody tr th {\n",
       "        vertical-align: top;\n",
       "    }\n",
       "\n",
       "    .dataframe thead th {\n",
       "        text-align: right;\n",
       "    }\n",
       "</style>\n",
       "<table border=\"1\" class=\"dataframe\">\n",
       "  <thead>\n",
       "    <tr style=\"text-align: right;\">\n",
       "      <th></th>\n",
       "      <th>Survived</th>\n",
       "      <th>Pclass</th>\n",
       "      <th>Sex</th>\n",
       "      <th>Age</th>\n",
       "      <th>SibSp</th>\n",
       "      <th>Parch</th>\n",
       "      <th>Fare</th>\n",
       "    </tr>\n",
       "  </thead>\n",
       "  <tbody>\n",
       "    <tr>\n",
       "      <td>count</td>\n",
       "      <td>888.000000</td>\n",
       "      <td>888.000000</td>\n",
       "      <td>888.000000</td>\n",
       "      <td>888.000000</td>\n",
       "      <td>888.000000</td>\n",
       "      <td>888.000000</td>\n",
       "      <td>888.000000</td>\n",
       "    </tr>\n",
       "    <tr>\n",
       "      <td>mean</td>\n",
       "      <td>0.381757</td>\n",
       "      <td>2.313063</td>\n",
       "      <td>0.647523</td>\n",
       "      <td>30.383851</td>\n",
       "      <td>0.524775</td>\n",
       "      <td>0.381757</td>\n",
       "      <td>30.582164</td>\n",
       "    </tr>\n",
       "    <tr>\n",
       "      <td>std</td>\n",
       "      <td>0.486091</td>\n",
       "      <td>0.834007</td>\n",
       "      <td>0.478011</td>\n",
       "      <td>14.875196</td>\n",
       "      <td>1.104186</td>\n",
       "      <td>0.806949</td>\n",
       "      <td>41.176366</td>\n",
       "    </tr>\n",
       "    <tr>\n",
       "      <td>min</td>\n",
       "      <td>0.000000</td>\n",
       "      <td>1.000000</td>\n",
       "      <td>0.000000</td>\n",
       "      <td>0.420000</td>\n",
       "      <td>0.000000</td>\n",
       "      <td>0.000000</td>\n",
       "      <td>0.000000</td>\n",
       "    </tr>\n",
       "    <tr>\n",
       "      <td>25%</td>\n",
       "      <td>0.000000</td>\n",
       "      <td>2.000000</td>\n",
       "      <td>0.000000</td>\n",
       "      <td>20.000000</td>\n",
       "      <td>0.000000</td>\n",
       "      <td>0.000000</td>\n",
       "      <td>7.895800</td>\n",
       "    </tr>\n",
       "    <tr>\n",
       "      <td>50%</td>\n",
       "      <td>0.000000</td>\n",
       "      <td>3.000000</td>\n",
       "      <td>1.000000</td>\n",
       "      <td>30.000000</td>\n",
       "      <td>0.000000</td>\n",
       "      <td>0.000000</td>\n",
       "      <td>14.454200</td>\n",
       "    </tr>\n",
       "    <tr>\n",
       "      <td>75%</td>\n",
       "      <td>1.000000</td>\n",
       "      <td>3.000000</td>\n",
       "      <td>1.000000</td>\n",
       "      <td>43.571429</td>\n",
       "      <td>1.000000</td>\n",
       "      <td>0.000000</td>\n",
       "      <td>30.771850</td>\n",
       "    </tr>\n",
       "    <tr>\n",
       "      <td>max</td>\n",
       "      <td>1.000000</td>\n",
       "      <td>3.000000</td>\n",
       "      <td>1.000000</td>\n",
       "      <td>80.000000</td>\n",
       "      <td>8.000000</td>\n",
       "      <td>6.000000</td>\n",
       "      <td>263.000000</td>\n",
       "    </tr>\n",
       "  </tbody>\n",
       "</table>\n",
       "</div>"
      ],
      "text/plain": [
       "         Survived      Pclass         Sex         Age       SibSp       Parch  \\\n",
       "count  888.000000  888.000000  888.000000  888.000000  888.000000  888.000000   \n",
       "mean     0.381757    2.313063    0.647523   30.383851    0.524775    0.381757   \n",
       "std      0.486091    0.834007    0.478011   14.875196    1.104186    0.806949   \n",
       "min      0.000000    1.000000    0.000000    0.420000    0.000000    0.000000   \n",
       "25%      0.000000    2.000000    0.000000   20.000000    0.000000    0.000000   \n",
       "50%      0.000000    3.000000    1.000000   30.000000    0.000000    0.000000   \n",
       "75%      1.000000    3.000000    1.000000   43.571429    1.000000    0.000000   \n",
       "max      1.000000    3.000000    1.000000   80.000000    8.000000    6.000000   \n",
       "\n",
       "             Fare  \n",
       "count  888.000000  \n",
       "mean    30.582164  \n",
       "std     41.176366  \n",
       "min      0.000000  \n",
       "25%      7.895800  \n",
       "50%     14.454200  \n",
       "75%     30.771850  \n",
       "max    263.000000  "
      ]
     },
     "execution_count": 12,
     "metadata": {},
     "output_type": "execute_result"
    }
   ],
   "source": [
    "train_df.describe()"
   ]
  },
  {
   "cell_type": "code",
   "execution_count": 13,
   "metadata": {
    "_cell_guid": "befcb476-181a-4a91-9f8e-6dc7d06055ac",
    "_uuid": "ac2c72a7c2033dd3f61a786adca6f15fea2a3eeb"
   },
   "outputs": [
    {
     "data": {
      "text/html": [
       "<div>\n",
       "<style scoped>\n",
       "    .dataframe tbody tr th:only-of-type {\n",
       "        vertical-align: middle;\n",
       "    }\n",
       "\n",
       "    .dataframe tbody tr th {\n",
       "        vertical-align: top;\n",
       "    }\n",
       "\n",
       "    .dataframe thead th {\n",
       "        text-align: right;\n",
       "    }\n",
       "</style>\n",
       "<table border=\"1\" class=\"dataframe\">\n",
       "  <thead>\n",
       "    <tr style=\"text-align: right;\">\n",
       "      <th></th>\n",
       "      <th>Pclass</th>\n",
       "      <th>Sex</th>\n",
       "      <th>Age</th>\n",
       "      <th>SibSp</th>\n",
       "      <th>Parch</th>\n",
       "      <th>Fare</th>\n",
       "    </tr>\n",
       "    <tr>\n",
       "      <th>Survived</th>\n",
       "      <th></th>\n",
       "      <th></th>\n",
       "      <th></th>\n",
       "      <th></th>\n",
       "      <th></th>\n",
       "      <th></th>\n",
       "    </tr>\n",
       "  </thead>\n",
       "  <tbody>\n",
       "    <tr>\n",
       "      <td>0</td>\n",
       "      <td>2.531876</td>\n",
       "      <td>0.852459</td>\n",
       "      <td>32.431252</td>\n",
       "      <td>0.553734</td>\n",
       "      <td>0.329690</td>\n",
       "      <td>22.117887</td>\n",
       "    </tr>\n",
       "    <tr>\n",
       "      <td>1</td>\n",
       "      <td>1.958702</td>\n",
       "      <td>0.315634</td>\n",
       "      <td>27.068147</td>\n",
       "      <td>0.477876</td>\n",
       "      <td>0.466077</td>\n",
       "      <td>44.289799</td>\n",
       "    </tr>\n",
       "  </tbody>\n",
       "</table>\n",
       "</div>"
      ],
      "text/plain": [
       "            Pclass       Sex        Age     SibSp     Parch       Fare\n",
       "Survived                                                              \n",
       "0         2.531876  0.852459  32.431252  0.553734  0.329690  22.117887\n",
       "1         1.958702  0.315634  27.068147  0.477876  0.466077  44.289799"
      ]
     },
     "execution_count": 13,
     "metadata": {},
     "output_type": "execute_result"
    }
   ],
   "source": [
    "train_df.groupby('Survived').mean()"
   ]
  },
  {
   "cell_type": "code",
   "execution_count": 14,
   "metadata": {
    "_cell_guid": "ce395185-6d00-447d-8275-727b451b33e4",
    "_uuid": "12abdfaf98fb2e3e99965527d26512c22aae0759"
   },
   "outputs": [
    {
     "data": {
      "text/html": [
       "<div>\n",
       "<style scoped>\n",
       "    .dataframe tbody tr th:only-of-type {\n",
       "        vertical-align: middle;\n",
       "    }\n",
       "\n",
       "    .dataframe tbody tr th {\n",
       "        vertical-align: top;\n",
       "    }\n",
       "\n",
       "    .dataframe thead th {\n",
       "        text-align: right;\n",
       "    }\n",
       "</style>\n",
       "<table border=\"1\" class=\"dataframe\">\n",
       "  <thead>\n",
       "    <tr style=\"text-align: right;\">\n",
       "      <th></th>\n",
       "      <th>Survived</th>\n",
       "      <th>Pclass</th>\n",
       "      <th>Age</th>\n",
       "      <th>SibSp</th>\n",
       "      <th>Parch</th>\n",
       "      <th>Fare</th>\n",
       "    </tr>\n",
       "    <tr>\n",
       "      <th>Sex</th>\n",
       "      <th></th>\n",
       "      <th></th>\n",
       "      <th></th>\n",
       "      <th></th>\n",
       "      <th></th>\n",
       "      <th></th>\n",
       "    </tr>\n",
       "  </thead>\n",
       "  <tbody>\n",
       "    <tr>\n",
       "      <td>0</td>\n",
       "      <td>0.741214</td>\n",
       "      <td>2.162939</td>\n",
       "      <td>24.811705</td>\n",
       "      <td>0.696486</td>\n",
       "      <td>0.651757</td>\n",
       "      <td>42.985091</td>\n",
       "    </tr>\n",
       "    <tr>\n",
       "      <td>1</td>\n",
       "      <td>0.186087</td>\n",
       "      <td>2.394783</td>\n",
       "      <td>33.417036</td>\n",
       "      <td>0.431304</td>\n",
       "      <td>0.234783</td>\n",
       "      <td>23.830658</td>\n",
       "    </tr>\n",
       "  </tbody>\n",
       "</table>\n",
       "</div>"
      ],
      "text/plain": [
       "     Survived    Pclass        Age     SibSp     Parch       Fare\n",
       "Sex                                                              \n",
       "0    0.741214  2.162939  24.811705  0.696486  0.651757  42.985091\n",
       "1    0.186087  2.394783  33.417036  0.431304  0.234783  23.830658"
      ]
     },
     "execution_count": 14,
     "metadata": {},
     "output_type": "execute_result"
    }
   ],
   "source": [
    "train_df.groupby('Sex').mean()"
   ]
  },
  {
   "cell_type": "markdown",
   "execution_count": null,
   "metadata": {
    "_cell_guid": "d3f165b7-42b7-46d9-8a94-cbb662b309d6",
    "_uuid": "2c9b5668d5e573185803ae15afbf629717564495"
   },
   "source": [
    "\n",
    "There are a couple of points that should be noted from the statistical overview. They are..\n",
    "- About the survival rate, only 38% passenger survived during that tragedy.\n",
    "- About the survival rate for genders, 74% female passengers survived, while only 19% male passengers survived."
   ]
  },
  {
   "cell_type": "markdown",
   "execution_count": null,
   "metadata": {
    "_cell_guid": "04a93127-72ed-4b0a-a7f8-d8f0702954eb",
    "_uuid": "d16437166a565755eb05d46af30e91e1337205f2"
   },
   "source": [
    "<a id=\"section401\"></a>\n",
    "#### 4.1 Correlation Matrix and Heatmap"
   ]
  },
  {
   "cell_type": "code",
   "execution_count": 15,
   "metadata": {
    "_cell_guid": "5fc9fdde-d681-4fd8-a37a-508bdbfa1000",
    "_uuid": "2f9089390ead6f65b11c4228ee4ff3b730e98b49"
   },
   "outputs": [
    {
     "data": {
      "text/html": [
       "<div>\n",
       "<style scoped>\n",
       "    .dataframe tbody tr th:only-of-type {\n",
       "        vertical-align: middle;\n",
       "    }\n",
       "\n",
       "    .dataframe tbody tr th {\n",
       "        vertical-align: top;\n",
       "    }\n",
       "\n",
       "    .dataframe thead th {\n",
       "        text-align: right;\n",
       "    }\n",
       "</style>\n",
       "<table border=\"1\" class=\"dataframe\">\n",
       "  <thead>\n",
       "    <tr style=\"text-align: right;\">\n",
       "      <th></th>\n",
       "      <th>Survived</th>\n",
       "      <th>Pclass</th>\n",
       "      <th>Sex</th>\n",
       "      <th>Age</th>\n",
       "      <th>SibSp</th>\n",
       "      <th>Parch</th>\n",
       "      <th>Fare</th>\n",
       "    </tr>\n",
       "  </thead>\n",
       "  <tbody>\n",
       "    <tr>\n",
       "      <td>Survived</td>\n",
       "      <td>1.000000</td>\n",
       "      <td>-0.334068</td>\n",
       "      <td>-0.545899</td>\n",
       "      <td>-0.175255</td>\n",
       "      <td>-0.033395</td>\n",
       "      <td>0.082157</td>\n",
       "      <td>0.261742</td>\n",
       "    </tr>\n",
       "    <tr>\n",
       "      <td>Pclass</td>\n",
       "      <td>-0.334068</td>\n",
       "      <td>1.000000</td>\n",
       "      <td>0.132881</td>\n",
       "      <td>-0.289341</td>\n",
       "      <td>0.080937</td>\n",
       "      <td>0.018212</td>\n",
       "      <td>-0.604960</td>\n",
       "    </tr>\n",
       "    <tr>\n",
       "      <td>Sex</td>\n",
       "      <td>-0.545899</td>\n",
       "      <td>0.132881</td>\n",
       "      <td>1.000000</td>\n",
       "      <td>0.276530</td>\n",
       "      <td>-0.114799</td>\n",
       "      <td>-0.247003</td>\n",
       "      <td>-0.222361</td>\n",
       "    </tr>\n",
       "    <tr>\n",
       "      <td>Age</td>\n",
       "      <td>-0.175255</td>\n",
       "      <td>-0.289341</td>\n",
       "      <td>0.276530</td>\n",
       "      <td>1.000000</td>\n",
       "      <td>-0.262270</td>\n",
       "      <td>-0.203432</td>\n",
       "      <td>0.056003</td>\n",
       "    </tr>\n",
       "    <tr>\n",
       "      <td>SibSp</td>\n",
       "      <td>-0.033395</td>\n",
       "      <td>0.080937</td>\n",
       "      <td>-0.114799</td>\n",
       "      <td>-0.262270</td>\n",
       "      <td>1.000000</td>\n",
       "      <td>0.415141</td>\n",
       "      <td>0.211816</td>\n",
       "    </tr>\n",
       "    <tr>\n",
       "      <td>Parch</td>\n",
       "      <td>0.082157</td>\n",
       "      <td>0.018212</td>\n",
       "      <td>-0.247003</td>\n",
       "      <td>-0.203432</td>\n",
       "      <td>0.415141</td>\n",
       "      <td>1.000000</td>\n",
       "      <td>0.263910</td>\n",
       "    </tr>\n",
       "    <tr>\n",
       "      <td>Fare</td>\n",
       "      <td>0.261742</td>\n",
       "      <td>-0.604960</td>\n",
       "      <td>-0.222361</td>\n",
       "      <td>0.056003</td>\n",
       "      <td>0.211816</td>\n",
       "      <td>0.263910</td>\n",
       "      <td>1.000000</td>\n",
       "    </tr>\n",
       "  </tbody>\n",
       "</table>\n",
       "</div>"
      ],
      "text/plain": [
       "          Survived    Pclass       Sex       Age     SibSp     Parch      Fare\n",
       "Survived  1.000000 -0.334068 -0.545899 -0.175255 -0.033395  0.082157  0.261742\n",
       "Pclass   -0.334068  1.000000  0.132881 -0.289341  0.080937  0.018212 -0.604960\n",
       "Sex      -0.545899  0.132881  1.000000  0.276530 -0.114799 -0.247003 -0.222361\n",
       "Age      -0.175255 -0.289341  0.276530  1.000000 -0.262270 -0.203432  0.056003\n",
       "SibSp    -0.033395  0.080937 -0.114799 -0.262270  1.000000  0.415141  0.211816\n",
       "Parch     0.082157  0.018212 -0.247003 -0.203432  0.415141  1.000000  0.263910\n",
       "Fare      0.261742 -0.604960 -0.222361  0.056003  0.211816  0.263910  1.000000"
      ]
     },
     "execution_count": 15,
     "metadata": {},
     "output_type": "execute_result"
    }
   ],
   "source": [
    "train_df.corr()"
   ]
  },
  {
   "cell_type": "code",
   "execution_count": 16,
   "metadata": {
    "_cell_guid": "16090a1b-18df-42f9-b86b-a5586ad2aac1",
    "_uuid": "b43ebc10e3de5bece6e40d9689a93ce7e1bb8390"
   },
   "outputs": [
    {
     "data": {
      "text/plain": [
       "Text(0.5, 1.0, 'Correlations Among Features')"
      ]
     },
     "execution_count": 16,
     "metadata": {},
     "output_type": "execute_result"
    },
    {
     "data": {
      "image/png": "[encoded data removed]",
      "text/plain": [
       "<Figure size 1080x576 with 2 Axes>"
      ]
     },
     "metadata": {
      "needs_background": "light"
     },
     "output_type": "display_data"
    }
   ],
   "source": [
    "plt.subplots(figsize = (15,8))\n",
    "sns.heatmap(train_df.corr(), annot=True,cmap=\"PiYG\")\n",
    "plt.title(\"Correlations Among Features\", fontsize = 18)"
   ]
  },
  {
   "cell_type": "markdown",
   "execution_count": null,
   "metadata": {
    "_cell_guid": "1e426599-0321-4f6b-ac5f-007293a439ed",
    "_uuid": "7adfc1e0a299997874c72f9552cfb060b10a7319"
   },
   "source": [
    "**Positive Correlation Features:**\n",
    "- Fare and Survived: 0.26.\n",
    "\n",
    "There is a positive correlation between Fare and Survived rated. This can be explained by saying that, the passenger who paid more money for their ticket were more likely to survive. "
   ]
  },
  {
   "cell_type": "markdown",
   "execution_count": null,
   "metadata": {
    "_cell_guid": "f669afbe-1e70-4481-9d48-fa153ce56347",
    "_uuid": "25912ce6ca47e5b0be4479ce18e17e8ac67bd9b1"
   },
   "source": [
    "**Negative Correlation Features:**\n",
    "- Fare and Pclass: -0.55\n",
    " - This relationship can be explained by saying that first class passenger(1) paid more for fare then second class passenger(2), similarly second class passenger paid more than the third class passenger(3). \n",
    "- Gender and Survived: -0.54\n",
    " - Basically is the info of whether the passenger was male or female.\n",
    "- Pclass and Survived: -0.34"
   ]
  },
  {
   "cell_type": "markdown",
   "execution_count": null,
   "metadata": {
    "_cell_guid": "1c4c383d-695d-40d9-bfaa-9e33df5b59d5",
    "_uuid": "914e000313042274f77bc800534e1bbc29bb42c2"
   },
   "source": [
    "<a id=\"section402\"></a>\n",
    "#### 4.2 Gender and Survived\n"
   ]
  },
  {
   "cell_type": "code",
   "execution_count": 17,
   "metadata": {
    "_cell_guid": "2c855f0b-55ef-4d62-b3ac-619616957a38",
    "_uuid": "052a2dcf2a9768a8ab2ec6dd848502b1b63e6484"
   },
   "outputs": [
    {
     "data": {
      "text/plain": [
       "([<matplotlib.axis.XTick at 0x7f43e7039a58>,\n",
       "  <matplotlib.axis.XTick at 0x7f43e7039390>],\n",
       " <a list of 2 Text xticklabel objects>)"
      ]
     },
     "execution_count": 17,
     "metadata": {},
     "output_type": "execute_result"
    },
    {
     "data": {
      "image/png": "[encoded data removed]",
      "text/plain": [
       "<Figure size 1080x576 with 1 Axes>"
      ]
     },
     "metadata": {
      "needs_background": "light"
     },
     "output_type": "display_data"
    }
   ],
   "source": [
    "plt.subplots(figsize = (15,8))\n",
    "sns.barplot(x = \"Sex\", y = \"Survived\", data=train_df, edgecolor=(0,0,0), linewidth=2)\n",
    "plt.title(\"Survived/Non-Survived Passenger Gender Distribution\", fontsize = 25)\n",
    "labels = ['Female', 'Male']\n",
    "plt.ylabel(\"% of passenger survived\", fontsize = 15)\n",
    "plt.xlabel(\"Gender\",fontsize = 15)\n",
    "plt.xticks(sorted(train_df.Sex.unique()), labels)\n",
    "\n",
    "# 1 is for male and 0 is for female."
   ]
  },
  {
   "cell_type": "markdown",
   "execution_count": null,
   "metadata": {
    "_cell_guid": "d0bec67e-0780-4da9-b83e-4d0519937e46",
    "_uuid": "c313cc247f55c72e3893f38510cb1b0314cd1cf6"
   },
   "source": [
    "This bar plot above shows the distribution of female and male survived. The x_label shows gender and the y_label shows % of passenger survived. This bar plot shows that 74% female passenger survived while only ~19% male passenger survived."
   ]
  },
  {
   "cell_type": "code",
   "execution_count": 18,
   "metadata": {
    "_cell_guid": "d941afb5-1dfc-4afa-9f7a-4582f350f602",
    "_uuid": "57df5542d820aaa271eec30418539924cedf6dce"
   },
   "outputs": [
    {
     "data": {
      "image/png": "[encoded data removed]",
      "text/plain": [
       "<Figure size 1080x576 with 1 Axes>"
      ]
     },
     "metadata": {},
     "output_type": "display_data"
    }
   ],
   "source": [
    "sns.set(style='darkgrid')\n",
    "plt.subplots(figsize = (15,8))\n",
    "ax=sns.countplot(x='Sex',data=train_df,hue='Survived',edgecolor=(0,0,0),linewidth=2)\n",
    "train_df.shape\n",
    "## Fixing title, xlabel and ylabel\n",
    "plt.title('Passenger distribution of survived vs not-survived',fontsize=25)\n",
    "plt.xlabel('Gender',fontsize=15)\n",
    "plt.ylabel(\"# of Passenger Survived\", fontsize = 15)\n",
    "labels = ['Female', 'Male']\n",
    "#Fixing xticks.\n",
    "plt.xticks(sorted(train_df.Survived.unique()),labels)\n",
    "## Fixing legends\n",
    "leg = ax.get_legend()\n",
    "leg.set_title('Survived')\n",
    "legs=leg.texts\n",
    "legs[0].set_text('No')\n",
    "legs[1].set_text('Yes')\n"
   ]
  },
  {
   "cell_type": "markdown",
   "execution_count": null,
   "metadata": {
    "_cell_guid": "3c538f80-c4c9-40db-ad9e-73f040896979",
    "_uuid": "dd99171a2f134b1427ee1d2fdcfb5cc67d4b7e00"
   },
   "source": [
    "This count plot shows the actual distribution of male and female passengers that survived and did not survive. It shows that among all the females ~ 230 survived and ~ 70 did not survive. While among male passengers ~110 survived and ~480 did not survive."
   ]
  },
  {
   "cell_type": "markdown",
   "execution_count": null,
   "metadata": {
    "_cell_guid": "16977c5d-1f8c-45d5-968c-c0ee6f05f4ee",
    "_uuid": "a5caf4a2a419be5f33ef8d25f45fe4f4cdef7c0d"
   },
   "source": [
    "**Summary**\n",
    "- As we suspected, female passengers have survived at a much better rate than male passengers.\n",
    "- It seems about right since females and children were the priority."
   ]
  },
  {
   "cell_type": "markdown",
   "execution_count": null,
   "metadata": {
    "_cell_guid": "0a0116bb-7ba9-4674-aecf-5071c4654504",
    "_uuid": "656f31ef9e68f638c53e86800959dfbab73146d8"
   },
   "source": [
    "<a id=\"section403\"></a>\n",
    "#### 4.3 Pclass and Survived"
   ]
  },
  {
   "cell_type": "code",
   "execution_count": 19,
   "metadata": {
    "_cell_guid": "a4b0721b-9b73-4ce7-a603-4a6452937fb9",
    "_uuid": "2f4fc3528ab919f3c1f4feabfafffad0c8df8f41"
   },
   "outputs": [
    {
     "data": {
      "image/png": "[encoded data removed]",
      "text/plain": [
       "<Figure size 576x576 with 1 Axes>"
      ]
     },
     "metadata": {},
     "output_type": "display_data"
    }
   ],
   "source": [
    "plt.subplots(figsize = (8,8))\n",
    "ax=sns.countplot(x='Pclass',hue='Survived',data=train_df)\n",
    "plt.title(\"Passenger Class Distribution - Survived vs Non-Survived\", fontsize = 25)\n",
    "leg=ax.get_legend()\n",
    "leg.set_title('Survival')\n",
    "legs=leg.texts\n",
    "\n",
    "legs[0].set_text('No')\n",
    "legs[1].set_text(\"yes\")"
   ]
  },
  {
   "cell_type": "markdown",
   "execution_count": null,
   "metadata": {
    "_cell_guid": "c4d33abf-7e9b-4e51-bb71-083433f2842b",
    "_uuid": "c1b5a8e631da65a89e17c720ebd34188ffa86ae6"
   },
   "source": [
    "So it clearly seems that,The survival of the people belong to 3rd class is very least.\n",
    "It looks like ...\n",
    "-  63% first class passenger survived titanic tragedy, while\n",
    "-  48% second class and\n",
    "-  only 24% third class passenger survived."
   ]
  },
  {
   "cell_type": "code",
   "execution_count": 20,
   "metadata": {
    "_cell_guid": "ae90e165-2447-4874-a134-b598d1cf1d66",
    "_uuid": "9fc1e7f34be0b4ccef6fe8cca67af458e8685675"
   },
   "outputs": [
    {
     "data": {
      "text/plain": [
       "([<matplotlib.axis.XTick at 0x7f43e7275208>,\n",
       "  <matplotlib.axis.XTick at 0x7f43e7272a58>,\n",
       "  <matplotlib.axis.XTick at 0x7f43e7272748>],\n",
       " <a list of 3 Text xticklabel objects>)"
      ]
     },
     "execution_count": 20,
     "metadata": {},
     "output_type": "execute_result"
    },
    {
     "data": {
      "image/png": "[encoded data removed]",
      "text/plain": [
       "<Figure size 720x576 with 1 Axes>"
      ]
     },
     "metadata": {},
     "output_type": "display_data"
    }
   ],
   "source": [
    "plt.subplots(figsize=(10,8))\n",
    "sns.kdeplot(train_df.loc[(train_df['Survived'] == 0),'Pclass'],shade=True,color='r',label='Not Survived')\n",
    "ax=sns.kdeplot(train_df.loc[(train_df['Survived'] == 1),'Pclass'],shade=True,color='b',label='Survived' )\n",
    "\n",
    "labels = ['First', 'Second', 'Third']\n",
    "plt.xticks(sorted(train_df.Pclass.unique()),labels)"
   ]
  },
  {
   "cell_type": "markdown",
   "execution_count": null,
   "metadata": {
    "_cell_guid": "41198dd6-df4b-4141-9ac6-231587cd5dfc",
    "_uuid": "7abfa2c32147c87da4f14168c8d97347a88906fc"
   },
   "source": [
    "This kde plot is pretty self explanatory with all the labels and colors. Something I have noticed that some readers might find questionable is that in, the plot; the third class passengers have survived more than second class passnegers. It is true since there were a lot more third class passengers than first and second.\n",
    "\n"
   ]
  },
  {
   "cell_type": "markdown",
   "execution_count": null,
   "metadata": {
    "_cell_guid": "b62a0e18-82b2-4504-9638-52d24a0f8f19",
    "_uuid": "5911ebd52d73575f2387de5fc12d7bb773f535c9"
   },
   "source": [
    "**Summary**\n",
    "\n",
    "First class passenger had the upper hand during the tragedy than second and third class passengers. You can probably agree with me more on this, when we look at the distribution of ticket fare and survived column."
   ]
  },
  {
   "cell_type": "markdown",
   "execution_count": null,
   "metadata": {
    "_cell_guid": "2e021638-f2a3-4135-b256-5f233113b6e3",
    "_uuid": "4daef6e2a23fb60c039419033df2f41647694826"
   },
   "source": [
    "<a id=\"section404\"></a>\n",
    "#### 4.4 Fare and Survived"
   ]
  },
  {
   "cell_type": "code",
   "execution_count": 21,
   "metadata": {
    "_cell_guid": "d5acbedb-b208-4902-8689-774165f32580",
    "_uuid": "d861942b6956508110365331a86102cb47272164"
   },
   "outputs": [
    {
     "data": {
      "text/plain": [
       "Text(0.5, 0, 'Fare')"
      ]
     },
     "execution_count": 21,
     "metadata": {},
     "output_type": "execute_result"
    },
    {
     "data": {
      "image/png": "[encoded data removed]",
      "text/plain": [
       "<Figure size 1080x720 with 1 Axes>"
      ]
     },
     "metadata": {},
     "output_type": "display_data"
    }
   ],
   "source": [
    "plt.subplots(figsize=(15,10))\n",
    "\n",
    "ax=sns.kdeplot(train_df.loc[(train_df['Survived'] == 0),'Fare'],color='r',shade=True,label='Not Survived')\n",
    "ax=sns.kdeplot(train_df.loc[(train_df['Survived'] == 1),'Fare'],color='b',shade=True,label='Survived' )\n",
    "plt.title('Fare Distribution Survived vs Non Survived',fontsize=25)\n",
    "plt.ylabel('Frequency of Passenger Survived',fontsize=20)\n",
    "plt.xlabel('Fare',fontsize=20)"
   ]
  },
  {
   "cell_type": "code",
   "execution_count": 22,
   "metadata": {
    "_cell_guid": "a5c09770-06af-40e4-b2e2-9b7c0db3a9de",
    "_uuid": "6afe4c82340eb2c955d7a115f18f063126aaecd8"
   },
   "outputs": [
    {
     "data": {
      "text/html": [
       "<div>\n",
       "<style scoped>\n",
       "    .dataframe tbody tr th:only-of-type {\n",
       "        vertical-align: middle;\n",
       "    }\n",
       "\n",
       "    .dataframe tbody tr th {\n",
       "        vertical-align: top;\n",
       "    }\n",
       "\n",
       "    .dataframe thead th {\n",
       "        text-align: right;\n",
       "    }\n",
       "</style>\n",
       "<table border=\"1\" class=\"dataframe\">\n",
       "  <thead>\n",
       "    <tr style=\"text-align: right;\">\n",
       "      <th></th>\n",
       "      <th>Survived</th>\n",
       "      <th>Pclass</th>\n",
       "      <th>Name</th>\n",
       "      <th>Sex</th>\n",
       "      <th>Age</th>\n",
       "      <th>SibSp</th>\n",
       "      <th>Parch</th>\n",
       "      <th>Ticket</th>\n",
       "      <th>Fare</th>\n",
       "      <th>Cabin</th>\n",
       "      <th>Embarked</th>\n",
       "      <th>Title</th>\n",
       "    </tr>\n",
       "  </thead>\n",
       "  <tbody>\n",
       "    <tr>\n",
       "      <td>0</td>\n",
       "      <td>0</td>\n",
       "      <td>3</td>\n",
       "      <td>Braund, Mr. Owen Harris</td>\n",
       "      <td>1</td>\n",
       "      <td>22.0</td>\n",
       "      <td>1</td>\n",
       "      <td>0</td>\n",
       "      <td>A/5 21171</td>\n",
       "      <td>7.2500</td>\n",
       "      <td>NaN</td>\n",
       "      <td>S</td>\n",
       "      <td>Mr</td>\n",
       "    </tr>\n",
       "    <tr>\n",
       "      <td>1</td>\n",
       "      <td>1</td>\n",
       "      <td>1</td>\n",
       "      <td>Cumings, Mrs. John Bradley (Florence Briggs Th...</td>\n",
       "      <td>0</td>\n",
       "      <td>38.0</td>\n",
       "      <td>1</td>\n",
       "      <td>0</td>\n",
       "      <td>PC 17599</td>\n",
       "      <td>71.2833</td>\n",
       "      <td>C85</td>\n",
       "      <td>C</td>\n",
       "      <td>Mrs</td>\n",
       "    </tr>\n",
       "    <tr>\n",
       "      <td>2</td>\n",
       "      <td>1</td>\n",
       "      <td>3</td>\n",
       "      <td>Heikkinen, Miss. Laina</td>\n",
       "      <td>0</td>\n",
       "      <td>26.0</td>\n",
       "      <td>0</td>\n",
       "      <td>0</td>\n",
       "      <td>STON/O2. 3101282</td>\n",
       "      <td>7.9250</td>\n",
       "      <td>NaN</td>\n",
       "      <td>S</td>\n",
       "      <td>Miss</td>\n",
       "    </tr>\n",
       "    <tr>\n",
       "      <td>3</td>\n",
       "      <td>1</td>\n",
       "      <td>1</td>\n",
       "      <td>Futrelle, Mrs. Jacques Heath (Lily May Peel)</td>\n",
       "      <td>0</td>\n",
       "      <td>35.0</td>\n",
       "      <td>1</td>\n",
       "      <td>0</td>\n",
       "      <td>113803</td>\n",
       "      <td>53.1000</td>\n",
       "      <td>C123</td>\n",
       "      <td>S</td>\n",
       "      <td>Mrs</td>\n",
       "    </tr>\n",
       "    <tr>\n",
       "      <td>4</td>\n",
       "      <td>0</td>\n",
       "      <td>3</td>\n",
       "      <td>Allen, Mr. William Henry</td>\n",
       "      <td>1</td>\n",
       "      <td>35.0</td>\n",
       "      <td>0</td>\n",
       "      <td>0</td>\n",
       "      <td>373450</td>\n",
       "      <td>8.0500</td>\n",
       "      <td>NaN</td>\n",
       "      <td>S</td>\n",
       "      <td>Mr</td>\n",
       "    </tr>\n",
       "  </tbody>\n",
       "</table>\n",
       "</div>"
      ],
      "text/plain": [
       "   Survived  Pclass                                               Name  Sex  \\\n",
       "0         0       3                            Braund, Mr. Owen Harris    1   \n",
       "1         1       1  Cumings, Mrs. John Bradley (Florence Briggs Th...    0   \n",
       "2         1       3                             Heikkinen, Miss. Laina    0   \n",
       "3         1       1       Futrelle, Mrs. Jacques Heath (Lily May Peel)    0   \n",
       "4         0       3                           Allen, Mr. William Henry    1   \n",
       "\n",
       "    Age  SibSp  Parch            Ticket     Fare Cabin Embarked Title  \n",
       "0  22.0      1      0         A/5 21171   7.2500   NaN        S    Mr  \n",
       "1  38.0      1      0          PC 17599  71.2833   C85        C   Mrs  \n",
       "2  26.0      0      0  STON/O2. 3101282   7.9250   NaN        S  Miss  \n",
       "3  35.0      1      0            113803  53.1000  C123        S   Mrs  \n",
       "4  35.0      0      0            373450   8.0500   NaN        S    Mr  "
      ]
     },
     "execution_count": 22,
     "metadata": {},
     "output_type": "execute_result"
    }
   ],
   "source": [
    "train_df.head()"
   ]
  },
  {
   "cell_type": "markdown",
   "execution_count": null,
   "metadata": {
    "_cell_guid": "f4c533f3-55bd-4bb3-8600-a7ce66e5e93d",
    "_uuid": "7971d529bdc11a14b69dbc4618a0410fbd8668be"
   },
   "source": [
    "<a id=\"section405\"></a>\n",
    "#### 4.5 Age and Survived"
   ]
  },
  {
   "cell_type": "code",
   "execution_count": 23,
   "metadata": {
    "_cell_guid": "86c2804f-860f-4fdc-8776-9a210a93621e",
    "_uuid": "1c300367f4319500e5c8612106779cdfd5d5072d"
   },
   "outputs": [
    {
     "data": {
      "text/plain": [
       "<matplotlib.axes._subplots.AxesSubplot at 0x7f43e71a0a20>"
      ]
     },
     "execution_count": 23,
     "metadata": {},
     "output_type": "execute_result"
    },
    {
     "data": {
      "image/png": "[encoded data removed]",
      "text/plain": [
       "<Figure size 720x576 with 1 Axes>"
      ]
     },
     "metadata": {},
     "output_type": "display_data"
    }
   ],
   "source": [
    "#fig,axs=plt.subplots(nrows=2)\n",
    "fig,axs=plt.subplots(figsize=(10,8))\n",
    "sns.set_style(style='darkgrid')\n",
    "sns.kdeplot(train_df.loc[(train_df['Survived']==0),'Age'],color='r',shade=True,label='Not Survived')\n",
    "sns.kdeplot(train_df.loc[(train_df['Survived']==1),'Age'],color='b',shade=True,label='Survived')\n"
   ]
  },
  {
   "cell_type": "markdown",
   "execution_count": null,
   "metadata": {
    "_cell_guid": "eb1f2f16-def3-4d19-b704-811bbc25c72c",
    "_uuid": "3a789a48830f2e10c265b98260db51061dce0517"
   },
   "source": [
    "There is nothing out of the ordinary of about this plot, except the very left part of the distribution. It shows that\n",
    "\n",
    "children and infants were the priority."
   ]
  },
  {
   "cell_type": "markdown",
   "execution_count": null,
   "metadata": {
    "_cell_guid": "12f48d08-4713-4c5a-865b-b72f5eb9bff3",
    "_uuid": "16cddb293471f69a4bb22bd7380386460424728f"
   },
   "source": [
    "<a id=\"section5\"></a>\n",
    "### 5. Feature Engineering"
   ]
  },
  {
   "cell_type": "code",
   "execution_count": 24,
   "metadata": {
    "_cell_guid": "ea2e1b9f-4d55-4fd2-8b2d-3180d3a03289",
    "_uuid": "49645a739b3e59778cb92392fa787a787cd6b051"
   },
   "outputs": [
    {
     "data": {
      "text/html": [
       "<div>\n",
       "<style scoped>\n",
       "    .dataframe tbody tr th:only-of-type {\n",
       "        vertical-align: middle;\n",
       "    }\n",
       "\n",
       "    .dataframe tbody tr th {\n",
       "        vertical-align: top;\n",
       "    }\n",
       "\n",
       "    .dataframe thead th {\n",
       "        text-align: right;\n",
       "    }\n",
       "</style>\n",
       "<table border=\"1\" class=\"dataframe\">\n",
       "  <thead>\n",
       "    <tr style=\"text-align: right;\">\n",
       "      <th></th>\n",
       "      <th>Survived</th>\n",
       "      <th>Pclass</th>\n",
       "      <th>Name</th>\n",
       "      <th>Sex</th>\n",
       "      <th>Age</th>\n",
       "      <th>SibSp</th>\n",
       "      <th>Parch</th>\n",
       "      <th>Ticket</th>\n",
       "      <th>Fare</th>\n",
       "      <th>Cabin</th>\n",
       "      <th>Embarked</th>\n",
       "      <th>Title</th>\n",
       "    </tr>\n",
       "  </thead>\n",
       "  <tbody>\n",
       "    <tr>\n",
       "      <td>0</td>\n",
       "      <td>0</td>\n",
       "      <td>3</td>\n",
       "      <td>Braund, Mr. Owen Harris</td>\n",
       "      <td>1</td>\n",
       "      <td>22.0</td>\n",
       "      <td>1</td>\n",
       "      <td>0</td>\n",
       "      <td>A/5 21171</td>\n",
       "      <td>7.2500</td>\n",
       "      <td>NaN</td>\n",
       "      <td>S</td>\n",
       "      <td>Mr</td>\n",
       "    </tr>\n",
       "    <tr>\n",
       "      <td>1</td>\n",
       "      <td>1</td>\n",
       "      <td>1</td>\n",
       "      <td>Cumings, Mrs. John Bradley (Florence Briggs Th...</td>\n",
       "      <td>0</td>\n",
       "      <td>38.0</td>\n",
       "      <td>1</td>\n",
       "      <td>0</td>\n",
       "      <td>PC 17599</td>\n",
       "      <td>71.2833</td>\n",
       "      <td>C85</td>\n",
       "      <td>C</td>\n",
       "      <td>Mrs</td>\n",
       "    </tr>\n",
       "    <tr>\n",
       "      <td>2</td>\n",
       "      <td>1</td>\n",
       "      <td>3</td>\n",
       "      <td>Heikkinen, Miss. Laina</td>\n",
       "      <td>0</td>\n",
       "      <td>26.0</td>\n",
       "      <td>0</td>\n",
       "      <td>0</td>\n",
       "      <td>STON/O2. 3101282</td>\n",
       "      <td>7.9250</td>\n",
       "      <td>NaN</td>\n",
       "      <td>S</td>\n",
       "      <td>Miss</td>\n",
       "    </tr>\n",
       "    <tr>\n",
       "      <td>3</td>\n",
       "      <td>1</td>\n",
       "      <td>1</td>\n",
       "      <td>Futrelle, Mrs. Jacques Heath (Lily May Peel)</td>\n",
       "      <td>0</td>\n",
       "      <td>35.0</td>\n",
       "      <td>1</td>\n",
       "      <td>0</td>\n",
       "      <td>113803</td>\n",
       "      <td>53.1000</td>\n",
       "      <td>C123</td>\n",
       "      <td>S</td>\n",
       "      <td>Mrs</td>\n",
       "    </tr>\n",
       "    <tr>\n",
       "      <td>4</td>\n",
       "      <td>0</td>\n",
       "      <td>3</td>\n",
       "      <td>Allen, Mr. William Henry</td>\n",
       "      <td>1</td>\n",
       "      <td>35.0</td>\n",
       "      <td>0</td>\n",
       "      <td>0</td>\n",
       "      <td>373450</td>\n",
       "      <td>8.0500</td>\n",
       "      <td>NaN</td>\n",
       "      <td>S</td>\n",
       "      <td>Mr</td>\n",
       "    </tr>\n",
       "  </tbody>\n",
       "</table>\n",
       "</div>"
      ],
      "text/plain": [
       "   Survived  Pclass                                               Name  Sex  \\\n",
       "0         0       3                            Braund, Mr. Owen Harris    1   \n",
       "1         1       1  Cumings, Mrs. John Bradley (Florence Briggs Th...    0   \n",
       "2         1       3                             Heikkinen, Miss. Laina    0   \n",
       "3         1       1       Futrelle, Mrs. Jacques Heath (Lily May Peel)    0   \n",
       "4         0       3                           Allen, Mr. William Henry    1   \n",
       "\n",
       "    Age  SibSp  Parch            Ticket     Fare Cabin Embarked Title  \n",
       "0  22.0      1      0         A/5 21171   7.2500   NaN        S    Mr  \n",
       "1  38.0      1      0          PC 17599  71.2833   C85        C   Mrs  \n",
       "2  26.0      0      0  STON/O2. 3101282   7.9250   NaN        S  Miss  \n",
       "3  35.0      1      0            113803  53.1000  C123        S   Mrs  \n",
       "4  35.0      0      0            373450   8.0500   NaN        S    Mr  "
      ]
     },
     "execution_count": 24,
     "metadata": {},
     "output_type": "execute_result"
    }
   ],
   "source": [
    "train_df.head()"
   ]
  },
  {
   "cell_type": "markdown",
   "execution_count": null,
   "metadata": {
    "_cell_guid": "7139adcc-cf98-47be-b39b-196ab3b784b9",
    "_uuid": "024fdc05d5871bf394532e1d9a8cc7ee7116d6fb",
    "collapsed": true
   },
   "source": [
    "<a id=\"section501\"></a>\n",
    "#### 5.1 family_size feature"
   ]
  },
  {
   "cell_type": "code",
   "execution_count": 25,
   "metadata": {
    "_cell_guid": "f6e08596-a185-4ea7-919c-b1f2e4133dd1",
    "_uuid": "f1c514491911b86dac10104854baf9dccdc65100"
   },
   "outputs": [],
   "source": [
    "## Family_size seems like a good feature to create\n",
    "train_df['family_size'] = train_df.SibSp + train_df.Parch+1\n",
    "test_df['family_size'] = test_df.SibSp + test_df.Parch+1\n"
   ]
  },
  {
   "cell_type": "code",
   "execution_count": 26,
   "metadata": {
    "_cell_guid": "c30bd0d7-17b6-43b8-aa23-36a50abaa03a",
    "_uuid": "a3b3f821f31565db9f5d77cf9181f6cac7f50ffd"
   },
   "outputs": [],
   "source": [
    "def family_group(size):\n",
    "    a = ''\n",
    "    if (size <= 1):\n",
    "        a = 'loner'\n",
    "    elif (size <= 4):\n",
    "        a = 'small'\n",
    "    else:\n",
    "        a = 'large'\n",
    "    return a\n",
    "\n",
    "train_df['family_group'] = train_df['family_size'].map(family_group)\n",
    "test_df['family_group'] = test_df['family_size'].map(family_group)"
   ]
  },
  {
   "cell_type": "markdown",
   "execution_count": null,
   "metadata": {
    "_cell_guid": "2cb3fc55-a9d9-48d4-9510-4ae5c2a220bb",
    "_uuid": "d9bb8fc0201011b71208b1d503132500349c0c18"
   },
   "source": [
    "<a id=\"section502\"></a>\n",
    "#### 5.2 Is_alone feature"
   ]
  },
  {
   "cell_type": "code",
   "execution_count": 27,
   "metadata": {
    "_cell_guid": "ff4a88fd-0125-4077-83f4-94a91d4042b0",
    "_uuid": "d92ba0d6e1750aa8086252a3b2b69c1e84b96746"
   },
   "outputs": [],
   "source": [
    "train_df['is_alone'] = [1 if i<2 else 0 for i in train_df.family_size]\n",
    "test_df['is_alone'] = [1 if i<2 else 0 for i in test_df.family_size]"
   ]
  },
  {
   "cell_type": "markdown",
   "execution_count": null,
   "metadata": {
    "_cell_guid": "8d42849e-d169-4f09-a3ca-80610d57fdfc",
    "_uuid": "e1dde219e7cefd274d249c23bbbec8e55812eaaa"
   },
   "source": [
    "<a id=\"section503\"></a>\n",
    "\n",
    "#### 5.3 Child feature"
   ]
  },
  {
   "cell_type": "code",
   "execution_count": 28,
   "metadata": {
    "_cell_guid": "f1590241-6e4f-46e0-a80d-9cfbed40cd53",
    "_uuid": "d7e91154a98a8d1437d5f56d4467f410be759e50"
   },
   "outputs": [
    {
     "data": {
      "text/plain": [
       "0    769\n",
       "1    119\n",
       "Name: child, dtype: int64"
      ]
     },
     "execution_count": 28,
     "metadata": {},
     "output_type": "execute_result"
    }
   ],
   "source": [
    "## We are going to create a new feature \"age\" from the Age feature. \n",
    "train_df['child'] = [1 if i<16 else 0 for i in train_df.Age]\n",
    "test_df['child'] = [1 if i<16 else 0 for i in test_df.Age]\n",
    "train_df.child.value_counts()"
   ]
  },
  {
   "cell_type": "markdown",
   "execution_count": null,
   "metadata": {
    "_cell_guid": "0ffba383-3ad5-4c0d-9003-bc74dde2da48",
    "_uuid": "f3a9f40665de7620e215f07617a19b7674b5dbe4"
   },
   "source": [
    "<a id=\"section504\"></a>\n",
    "#### 5.4 fare feature"
   ]
  },
  {
   "cell_type": "code",
   "execution_count": 29,
   "metadata": {
    "_cell_guid": "305a1f4f-86f5-4a76-b597-0234fbaa43e4",
    "_uuid": "89ebecbd23a61a98b81d6c410c1da3de9f147b89"
   },
   "outputs": [
    {
     "data": {
      "text/html": [
       "<div>\n",
       "<style scoped>\n",
       "    .dataframe tbody tr th:only-of-type {\n",
       "        vertical-align: middle;\n",
       "    }\n",
       "\n",
       "    .dataframe tbody tr th {\n",
       "        vertical-align: top;\n",
       "    }\n",
       "\n",
       "    .dataframe thead th {\n",
       "        text-align: right;\n",
       "    }\n",
       "</style>\n",
       "<table border=\"1\" class=\"dataframe\">\n",
       "  <thead>\n",
       "    <tr style=\"text-align: right;\">\n",
       "      <th></th>\n",
       "      <th>Survived</th>\n",
       "      <th>Pclass</th>\n",
       "      <th>Name</th>\n",
       "      <th>Sex</th>\n",
       "      <th>Age</th>\n",
       "      <th>SibSp</th>\n",
       "      <th>Parch</th>\n",
       "      <th>Ticket</th>\n",
       "      <th>Fare</th>\n",
       "      <th>Cabin</th>\n",
       "      <th>Embarked</th>\n",
       "      <th>Title</th>\n",
       "      <th>family_size</th>\n",
       "      <th>family_group</th>\n",
       "      <th>is_alone</th>\n",
       "      <th>child</th>\n",
       "    </tr>\n",
       "  </thead>\n",
       "  <tbody>\n",
       "    <tr>\n",
       "      <td>0</td>\n",
       "      <td>0</td>\n",
       "      <td>3</td>\n",
       "      <td>Braund, Mr. Owen Harris</td>\n",
       "      <td>1</td>\n",
       "      <td>22.0</td>\n",
       "      <td>1</td>\n",
       "      <td>0</td>\n",
       "      <td>A/5 21171</td>\n",
       "      <td>7.2500</td>\n",
       "      <td>NaN</td>\n",
       "      <td>S</td>\n",
       "      <td>Mr</td>\n",
       "      <td>2</td>\n",
       "      <td>small</td>\n",
       "      <td>0</td>\n",
       "      <td>0</td>\n",
       "    </tr>\n",
       "    <tr>\n",
       "      <td>1</td>\n",
       "      <td>1</td>\n",
       "      <td>1</td>\n",
       "      <td>Cumings, Mrs. John Bradley (Florence Briggs Th...</td>\n",
       "      <td>0</td>\n",
       "      <td>38.0</td>\n",
       "      <td>1</td>\n",
       "      <td>0</td>\n",
       "      <td>PC 17599</td>\n",
       "      <td>71.2833</td>\n",
       "      <td>C85</td>\n",
       "      <td>C</td>\n",
       "      <td>Mrs</td>\n",
       "      <td>2</td>\n",
       "      <td>small</td>\n",
       "      <td>0</td>\n",
       "      <td>0</td>\n",
       "    </tr>\n",
       "    <tr>\n",
       "      <td>2</td>\n",
       "      <td>1</td>\n",
       "      <td>3</td>\n",
       "      <td>Heikkinen, Miss. Laina</td>\n",
       "      <td>0</td>\n",
       "      <td>26.0</td>\n",
       "      <td>0</td>\n",
       "      <td>0</td>\n",
       "      <td>STON/O2. 3101282</td>\n",
       "      <td>7.9250</td>\n",
       "      <td>NaN</td>\n",
       "      <td>S</td>\n",
       "      <td>Miss</td>\n",
       "      <td>1</td>\n",
       "      <td>loner</td>\n",
       "      <td>1</td>\n",
       "      <td>0</td>\n",
       "    </tr>\n",
       "    <tr>\n",
       "      <td>3</td>\n",
       "      <td>1</td>\n",
       "      <td>1</td>\n",
       "      <td>Futrelle, Mrs. Jacques Heath (Lily May Peel)</td>\n",
       "      <td>0</td>\n",
       "      <td>35.0</td>\n",
       "      <td>1</td>\n",
       "      <td>0</td>\n",
       "      <td>113803</td>\n",
       "      <td>53.1000</td>\n",
       "      <td>C123</td>\n",
       "      <td>S</td>\n",
       "      <td>Mrs</td>\n",
       "      <td>2</td>\n",
       "      <td>small</td>\n",
       "      <td>0</td>\n",
       "      <td>0</td>\n",
       "    </tr>\n",
       "    <tr>\n",
       "      <td>4</td>\n",
       "      <td>0</td>\n",
       "      <td>3</td>\n",
       "      <td>Allen, Mr. William Henry</td>\n",
       "      <td>1</td>\n",
       "      <td>35.0</td>\n",
       "      <td>0</td>\n",
       "      <td>0</td>\n",
       "      <td>373450</td>\n",
       "      <td>8.0500</td>\n",
       "      <td>NaN</td>\n",
       "      <td>S</td>\n",
       "      <td>Mr</td>\n",
       "      <td>1</td>\n",
       "      <td>loner</td>\n",
       "      <td>1</td>\n",
       "      <td>0</td>\n",
       "    </tr>\n",
       "  </tbody>\n",
       "</table>\n",
       "</div>"
      ],
      "text/plain": [
       "   Survived  Pclass                                               Name  Sex  \\\n",
       "0         0       3                            Braund, Mr. Owen Harris    1   \n",
       "1         1       1  Cumings, Mrs. John Bradley (Florence Briggs Th...    0   \n",
       "2         1       3                             Heikkinen, Miss. Laina    0   \n",
       "3         1       1       Futrelle, Mrs. Jacques Heath (Lily May Peel)    0   \n",
       "4         0       3                           Allen, Mr. William Henry    1   \n",
       "\n",
       "    Age  SibSp  Parch            Ticket     Fare Cabin Embarked Title  \\\n",
       "0  22.0      1      0         A/5 21171   7.2500   NaN        S    Mr   \n",
       "1  38.0      1      0          PC 17599  71.2833   C85        C   Mrs   \n",
       "2  26.0      0      0  STON/O2. 3101282   7.9250   NaN        S  Miss   \n",
       "3  35.0      1      0            113803  53.1000  C123        S   Mrs   \n",
       "4  35.0      0      0            373450   8.0500   NaN        S    Mr   \n",
       "\n",
       "   family_size family_group  is_alone  child  \n",
       "0            2        small         0      0  \n",
       "1            2        small         0      0  \n",
       "2            1        loner         1      0  \n",
       "3            2        small         0      0  \n",
       "4            1        loner         1      0  "
      ]
     },
     "execution_count": 29,
     "metadata": {},
     "output_type": "execute_result"
    }
   ],
   "source": [
    "train_df.head()\n",
    "#test_df.head()"
   ]
  },
  {
   "cell_type": "markdown",
   "execution_count": null,
   "metadata": {
    "_cell_guid": "a4393220-eee2-47b4-bff1-633dbc1dd560",
    "_uuid": "66dfaa765056f4ec26edbf9a302c49eb3ac13689"
   },
   "source": [
    "<a id=\"section505\"></a>\n",
    "#### 5.5 Calculated_fare feature"
   ]
  },
  {
   "cell_type": "code",
   "execution_count": 30,
   "metadata": {
    "_cell_guid": "86acada0-c9aa-41f0-82bb-849827f2f276",
    "_uuid": "e158e3a883bd2c41ad2438a355681a3a86bf8afb"
   },
   "outputs": [],
   "source": [
    "train_df['calculated_fare'] = train_df.Fare/train_df.family_size\n",
    "test_df['calculated_fare'] = test_df.Fare/test_df.family_size\n"
   ]
  },
  {
   "cell_type": "code",
   "execution_count": 31,
   "metadata": {
    "_cell_guid": "847baa1f-0120-4be5-bc71-e1cc45e51003",
    "_uuid": "a7155eb7274018a301e451a548edbf76f7b3b076"
   },
   "outputs": [
    {
     "data": {
      "text/plain": [
       "18.54129191972815"
      ]
     },
     "execution_count": 31,
     "metadata": {},
     "output_type": "execute_result"
    }
   ],
   "source": [
    "train_df.calculated_fare.mean()"
   ]
  },
  {
   "cell_type": "code",
   "execution_count": 32,
   "metadata": {
    "_cell_guid": "06cf50bf-00d9-413f-9486-fe1d300b1704",
    "_uuid": "12c51de669b24e2d20540c265d50435cc0e6af63"
   },
   "outputs": [
    {
     "data": {
      "text/plain": [
       "0    13.0\n",
       "dtype: float64"
      ]
     },
     "execution_count": 32,
     "metadata": {},
     "output_type": "execute_result"
    }
   ],
   "source": [
    "train_df.calculated_fare.mode()"
   ]
  },
  {
   "cell_type": "code",
   "execution_count": 33,
   "metadata": {
    "_cell_guid": "45db24ea-65a4-478e-b255-0a41f0bd764f",
    "_uuid": "26de5c4c179c5c386d0d183fad03418ba38b4496"
   },
   "outputs": [],
   "source": [
    "def fare_group(fare):\n",
    "    a= ''\n",
    "    if fare <= 4:\n",
    "        a = 'Very_low'\n",
    "    elif fare <= 10:\n",
    "        a = 'low'\n",
    "    elif fare <= 20:\n",
    "        a = 'mid'\n",
    "    elif fare <= 45:\n",
    "        a = 'high'\n",
    "    else:\n",
    "        a = \"very_high\"\n",
    "    return a\n"
   ]
  },
  {
   "cell_type": "code",
   "execution_count": 34,
   "metadata": {
    "_cell_guid": "d9fa86c9-5fc2-4b48-81d4-c456722b8c04",
    "_uuid": "9d60e2b94aff4c3ea286c9c0d196e5a0ffe4e165"
   },
   "outputs": [],
   "source": [
    "train_df['fare_group'] = train_df['calculated_fare'].map(fare_group)\n",
    "test_df['fare_group'] = test_df['calculated_fare'].map(fare_group)"
   ]
  },
  {
   "cell_type": "markdown",
   "execution_count": null,
   "metadata": {
    "_cell_guid": "c4e78e94-401e-4721-8302-69119d7ed55f",
    "_uuid": "0e4a1ca25f0aac8e947e2315cc1345790feb9931"
   },
   "source": [
    "<a id=\"section506\"></a>\n",
    "#### 5.6 Creating dummy variables"
   ]
  },
  {
   "cell_type": "code",
   "execution_count": 35,
   "metadata": {
    "_cell_guid": "b616c14f-067f-4ae3-bd64-cc739a54c203",
    "_uuid": "99b06518780e4ed1164ca377564b1677a17cd028"
   },
   "outputs": [],
   "source": [
    "train_df = pd.get_dummies(train_df, columns=['Title',\"Pclass\",'Embarked', 'family_group', 'fare_group'], drop_first=True)\n",
    "test_df = pd.get_dummies(test_df, columns=['Title',\"Pclass\",'Embarked', 'family_group', 'fare_group'], drop_first=True)\n",
    "train_df.drop(['Cabin', 'family_size','Ticket','Name', 'Fare'], axis=1, inplace=True)\n",
    "test_df.drop(['Ticket','Name','family_size',\"Fare\",'Cabin'], axis=1, inplace=True)\n"
   ]
  },
  {
   "cell_type": "code",
   "execution_count": 36,
   "metadata": {
    "_cell_guid": "e33fc358-caa0-4877-9765-fec26948f828",
    "_uuid": "b0a532e05264acc8bb52059138ac224f41598fd4"
   },
   "outputs": [],
   "source": [
    "pd.options.display.max_columns = 99\n"
   ]
  },
  {
   "cell_type": "code",
   "execution_count": 37,
   "metadata": {
    "_cell_guid": "d18a6c60-c97b-40e2-9a07-96a02dbd91de",
    "_uuid": "0b6b6c9e358686bf140b2222cbd8e531a9198635"
   },
   "outputs": [],
   "source": [
    "def age_group_fun(age):\n",
    "    a = ''\n",
    "    if age <= 1:\n",
    "        a = 'infant'\n",
    "    elif age <= 4: \n",
    "        a = 'toddler'\n",
    "    elif age <= 13:\n",
    "        a = 'child'\n",
    "    elif age <= 18:\n",
    "        a = 'teenager'\n",
    "    elif age <= 35:\n",
    "        a = 'Young_Adult'\n",
    "    elif age <= 45:\n",
    "        a = 'adult'\n",
    "    elif age <= 55:\n",
    "        a = 'middle_aged'\n",
    "    elif age <= 65:\n",
    "        a = 'senior_citizen'\n",
    "    else:\n",
    "        a = 'old'\n",
    "    return a\n",
    "        "
   ]
  },
  {
   "cell_type": "code",
   "execution_count": 38,
   "metadata": {
    "_cell_guid": "8286b453-ae8d-4e44-a909-e7db3c64f16a",
    "_uuid": "b42af7b368724a894590a577b8efc85e972d598d"
   },
   "outputs": [],
   "source": [
    "train_df['age_group'] = train_df['Age'].map(age_group_fun)\n",
    "test_df['age_group'] = test_df['Age'].map(age_group_fun)"
   ]
  },
  {
   "cell_type": "code",
   "execution_count": 39,
   "metadata": {
    "_cell_guid": "2fa2f956-2349-4671-8e17-6ed040e33660",
    "_uuid": "2fcf41b6d5a6dddb75595528d5d1a6083bf8d7ae"
   },
   "outputs": [],
   "source": [
    "train_df = pd.get_dummies(train_df,columns=['age_group'], drop_first=True)\n",
    "test_df = pd.get_dummies(test_df,columns=['age_group'], drop_first=True)\n",
    "#Lets try all after dropping few of the column.\n",
    "train_df.drop(['Age','calculated_fare'],axis=1,inplace=True)\n",
    "test_df.drop(['Age','calculated_fare'],axis=1,inplace=True)"
   ]
  },
  {
   "cell_type": "code",
   "execution_count": 40,
   "metadata": {
    "_cell_guid": "359dda98-af21-4fa2-9d89-f803396e2a5c",
    "_uuid": "41f6405f22b2ad4bdde499090062289dc2679c3a"
   },
   "outputs": [],
   "source": [
    "#age=pd.cut(data_df['Age'],4)\n",
    "#data_df['Age2']=label.fit_transform(age)\n",
    "#fare=pd.cut(data_df['Fare'],4)\n",
    "#data_df['Fare2']=label.fit_transform(fare)\n",
    "#train_df['Age']=data_df['Age2'][:891]\n",
    "#train_df['Fare']=data_df['Fare2'][:891]\n",
    "#test_df['Age']=data_df['Age2'][891:]\n",
    "#test_df['Fare']=data_df['Fare2'][891:]\n",
    "#train_df = pd.get_dummies(train_df,columns=['Age','Fare'], drop_first=True)\n",
    "#test_df = pd.get_dummies(test_df,columns=['Age','Fare'], drop_first=True)\n",
    "#print(test_df.shape)\n",
    "#print(train_df.shape)\n",
    "train_df.head()\n",
    "\n",
    "train_df.drop(['Title_Rev','age_group_old','age_group_teenager','age_group_senior_citizen','Embarked_Q'],axis=1,inplace=True)\n",
    "test_df.drop(['Title_Rev','age_group_old','age_group_teenager','age_group_senior_citizen','Embarked_Q'],axis=1,inplace=True)"
   ]
  },
  {
   "cell_type": "markdown",
   "execution_count": null,
   "metadata": {
    "_cell_guid": "17826e7f-e38c-4758-910a-5592984403d8",
    "_uuid": "5805fd4ecfbedcb62dbede8bc0cb1396476b4b77"
   },
   "source": [
    "<a id=\"section6\"></a>\n",
    "### 6. Model Creation"
   ]
  },
  {
   "cell_type": "markdown",
   "execution_count": null,
   "metadata": {
    "_cell_guid": "2398e3cd-fee8-4caa-a87c-acc476cafd45",
    "_uuid": "ac39a9dfe0a93e89a916b9e22589ef4d62deb190"
   },
   "source": [
    "* I will train the data with the following models:\n",
    "- Logistic Regression\n",
    "- Gaussian Naive Bayes\n",
    "- Support Vector Machines\n",
    "- Decision Tree Classifier\n",
    "- K-Nearest Neighbors(KNN)\n",
    " -  and many other.....\n",
    " \n"
   ]
  },
  {
   "cell_type": "code",
   "execution_count": 41,
   "metadata": {
    "_cell_guid": "1334fb63-e866-4e9d-8f38-d1e28d6e990d",
    "_uuid": "41fa09a4ac77a434a77cae3aaa0f87b6ee375823"
   },
   "outputs": [],
   "source": [
    "X = train_df.drop('Survived', 1)\n",
    "y = train_df['Survived']\n",
    "#testing = test_df.copy()\n",
    "#testing.shape"
   ]
  },
  {
   "cell_type": "markdown",
   "execution_count": null,
   "metadata": {
    "_cell_guid": "25e07e4b-968d-4eab-8d25-6e6d6cefbb9e",
    "_uuid": "08760fea0a8a0fb50e7304a5ba47a888540ca3c6"
   },
   "source": [
    "<a id=\"section601\"></a>\n",
    "#### 6.1 Classifier Comparision\n",
    "\n",
    "By Classifier Comparison we choose which model best for the given data."
   ]
  },
  {
   "cell_type": "code",
   "execution_count": 42,
   "metadata": {
    "_cell_guid": "6bb0b633-7e74-44a7-a3b3-41b671cfa3ca",
    "_uuid": "0c0dff8ade89a5dd57a3ac940911bb41b7072914"
   },
   "outputs": [],
   "source": [
    "import matplotlib.pyplot as plt\n",
    "import seaborn as sns\n",
    "from sklearn.model_selection import StratifiedShuffleSplit,train_test_split\n",
    "from sklearn.metrics import accuracy_score, log_loss\n",
    "from sklearn.neighbors import KNeighborsClassifier\n",
    "from sklearn import svm\n",
    "from sklearn.tree import DecisionTreeClassifier\n",
    "from sklearn.ensemble import RandomForestClassifier,AdaBoostClassifier,GradientBoostingClassifier\n",
    "from sklearn.naive_bayes import GaussianNB\n",
    "from sklearn.linear_model import LogisticRegression\n",
    "from xgboost import XGBClassifier\n",
    "from sklearn.discriminant_analysis import LinearDiscriminantAnalysis, QuadraticDiscriminantAnalysis\n",
    "\n",
    "classifiers = [\n",
    "    KNeighborsClassifier(3),\n",
    "    svm.SVC(probability=True),\n",
    "    DecisionTreeClassifier(),\n",
    "    CatBoostClassifier(),\n",
    "    XGBClassifier(),\n",
    "    RandomForestClassifier(),\n",
    "    AdaBoostClassifier(),\n",
    "    GradientBoostingClassifier(),\n",
    "    GaussianNB(),\n",
    "    LinearDiscriminantAnalysis(),\n",
    "    QuadraticDiscriminantAnalysis(),\n",
    "    LogisticRegression()]\n",
    "    \n",
    "\n",
    "\n",
    "log_cols = [\"Classifier\", \"Accuracy\"]\n",
    "log= pd.DataFrame(columns=log_cols)\n"
   ]
  },
  {
   "cell_type": "markdown",
   "execution_count": null,
   "metadata": {},
   "source": [
    "#### Important Note:\n",
    "\n",
    "- If you're facing an error to see the result of below code cell, It's because there is a lot of __calcualation__ is taking place as multiple algorithms are running so for that I suggest get this notebook to edit mode and try to run cell by cell.\n",
    "\n",
    "- I am commenting two of the below code cells as they are taking a lot of notebook space, but i want you guys try to run them from your side. "
   ]
  },
  {
   "cell_type": "code",
   "execution_count": 43,
   "metadata": {
    "_cell_guid": "d5baaf6f-b931-4052-bdd8-6c63e27bee32",
    "_uuid": "89d4751cf93bc58e6760cc9a8005df7a1a059760"
   },
   "outputs": [],
   "source": [
    "from sklearn.metrics import accuracy_score\n",
    "from sklearn.model_selection import train_test_split,StratifiedShuffleSplit\n",
    "\n",
    "\n",
    "# SSplit=StratifiedShuffleSplit(test_size=0.3,random_state=7)\n",
    "# acc_dict = {}\n",
    "\n",
    "# for train_index,test_index in SSplit.split(X,y):\n",
    "#     X_train,X_test=X.iloc[train_index],X.iloc[test_index]\n",
    "#     y_train,y_test=y.iloc[train_index],y.iloc[test_index]\n",
    "    \n",
    "#     for clf in classifiers:\n",
    "#         name = clf.__class__.__name__\n",
    "          \n",
    "#         clf.fit(X_train,y_train)\n",
    "#         predict=clf.predict(X_test)\n",
    "#         acc=accuracy_score(y_test,predict)\n",
    "#         if name in acc_dict:\n",
    "#             acc_dict[name]+=acc\n",
    "#         else:\n",
    "#             acc_dict[name]=acc\n"
   ]
  },
  {
   "cell_type": "code",
   "execution_count": 44,
   "metadata": {
    "_cell_guid": "ef001bec-a26a-4f4f-852d-d28886ccd9e6",
    "_uuid": "8814357358d1eb8aded51d2805ed9702655915fa"
   },
   "outputs": [],
   "source": [
    "\n",
    "# log['Classifier']=acc_dict.keys()\n",
    "# log['Accuracy']=acc_dict.values()\n",
    "# #log.set_index([[0,1,2,3,4,5,6,7,8,9]])\n",
    "# %matplotlib inline\n",
    "# sns.set_color_codes(\"muted\")\n",
    "# ax=plt.subplots(figsize=(10,8))\n",
    "# ax=sns.barplot(y='Classifier',x='Accuracy',data=log,color='b')\n",
    "# ax.set_xlabel('Accuracy',fontsize=20)\n",
    "# plt.ylabel('Classifier',fontsize=20)\n",
    "# plt.grid(color='r', linestyle='-', linewidth=0.5)\n",
    "# plt.title('Classifier Accuracy',fontsize=20)\n"
   ]
  },
  {
   "cell_type": "markdown",
   "execution_count": null,
   "metadata": {},
   "source": [
    "> __Result after running the above code cell__\n",
    "\n",
    "![](https://raw.githubusercontent.com/vikramvinay/Titanic-Machine-Learning-from-Disaster/master/download.png)"
   ]
  },
  {
   "cell_type": "markdown",
   "execution_count": null,
   "metadata": {
    "_cell_guid": "4d2380f3-33a9-4565-8471-0327ac33d7c6",
    "_uuid": "6985746450177e2b1b1616532987e63c3cb26c2d"
   },
   "source": [
    "From the above barplot, we can clearly see that the following classifiers are good-\n",
    "- LogisticRegression\n",
    "- XGBClassifier\n",
    "- AdaBoostClassifier\n",
    "- GradiendBoostingClassifier \n",
    "- LDA\n",
    "\n",
    "** Note**\n",
    "\n",
    "The spliting of the test and train data is randomly done so possibility of getting different set of Best classifier that may be differ from mine one.\n",
    "\n",
    "\n",
    "But While you running multiple time one a general scale. The given set of classifier used in this kernal are proved to be good one.\n",
    "## Edit: 4/30/2019\n",
    "- Recently i got comment regarding using __Cataboost algorithm__. As over in the barplot we can see catboost also doing great so this time we gonna use cataboost for final submission."
   ]
  },
  {
   "cell_type": "markdown",
   "execution_count": null,
   "metadata": {},
   "source": [
    "__Time to train every model with further hyperparameter tunning extension__"
   ]
  },
  {
   "cell_type": "code",
   "execution_count": 45,
   "metadata": {
    "_cell_guid": "a33d93d7-bafa-42cf-8319-de9a61233c36",
    "_uuid": "76b79e031843f5625ef82c4f7b36450504a8ee68"
   },
   "outputs": [],
   "source": [
    "## Necessary modules for creating models. \n",
    "from sklearn.tree import DecisionTreeClassifier\n",
    "from sklearn.model_selection import cross_val_score, StratifiedKFold\n",
    "from sklearn.linear_model import LogisticRegression\n",
    "from sklearn.metrics import mean_squared_error\n",
    "from sklearn.ensemble import BaggingClassifier\n",
    "from sklearn.metrics import accuracy_score,classification_report, precision_recall_curve, confusion_matrix"
   ]
  },
  {
   "cell_type": "markdown",
   "execution_count": null,
   "metadata": {
    "_cell_guid": "52882ff1-4517-47a9-ac97-3ca38440e3fc",
    "_uuid": "d2b06234512bb5cd32d8a12243587634c4b5f0b7"
   },
   "source": [
    "**Scaling features**"
   ]
  },
  {
   "cell_type": "markdown",
   "execution_count": null,
   "metadata": {},
   "source": [
    "**Why scaling** : [Check my kernel on importance of scaling](https://www.kaggle.com/vin1234/why-feature-scaling-is-important)"
   ]
  },
  {
   "cell_type": "code",
   "execution_count": 46,
   "metadata": {
    "_cell_guid": "ab1c0a94-8acc-4faf-937d-12b1c73bfed9",
    "_uuid": "dfccb3c1f53070d126930df8382f540877db9d59"
   },
   "outputs": [
    {
     "data": {
      "text/plain": [
       "(418, 23)"
      ]
     },
     "execution_count": 46,
     "metadata": {},
     "output_type": "execute_result"
    }
   ],
   "source": [
    "\n",
    "std_scaler = StandardScaler()\n",
    "X = std_scaler.fit_transform(X)\n",
    "testframe = std_scaler.fit_transform(test_df)\n",
    "testframe.shape\n"
   ]
  },
  {
   "cell_type": "markdown",
   "execution_count": null,
   "metadata": {
    "_cell_guid": "a600a9c3-6f10-4dc7-aea2-a325b98fd08d",
    "_kg_hide-input": true,
    "_kg_hide-output": true,
    "_uuid": "6db481bb17be157f42d582cf085be7b66fdaaab1",
    "collapsed": true
   },
   "source": [
    "**GridSearch**\n",
    "\n",
    "Using the GridSearch ,Lets find out the most suitable parameter/hyperparmeter which gives the best result.\n"
   ]
  },
  {
   "cell_type": "code",
   "execution_count": 47,
   "metadata": {
    "_cell_guid": "11cd4228-401e-4d1a-9b0a-5813291fae8d",
    "_uuid": "90d3f4693a54a9ade722ee3231561959a9fe2331"
   },
   "outputs": [],
   "source": [
    "from sklearn.model_selection import train_test_split\n",
    "from sklearn.metrics import accuracy_score\n",
    "X_train,X_test,y_train,y_test=train_test_split(X,y,test_size=0.20,random_state=1000)"
   ]
  },
  {
   "cell_type": "markdown",
   "execution_count": null,
   "metadata": {
    "_cell_guid": "ee20340f-eaae-46a4-86cf-d5205e163b3a",
    "_uuid": "a60288b7f58056b6cf5a2b78aee9c97a844d2548",
    "collapsed": true
   },
   "source": [
    "<a id=\"section602\"></a>\n",
    "#### 6.2 LogisticRegression"
   ]
  },
  {
   "cell_type": "code",
   "execution_count": 48,
   "metadata": {
    "_cell_guid": "a1c2c093-3c2f-4c8a-8250-e1cf7a1db2a2",
    "_uuid": "b693d9183d9b6df6f64b488bcae0e64945ae3fb3"
   },
   "outputs": [
    {
     "name": "stdout",
     "output_type": "stream",
     "text": [
      "0.8258426966292135\n",
      "[[91 11]\n",
      " [20 56]]\n",
      "0.835820895522388\n",
      "0.7368421052631579\n"
     ]
    }
   ],
   "source": [
    "from sklearn.model_selection import cross_val_score\n",
    "from sklearn.model_selection import StratifiedKFold\n",
    "from sklearn.metrics import precision_score,recall_score,confusion_matrix\n",
    "logreg = LogisticRegression(solver='liblinear', penalty='l1')\n",
    "logreg.fit(X_train,y_train)\n",
    "predict=logreg.predict(X_test)\n",
    "print(accuracy_score(y_test,predict))\n",
    "print(confusion_matrix(y_test,predict))\n",
    "print(precision_score(y_test,predict))\n",
    "print(recall_score(y_test,predict))"
   ]
  },
  {
   "cell_type": "markdown",
   "execution_count": null,
   "metadata": {
    "_cell_guid": "3fceec2e-1516-4207-a51c-24945e3a8b12",
    "_uuid": "63766bc3dca8582e82a272440c1d36b560256da9",
    "collapsed": true
   },
   "source": [
    "**Grid Search on Logistic Regression**"
   ]
  },
  {
   "cell_type": "code",
   "execution_count": 49,
   "metadata": {
    "_cell_guid": "7a6cdeba-c26e-4fc2-9fbc-8dd7a96816e9",
    "_uuid": "1184044b8c06ca04cf1d576ba2605d346988a76c"
   },
   "outputs": [],
   "source": [
    "C_vals = [0.0001, 0.001, 0.01, 0.1,0.13,0.2, .15, .25, .275, .33, 0.5, .66, 0.75, 1.0, 2.5, 4.0,4.5,5.0,5.1,5.5,6.0, 10.0, 100.0, 1000.0]\n",
    "penalties = ['l1','l2']\n",
    "\n",
    "param = {'penalty': penalties, 'C': C_vals, }\n",
    "grid = GridSearchCV(logreg, param,verbose=False, cv = StratifiedKFold(n_splits=5,random_state=10,shuffle=True), n_jobs=1,scoring='accuracy')"
   ]
  },
  {
   "cell_type": "code",
   "execution_count": 50,
   "metadata": {
    "_cell_guid": "46449a22-946b-429c-9de3-fa1553491668",
    "_uuid": "317c2ebd79ea95a7b2ba6cafe116486ceca7b419"
   },
   "outputs": [
    {
     "name": "stdout",
     "output_type": "stream",
     "text": [
      "{'C': 0.5, 'penalty': 'l2'}\n",
      "0.828169014084507\n",
      "LogisticRegression(C=0.5, class_weight=None, dual=False, fit_intercept=True,\n",
      "                   intercept_scaling=1, l1_ratio=None, max_iter=100,\n",
      "                   multi_class='warn', n_jobs=None, penalty='l2',\n",
      "                   random_state=None, solver='liblinear', tol=0.0001, verbose=0,\n",
      "                   warm_start=False)\n"
     ]
    },
    {
     "name": "stderr",
     "output_type": "stream",
     "text": [
      "/opt/conda/lib/python3.6/site-packages/sklearn/model_selection/_search.py:814: DeprecationWarning: The default of the `iid` parameter will change from True to False in version 0.22 and will be removed in 0.24. This will change numeric results when test-set sizes are unequal.\n",
      "  DeprecationWarning)\n"
     ]
    }
   ],
   "source": [
    "grid.fit(X_train,y_train)\n",
    "print (grid.best_params_)\n",
    "print (grid.best_score_)\n",
    "print(grid.best_estimator_)"
   ]
  },
  {
   "cell_type": "code",
   "execution_count": 51,
   "metadata": {
    "_cell_guid": "10c20afa-d6b5-4cf5-a455-0e917585a34d",
    "_uuid": "35959515e3f1988beea63b8f0609de548c35c293"
   },
   "outputs": [
    {
     "name": "stdout",
     "output_type": "stream",
     "text": [
      "0.826\n",
      "[[91 11]\n",
      " [20 56]]\n",
      "0.835820895522388\n",
      "0.7368421052631579\n"
     ]
    },
    {
     "name": "stderr",
     "output_type": "stream",
     "text": [
      "/opt/conda/lib/python3.6/site-packages/sklearn/linear_model/logistic.py:432: FutureWarning: Default solver will be changed to 'lbfgs' in 0.22. Specify a solver to silence this warning.\n",
      "  FutureWarning)\n"
     ]
    }
   ],
   "source": [
    "#grid.best_estimator_.fit(X_train,y_train)\n",
    "#predict=grid.best_estimator_.predict(X_test)\n",
    "#print(accuracy_score(y_test,predict))\n",
    "logreg_grid = LogisticRegression(penalty=grid.best_params_['penalty'], C=grid.best_params_['C'])\n",
    "logreg_grid.fit(X_train,y_train)\n",
    "y_pred = logreg_grid.predict(X_test)\n",
    "logreg_accy = round(accuracy_score(y_test, y_pred), 3)\n",
    "print (logreg_accy)\n",
    "print(confusion_matrix(y_test,y_pred))\n",
    "print(precision_score(y_test,y_pred))\n",
    "print(recall_score(y_test,y_pred))"
   ]
  },
  {
   "cell_type": "markdown",
   "execution_count": null,
   "metadata": {
    "_cell_guid": "a6bd01a5-a7c6-4f73-9c06-d9c3493a72c0",
    "_uuid": "14faeeb8451c864b4bdf73ca99adef8bca4fb606"
   },
   "source": [
    "<a id=\"section603\"></a>\n",
    "#### 6.3 AdaBoostClassifer"
   ]
  },
  {
   "cell_type": "code",
   "execution_count": 52,
   "metadata": {
    "_cell_guid": "9a5c474e-d7b9-48bd-8c33-da502fe046f1",
    "_uuid": "2ffa8236665af7abf494142e8103a7dd293b4767"
   },
   "outputs": [
    {
     "name": "stdout",
     "output_type": "stream",
     "text": [
      "0.8146067415730337\n",
      "[[89 13]\n",
      " [20 56]]\n",
      "0.8115942028985508\n"
     ]
    }
   ],
   "source": [
    "ABC=AdaBoostClassifier()\n",
    "\n",
    "ABC.fit(X_train,y_train)\n",
    "predict=ABC.predict(X_test)\n",
    "print(accuracy_score(y_test,predict))\n",
    "print(confusion_matrix(y_test,predict))\n",
    "print(precision_score(y_test,predict))\n"
   ]
  },
  {
   "cell_type": "markdown",
   "execution_count": null,
   "metadata": {
    "_cell_guid": "78a22369-7aef-4f6c-9076-a626861a22e3",
    "_uuid": "8701f7b2acaa8681f4f62aec86f5b58a4f89f36c"
   },
   "source": [
    "**GridSearch on AdaBoostClassifer**"
   ]
  },
  {
   "cell_type": "code",
   "execution_count": 53,
   "metadata": {
    "_cell_guid": "0c0988a0-3db5-4a6b-8d7f-127a539f2314",
    "_uuid": "a648e6444201cb1894e118af2dc67b51bb5fed80"
   },
   "outputs": [],
   "source": [
    "from sklearn.tree import DecisionTreeClassifier\n",
    "n_estimator=[50,60,100,150,200,300]\n",
    "learning_rate=[0.001,0.01,0.1,0.2,]\n",
    "hyperparam={'n_estimators':n_estimator,'learning_rate':learning_rate}\n",
    "gridBoost=GridSearchCV(ABC,param_grid=hyperparam,verbose=False, cv = StratifiedKFold(n_splits=5,random_state=15,shuffle=True), n_jobs=1,scoring='accuracy')"
   ]
  },
  {
   "cell_type": "code",
   "execution_count": 54,
   "metadata": {
    "_cell_guid": "f8f83245-7a89-46e8-a86e-4a69b6ca752b",
    "_uuid": "663489f72445a438ad4d0e1707ae286506dfd5a6"
   },
   "outputs": [
    {
     "name": "stdout",
     "output_type": "stream",
     "text": [
      "0.8183098591549296\n",
      "AdaBoostClassifier(algorithm='SAMME.R', base_estimator=None, learning_rate=0.2,\n",
      "                   n_estimators=60, random_state=None)\n"
     ]
    }
   ],
   "source": [
    "gridBoost.fit(X_train,y_train)\n",
    "print(gridBoost.best_score_)\n",
    "print(gridBoost.best_estimator_)"
   ]
  },
  {
   "cell_type": "code",
   "execution_count": 55,
   "metadata": {
    "_cell_guid": "ea767975-77a4-4ab0-a539-63da18065ba6",
    "_uuid": "6614ff1861446298d98760ae2fafe5b7b5655593"
   },
   "outputs": [
    {
     "name": "stdout",
     "output_type": "stream",
     "text": [
      "0.8202247191011236\n"
     ]
    }
   ],
   "source": [
    "gridBoost.best_estimator_.fit(X_train,y_train)\n",
    "predict=gridBoost.best_estimator_.predict(X_test)\n",
    "print(accuracy_score(y_test,predict))\n"
   ]
  },
  {
   "cell_type": "markdown",
   "execution_count": null,
   "metadata": {
    "_cell_guid": "44039859-e6ed-4b7f-b8da-1678ccad926d",
    "_uuid": "164f81900d494d0cf5b739b0e61cfff030273282"
   },
   "source": [
    "<a id=\"section604\"></a>\n",
    "#### 6.4 XGBClassifier"
   ]
  },
  {
   "cell_type": "code",
   "execution_count": 56,
   "metadata": {
    "_cell_guid": "cdfce682-2aac-448a-a443-257d70c9d84a",
    "_uuid": "974a1c2aa67c934e44e106516af765ca9f32e204"
   },
   "outputs": [
    {
     "name": "stdout",
     "output_type": "stream",
     "text": [
      "0.8258426966292135\n",
      "[[94  8]\n",
      " [23 53]]\n",
      "0.8688524590163934\n",
      "0.6973684210526315\n"
     ]
    }
   ],
   "source": [
    "xgb=XGBClassifier(max_depth=2, n_estimators=700, learning_rate=0.009,nthread=-1,subsample=1,colsample_bytree=0.8)\n",
    "xgb.fit(X_train,y_train)\n",
    "predict=xgb.predict(X_test)\n",
    "print(accuracy_score(y_test,predict))\n",
    "print(confusion_matrix(y_test,predict))\n",
    "print(precision_score(y_test,predict))\n",
    "print(recall_score(y_test,predict))"
   ]
  },
  {
   "cell_type": "code",
   "execution_count": 57,
   "metadata": {
    "_cell_guid": "a25392fe-01d6-47f8-9baa-1f07deae733e",
    "_uuid": "ab39cf4b9d920cdc3e6b95a8feb5a14cbee1a7af"
   },
   "outputs": [
    {
     "name": "stdout",
     "output_type": "stream",
     "text": [
      "0.8426966292134831\n",
      "0.875\n",
      "0.7368421052631579\n"
     ]
    },
    {
     "name": "stderr",
     "output_type": "stream",
     "text": [
      "/opt/conda/lib/python3.6/site-packages/sklearn/discriminant_analysis.py:388: UserWarning: Variables are collinear.\n",
      "  warnings.warn(\"Variables are collinear.\")\n"
     ]
    }
   ],
   "source": [
    "lda=LinearDiscriminantAnalysis()\n",
    "lda.fit(X_train,y_train)\n",
    "predict=lda.predict(X_test)\n",
    "print(accuracy_score(y_test,predict))\n",
    "print(precision_score(y_test,predict))\n",
    "print(recall_score(y_test,predict))"
   ]
  },
  {
   "cell_type": "markdown",
   "execution_count": null,
   "metadata": {
    "_cell_guid": "cff36b91-8a98-4a22-a4bd-df7904fe1b0b",
    "_uuid": "1932a3680e05bbfb4d49b9033ad7fca97dc1c875"
   },
   "source": [
    "<a id=\"section605\"></a>\n",
    "#### 6.5 DecisionTree Classifier"
   ]
  },
  {
   "cell_type": "code",
   "execution_count": 58,
   "metadata": {
    "_cell_guid": "3fea5cbd-2b65-44b8-b036-aa007d100918",
    "_uuid": "3759d91d097af1da3bf5d6b1193052483a9b9cfd"
   },
   "outputs": [
    {
     "name": "stdout",
     "output_type": "stream",
     "text": [
      "0.809\n",
      "[[89 13]\n",
      " [21 55]]\n",
      "0.8088235294117647\n",
      "0.7236842105263158\n"
     ]
    }
   ],
   "source": [
    "#Decision Tree\n",
    "from sklearn.tree import DecisionTreeClassifier\n",
    "\n",
    "dectree = DecisionTreeClassifier( criterion=\"entropy\",\n",
    "                                 max_depth=5,\n",
    "                                class_weight = 'balanced',\n",
    "                                min_weight_fraction_leaf = 0.009,\n",
    "                                random_state=2000)\n",
    "dectree.fit(X_train, y_train)\n",
    "y_pred = dectree.predict(X_test)\n",
    "dectree_accy = round(accuracy_score(y_pred, y_test), 3)\n",
    "print(dectree_accy)\n",
    "print(confusion_matrix(y_test,y_pred))\n",
    "print(precision_score(y_test,y_pred))\n",
    "print(recall_score(y_test,y_pred))\n"
   ]
  },
  {
   "cell_type": "markdown",
   "execution_count": null,
   "metadata": {
    "_cell_guid": "53a182d0-6c9a-4f4a-b3e4-e51312271b46",
    "_uuid": "b82397c35bb8fe0c7ba9e959f92e641a4738b958"
   },
   "source": [
    "<a id=\"section606\"></a>\n",
    "#### 6.6 Random Forest Classifier\n"
   ]
  },
  {
   "cell_type": "code",
   "execution_count": 59,
   "metadata": {
    "_cell_guid": "9be95697-a631-458e-821f-3ebb4c3f331a",
    "_uuid": "1f3ba533eb7b73e1f081cb766d41ec1848e6aa83"
   },
   "outputs": [
    {
     "name": "stdout",
     "output_type": "stream",
     "text": [
      "0.843\n",
      "0.875\n",
      "0.7368421052631579\n",
      "[[94  8]\n",
      " [20 56]]\n"
     ]
    }
   ],
   "source": [
    "#from sklearn.ensemble import RandomForestClassifier\n",
    "#from sklearn.metrics import precision_score,recall_score,confusion_matrix\n",
    "#randomforest = RandomForestClassifier(n_estimators=100,max_depth=9,min_samples_split=6, min_samples_leaf=4)\n",
    "##randomforest = RandomForestClassifier(class_weight='balanced', n_jobs=-1)\n",
    "#randomforest.fit(X_train, y_train)\n",
    "#y_pred = randomforest.predict(X_test)\n",
    "#random_accy = round(accuracy_score(y_pred, y_test), 3)\n",
    "#print (random_accy)\n",
    "#print(confusion_matrix(y_test,y_pred))\n",
    "from sklearn.ensemble import RandomForestClassifier\n",
    "randomforest = RandomForestClassifier(n_estimators=100,max_depth=5,min_samples_split=20,max_features=0.2, min_samples_leaf=8,random_state=20)\n",
    "#randomforest = RandomForestClassifier(class_weight='balanced', n_jobs=-1)\n",
    "randomforest.fit(X_train, y_train)\n",
    "y_pred = randomforest.predict(X_test)\n",
    "random_accy = round(accuracy_score(y_pred, y_test), 3)\n",
    "print (random_accy)\n",
    "print(precision_score(y_test,y_pred))\n",
    "print(recall_score(y_test,y_pred))\n",
    "print(confusion_matrix(y_test,y_pred))\n"
   ]
  },
  {
   "cell_type": "markdown",
   "execution_count": null,
   "metadata": {
    "_cell_guid": "627a3de7-fa8c-4f79-bfb5-d10c38db0b32",
    "_uuid": "182523756cf2e65355a408d17e2a2a7fbcbc1be0"
   },
   "source": [
    "<a id=\"section607\"></a>\n",
    "#### 6.7 Bagging Classifier\n"
   ]
  },
  {
   "cell_type": "code",
   "execution_count": 60,
   "metadata": {
    "_cell_guid": "49d9057f-1b91-4645-98e0-ba7a051a049d",
    "_uuid": "bdb1d5756214b4e67b3cbb8277ab101477224e7e"
   },
   "outputs": [
    {
     "name": "stdout",
     "output_type": "stream",
     "text": [
      "0.82\n"
     ]
    }
   ],
   "source": [
    "from sklearn.ensemble import BaggingClassifier\n",
    "BaggingClassifier = BaggingClassifier()\n",
    "BaggingClassifier.fit(X_train, y_train)\n",
    "y_pred = BaggingClassifier.predict(X_test)\n",
    "bagging_accy = round(accuracy_score(y_pred, y_test), 3)\n",
    "print(bagging_accy)"
   ]
  },
  {
   "cell_type": "markdown",
   "execution_count": null,
   "metadata": {
    "_cell_guid": "fc1485f6-0b8f-440a-a689-c6283c079992",
    "_uuid": "10f1cf8d83a9ce2e1bce5672e61bf19d2a6e1bd7"
   },
   "source": [
    "<a id=\"section608\"></a>\n",
    "#### 6.8 Voting Classifier"
   ]
  },
  {
   "cell_type": "code",
   "execution_count": 61,
   "metadata": {
    "_cell_guid": "bc378611-9e5e-41f5-be64-d1b3da08f90e",
    "_uuid": "a9b2e6195f182d52c8bf4f964f586da2896febbe"
   },
   "outputs": [
    {
     "name": "stdout",
     "output_type": "stream",
     "text": [
      "0.826\n"
     ]
    }
   ],
   "source": [
    "from sklearn.ensemble import VotingClassifier\n",
    "\n",
    "voting_classifier = VotingClassifier(estimators=[\n",
    "    ('logreg',logreg), \n",
    "    ('random_forest', randomforest),\n",
    "    ('decision_tree',dectree), \n",
    "    ('XGB Classifier', xgb),\n",
    "    ('BaggingClassifier', BaggingClassifier)])\n",
    "voting_classifier.fit(X_train,y_train)\n",
    "y_pred = voting_classifier.predict(X_test)\n",
    "voting_accy = round(accuracy_score(y_pred, y_test), 3)\n",
    "print(voting_accy)"
   ]
  },
  {
   "cell_type": "code",
   "execution_count": 62,
   "metadata": {
    "_cell_guid": "bd51899e-e019-4ad6-b6f5-c271eaba2e66",
    "_uuid": "9d3037e004a3eaf75fb74ea0dc6ce3ee1e85e960"
   },
   "outputs": [],
   "source": [
    "#y_predict=randomforest.predict(testframe)"
   ]
  },
  {
   "cell_type": "code",
   "execution_count": 63,
   "metadata": {},
   "outputs": [
    {
     "name": "stdout",
     "output_type": "stream",
     "text": [
      "0.815\n"
     ]
    }
   ],
   "source": [
    "# Prediction with catboost algorithm.\n",
    "from catboost import CatBoostClassifier\n",
    "model = CatBoostClassifier(verbose=False, one_hot_max_size=3)\n",
    "model.fit(X_train,y_train)\n",
    "y_pred=model.predict(X_test)\n",
    "acc = round(accuracy_score(y_pred, y_test), 3)\n",
    "print(acc)"
   ]
  },
  {
   "cell_type": "code",
   "execution_count": 64,
   "metadata": {},
   "outputs": [],
   "source": [
    "y_predict=model.predict(testframe)"
   ]
  },
  {
   "cell_type": "markdown",
   "execution_count": null,
   "metadata": {
    "_cell_guid": "7e751c61-769f-4011-87cf-c33b6707e5cb",
    "_uuid": "204144a66bfa445087bee6fa61999b32142a9172"
   },
   "source": [
    "<a id=\"section7\"></a>\n",
    "### 7. Submit test predictions\n",
    "\n",
    "The given parameter is used in the  model  is found through grid search which is not shown in the code .\n",
    "\n",
    "As it took a lot long to run ."
   ]
  },
  {
   "cell_type": "code",
   "execution_count": 65,
   "metadata": {
    "_cell_guid": "b3f1a4ee-ac6d-4ffc-992e-f3c18e04776a",
    "_uuid": "e29ea2a49533f555bf91cccc73c832c93a1ce068"
   },
   "outputs": [],
   "source": [
    "temp = pd.DataFrame(pd.DataFrame({\n",
    "        \"PassengerId\": passenger_id,\n",
    "        \"Survived\": y_predict\n",
    "    }))\n",
    "\n",
    "\n",
    "temp.to_csv(\"../working/submission3.csv\", index = False)"
   ]
  },
  {
   "cell_type": "markdown",
   "execution_count": null,
   "metadata": {
    "_cell_guid": "53813456-7437-48ed-9c2c-e917a68b760f",
    "_uuid": "546fed63f1766e072e1d62bfc23af49a4a793e15"
   },
   "source": [
    "**This kernel is still under process for further improvement.**\n",
    "\n",
    "I will always incorporate new concepts of data science as I master them. This journey of learning is worth sharing as well as collaborating. So share your ideas and let's make this notebook best __to get the start for every beginner__... \n",
    "\n",
    "- Any comments about further improvements to the kernel would be genuinely appreciated.\n",
    "- Feel free to raise any doubt in the comment section regarding the kernel."
   ]
  },
  {
   "cell_type": "markdown",
   "execution_count": null,
   "metadata": {
    "_cell_guid": "e022ce0c-15f2-4365-b07c-9ba51f4011fd",
    "_uuid": "8640b4a2262c2738142396a3b43967be814917b1"
   },
   "source": [
    "**Hope you find it useful.** \n",
    "\n",
    "**If this notebook helped you in anyway, Then do <font color=\"red\">Follow </font> and  <font color=\"blue\">upvote!</font>**\n",
    "\n",
    "<img src=\"https://steemitimages.com/640x0/http://i0.kym-cdn.com/photos/images/original/000/662/100/aff.jpg\" height=500 width=500/>"
   ]
  }
 ],
 "metadata": {
  "kernelspec": {
   "display_name": "Python 3",
   "language": "python",
   "name": "python3"
  },
  "language_info": {
   "codemirror_mode": {
    "name": "ipython",
    "version": 3
   },
   "file_extension": ".py",
   "mimetype": "text/x-python",
   "name": "python",
   "nbconvert_exporter": "python",
   "pygments_lexer": "ipython3",
   "version": "3.6.6"
  }
 },
 "nbformat": 4,
 "nbformat_minor": 4
}
