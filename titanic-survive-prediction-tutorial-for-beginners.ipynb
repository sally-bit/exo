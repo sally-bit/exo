{
 "cells": [
  {
   "cell_type": "markdown",
   "metadata": {
    "papermill": {
     "duration": 0.022506,
     "end_time": "2020-08-17T06:39:45.996137",
     "exception": false,
     "start_time": "2020-08-17T06:39:45.973631",
     "status": "completed"
    },
    "tags": []
   },
   "source": [
    "# Titanic Survive Prediction Tutorial for Beginners\n",
    "Titanic is kaggle's beginners competion where goal is to predict where passenger will survive or not.\n",
    "\n",
    "![](https://media.giphy.com/media/jXJYVWquFTXTG/giphy.gif)\n",
    "\n",
    "<center>Gif from [Giphy](https://giphy.com/gifs/titanic-jXJYVWquFTXTG)</center>"
   ]
  },
  {
   "cell_type": "markdown",
   "metadata": {
    "papermill": {
     "duration": 0.017468,
     "end_time": "2020-08-17T06:39:46.031418",
     "exception": false,
     "start_time": "2020-08-17T06:39:46.013950",
     "status": "completed"
    },
    "tags": []
   },
   "source": [
    "## Hello Everyone,\n",
    "#### Welcome to this kernel\n",
    "I have started this kernel to help beginners to understand Titanic Kaggle Challenge.\n",
    "\n",
    "I hope that anyone, regardless of their Machine Learning and Python skills can find something useful and helpful.\n",
    "\n",
    "# <font color='red'> Don't forget to upvote if you like it! </font>\n",
    "\n",
    "## Thanks and be safe!"
   ]
  },
  {
   "cell_type": "markdown",
   "metadata": {
    "papermill": {
     "duration": 0.017652,
     "end_time": "2020-08-17T06:39:46.066694",
     "exception": false,
     "start_time": "2020-08-17T06:39:46.049042",
     "status": "completed"
    },
    "tags": []
   },
   "source": [
    "## Contents\n",
    "\n",
    "* [Import required libraries](#import-required-libraries)\n",
    "- [Load Data](#load-data)\n",
    "- [Looking into Training and Testing Data](#looking-into-training-and-testing-data)\n",
    "- [EDA (Exploratory Data Analysis)](#EDA-exploratory-data-analysis)\n",
    "- [Data Visualization](#data-visualization)\n",
    "- [Model Prediction](#model-prediction)\n",
    "- [Support Vector Machine](#support-vector-machine)\n",
    "- [K-Nearest Neighbour](#k-nearest-neighbour)\n",
    "- [Gaussian Naive Bayes](#gaussian-naive-bayes)\n",
    "- [Linear SVC](#linear-svc)\n",
    "- [Stochastic Gradient Descent](#stochastic-gradient-descent)\n",
    "- [Decision Tree](#decision-tree)\n",
    "- [Random Forest](#random-forest)"
   ]
  },
  {
   "cell_type": "markdown",
   "metadata": {
    "papermill": {
     "duration": 0.017135,
     "end_time": "2020-08-17T06:39:46.101422",
     "exception": false,
     "start_time": "2020-08-17T06:39:46.084287",
     "status": "completed"
    },
    "tags": []
   },
   "source": [
    "I am continuesly updating this kernel so I really appriciate you feedback.\n",
    "\n",
    "I you have any quetion do let me know in comment, I am more than happy to answer."
   ]
  },
  {
   "cell_type": "markdown",
   "metadata": {
    "papermill": {
     "duration": 0.017433,
     "end_time": "2020-08-17T06:39:46.136735",
     "exception": false,
     "start_time": "2020-08-17T06:39:46.119302",
     "status": "completed"
    },
    "tags": []
   },
   "source": [
    "## Import Required Libraries"
   ]
  },
  {
   "cell_type": "markdown",
   "metadata": {
    "papermill": {
     "duration": 0.017005,
     "end_time": "2020-08-17T06:39:46.171431",
     "exception": false,
     "start_time": "2020-08-17T06:39:46.154426",
     "status": "completed"
    },
    "tags": []
   },
   "source": [
    "Firt thing first. It is very important to import all necessary python libraries. \n",
    "I am going to import NumPy and Pandas for Data Analysis. For visualization I am going to use Matplotlib and Seaborn. "
   ]
  },
  {
   "cell_type": "code",
   "execution_count": 1,
   "metadata": {
    "_cell_guid": "b1076dfc-b9ad-4769-8c92-a6c4dae69d19",
    "_uuid": "8f2839f25d086af736a60e9eeb907d3b93b6e0e5",
    "execution": {
     "iopub.execute_input": "2020-08-17T06:39:46.216783Z",
     "iopub.status.busy": "2020-08-17T06:39:46.215751Z",
     "iopub.status.idle": "2020-08-17T06:39:47.401312Z",
     "shell.execute_reply": "2020-08-17T06:39:47.400289Z"
    },
    "papermill": {
     "duration": 1.212508,
     "end_time": "2020-08-17T06:39:47.401534",
     "exception": false,
     "start_time": "2020-08-17T06:39:46.189026",
     "status": "completed"
    },
    "tags": []
   },
   "outputs": [
    {
     "name": "stdout",
     "output_type": "stream",
     "text": [
      "/kaggle/input/titanic/train.csv\n",
      "/kaggle/input/titanic/gender_submission.csv\n",
      "/kaggle/input/titanic/test.csv\n"
     ]
    }
   ],
   "source": [
    "# data analysis\n",
    "import numpy as np # linear algebra\n",
    "import pandas as pd # data processing, CSV file I/O (e.g. pd.read_csv)\n",
    "\n",
    "# data visualization\n",
    "import matplotlib.pyplot as plt # for data visualization\n",
    "import seaborn as sns # for data visualization\n",
    "\n",
    "sns.set_style('dark')\n",
    "\n",
    "#ignore warnings\n",
    "import warnings\n",
    "warnings.filterwarnings('ignore')\n",
    "\n",
    "import os\n",
    "for dirname, _, filenames in os.walk('/kaggle/input'):\n",
    "    for filename in filenames:\n",
    "        print(os.path.join(dirname, filename))"
   ]
  },
  {
   "cell_type": "markdown",
   "metadata": {
    "papermill": {
     "duration": 0.017993,
     "end_time": "2020-08-17T06:39:47.440619",
     "exception": false,
     "start_time": "2020-08-17T06:39:47.422626",
     "status": "completed"
    },
    "tags": []
   },
   "source": [
    "# Load Data"
   ]
  },
  {
   "cell_type": "markdown",
   "metadata": {
    "papermill": {
     "duration": 0.01707,
     "end_time": "2020-08-17T06:39:47.475420",
     "exception": false,
     "start_time": "2020-08-17T06:39:47.458350",
     "status": "completed"
    },
    "tags": []
   },
   "source": [
    "Once you are dont with libraries, second step is to import dataset. As you can see in above cell's output. There is 3 files in our input folder. \n",
    "1. train.csv -- our training file.\n",
    "2. test.csv -- using our machine learning model we have to predict whethere gicen entries in this file will survive or not.\n",
    "3. gender_submission.csv -- sample submission file.\n",
    "\n",
    "\n",
    "So I am going to load train.csv and test.csv in different data frames."
   ]
  },
  {
   "cell_type": "code",
   "execution_count": 2,
   "metadata": {
    "_cell_guid": "79c7e3d0-c299-4dcb-8224-4455121ee9b0",
    "_uuid": "d629ff2d2480ee46fbb7e2d37f6b5fab8052498a",
    "execution": {
     "iopub.execute_input": "2020-08-17T06:39:47.517331Z",
     "iopub.status.busy": "2020-08-17T06:39:47.516436Z",
     "iopub.status.idle": "2020-08-17T06:39:47.558639Z",
     "shell.execute_reply": "2020-08-17T06:39:47.559285Z"
    },
    "papermill": {
     "duration": 0.066551,
     "end_time": "2020-08-17T06:39:47.559487",
     "exception": false,
     "start_time": "2020-08-17T06:39:47.492936",
     "status": "completed"
    },
    "tags": []
   },
   "outputs": [
    {
     "data": {
      "text/html": [
       "<div>\n",
       "<style scoped>\n",
       "    .dataframe tbody tr th:only-of-type {\n",
       "        vertical-align: middle;\n",
       "    }\n",
       "\n",
       "    .dataframe tbody tr th {\n",
       "        vertical-align: top;\n",
       "    }\n",
       "\n",
       "    .dataframe thead th {\n",
       "        text-align: right;\n",
       "    }\n",
       "</style>\n",
       "<table border=\"1\" class=\"dataframe\">\n",
       "  <thead>\n",
       "    <tr style=\"text-align: right;\">\n",
       "      <th></th>\n",
       "      <th>PassengerId</th>\n",
       "      <th>Survived</th>\n",
       "      <th>Pclass</th>\n",
       "      <th>Name</th>\n",
       "      <th>Sex</th>\n",
       "      <th>Age</th>\n",
       "      <th>SibSp</th>\n",
       "      <th>Parch</th>\n",
       "      <th>Ticket</th>\n",
       "      <th>Fare</th>\n",
       "      <th>Cabin</th>\n",
       "      <th>Embarked</th>\n",
       "    </tr>\n",
       "  </thead>\n",
       "  <tbody>\n",
       "    <tr>\n",
       "      <th>0</th>\n",
       "      <td>1</td>\n",
       "      <td>0</td>\n",
       "      <td>3</td>\n",
       "      <td>Braund, Mr. Owen Harris</td>\n",
       "      <td>male</td>\n",
       "      <td>22.0</td>\n",
       "      <td>1</td>\n",
       "      <td>0</td>\n",
       "      <td>A/5 21171</td>\n",
       "      <td>7.2500</td>\n",
       "      <td>NaN</td>\n",
       "      <td>S</td>\n",
       "    </tr>\n",
       "    <tr>\n",
       "      <th>1</th>\n",
       "      <td>2</td>\n",
       "      <td>1</td>\n",
       "      <td>1</td>\n",
       "      <td>Cumings, Mrs. John Bradley (Florence Briggs Th...</td>\n",
       "      <td>female</td>\n",
       "      <td>38.0</td>\n",
       "      <td>1</td>\n",
       "      <td>0</td>\n",
       "      <td>PC 17599</td>\n",
       "      <td>71.2833</td>\n",
       "      <td>C85</td>\n",
       "      <td>C</td>\n",
       "    </tr>\n",
       "    <tr>\n",
       "      <th>2</th>\n",
       "      <td>3</td>\n",
       "      <td>1</td>\n",
       "      <td>3</td>\n",
       "      <td>Heikkinen, Miss. Laina</td>\n",
       "      <td>female</td>\n",
       "      <td>26.0</td>\n",
       "      <td>0</td>\n",
       "      <td>0</td>\n",
       "      <td>STON/O2. 3101282</td>\n",
       "      <td>7.9250</td>\n",
       "      <td>NaN</td>\n",
       "      <td>S</td>\n",
       "    </tr>\n",
       "    <tr>\n",
       "      <th>3</th>\n",
       "      <td>4</td>\n",
       "      <td>1</td>\n",
       "      <td>1</td>\n",
       "      <td>Futrelle, Mrs. Jacques Heath (Lily May Peel)</td>\n",
       "      <td>female</td>\n",
       "      <td>35.0</td>\n",
       "      <td>1</td>\n",
       "      <td>0</td>\n",
       "      <td>113803</td>\n",
       "      <td>53.1000</td>\n",
       "      <td>C123</td>\n",
       "      <td>S</td>\n",
       "    </tr>\n",
       "    <tr>\n",
       "      <th>4</th>\n",
       "      <td>5</td>\n",
       "      <td>0</td>\n",
       "      <td>3</td>\n",
       "      <td>Allen, Mr. William Henry</td>\n",
       "      <td>male</td>\n",
       "      <td>35.0</td>\n",
       "      <td>0</td>\n",
       "      <td>0</td>\n",
       "      <td>373450</td>\n",
       "      <td>8.0500</td>\n",
       "      <td>NaN</td>\n",
       "      <td>S</td>\n",
       "    </tr>\n",
       "  </tbody>\n",
       "</table>\n",
       "</div>"
      ],
      "text/plain": [
       "   PassengerId  Survived  Pclass  \\\n",
       "0            1         0       3   \n",
       "1            2         1       1   \n",
       "2            3         1       3   \n",
       "3            4         1       1   \n",
       "4            5         0       3   \n",
       "\n",
       "                                                Name     Sex   Age  SibSp  \\\n",
       "0                            Braund, Mr. Owen Harris    male  22.0      1   \n",
       "1  Cumings, Mrs. John Bradley (Florence Briggs Th...  female  38.0      1   \n",
       "2                             Heikkinen, Miss. Laina  female  26.0      0   \n",
       "3       Futrelle, Mrs. Jacques Heath (Lily May Peel)  female  35.0      1   \n",
       "4                           Allen, Mr. William Henry    male  35.0      0   \n",
       "\n",
       "   Parch            Ticket     Fare Cabin Embarked  \n",
       "0      0         A/5 21171   7.2500   NaN        S  \n",
       "1      0          PC 17599  71.2833   C85        C  \n",
       "2      0  STON/O2. 3101282   7.9250   NaN        S  \n",
       "3      0            113803  53.1000  C123        S  \n",
       "4      0            373450   8.0500   NaN        S  "
      ]
     },
     "execution_count": 2,
     "metadata": {},
     "output_type": "execute_result"
    }
   ],
   "source": [
    "# load train data\n",
    "train_data = pd.read_csv(\"/kaggle/input/titanic/train.csv\")\n",
    "train_data.head()"
   ]
  },
  {
   "cell_type": "code",
   "execution_count": 3,
   "metadata": {
    "execution": {
     "iopub.execute_input": "2020-08-17T06:39:47.602038Z",
     "iopub.status.busy": "2020-08-17T06:39:47.601194Z",
     "iopub.status.idle": "2020-08-17T06:39:47.626702Z",
     "shell.execute_reply": "2020-08-17T06:39:47.627370Z"
    },
    "papermill": {
     "duration": 0.050053,
     "end_time": "2020-08-17T06:39:47.627569",
     "exception": false,
     "start_time": "2020-08-17T06:39:47.577516",
     "status": "completed"
    },
    "tags": []
   },
   "outputs": [
    {
     "data": {
      "text/html": [
       "<div>\n",
       "<style scoped>\n",
       "    .dataframe tbody tr th:only-of-type {\n",
       "        vertical-align: middle;\n",
       "    }\n",
       "\n",
       "    .dataframe tbody tr th {\n",
       "        vertical-align: top;\n",
       "    }\n",
       "\n",
       "    .dataframe thead th {\n",
       "        text-align: right;\n",
       "    }\n",
       "</style>\n",
       "<table border=\"1\" class=\"dataframe\">\n",
       "  <thead>\n",
       "    <tr style=\"text-align: right;\">\n",
       "      <th></th>\n",
       "      <th>PassengerId</th>\n",
       "      <th>Pclass</th>\n",
       "      <th>Name</th>\n",
       "      <th>Sex</th>\n",
       "      <th>Age</th>\n",
       "      <th>SibSp</th>\n",
       "      <th>Parch</th>\n",
       "      <th>Ticket</th>\n",
       "      <th>Fare</th>\n",
       "      <th>Cabin</th>\n",
       "      <th>Embarked</th>\n",
       "    </tr>\n",
       "  </thead>\n",
       "  <tbody>\n",
       "    <tr>\n",
       "      <th>0</th>\n",
       "      <td>892</td>\n",
       "      <td>3</td>\n",
       "      <td>Kelly, Mr. James</td>\n",
       "      <td>male</td>\n",
       "      <td>34.5</td>\n",
       "      <td>0</td>\n",
       "      <td>0</td>\n",
       "      <td>330911</td>\n",
       "      <td>7.8292</td>\n",
       "      <td>NaN</td>\n",
       "      <td>Q</td>\n",
       "    </tr>\n",
       "    <tr>\n",
       "      <th>1</th>\n",
       "      <td>893</td>\n",
       "      <td>3</td>\n",
       "      <td>Wilkes, Mrs. James (Ellen Needs)</td>\n",
       "      <td>female</td>\n",
       "      <td>47.0</td>\n",
       "      <td>1</td>\n",
       "      <td>0</td>\n",
       "      <td>363272</td>\n",
       "      <td>7.0000</td>\n",
       "      <td>NaN</td>\n",
       "      <td>S</td>\n",
       "    </tr>\n",
       "    <tr>\n",
       "      <th>2</th>\n",
       "      <td>894</td>\n",
       "      <td>2</td>\n",
       "      <td>Myles, Mr. Thomas Francis</td>\n",
       "      <td>male</td>\n",
       "      <td>62.0</td>\n",
       "      <td>0</td>\n",
       "      <td>0</td>\n",
       "      <td>240276</td>\n",
       "      <td>9.6875</td>\n",
       "      <td>NaN</td>\n",
       "      <td>Q</td>\n",
       "    </tr>\n",
       "    <tr>\n",
       "      <th>3</th>\n",
       "      <td>895</td>\n",
       "      <td>3</td>\n",
       "      <td>Wirz, Mr. Albert</td>\n",
       "      <td>male</td>\n",
       "      <td>27.0</td>\n",
       "      <td>0</td>\n",
       "      <td>0</td>\n",
       "      <td>315154</td>\n",
       "      <td>8.6625</td>\n",
       "      <td>NaN</td>\n",
       "      <td>S</td>\n",
       "    </tr>\n",
       "    <tr>\n",
       "      <th>4</th>\n",
       "      <td>896</td>\n",
       "      <td>3</td>\n",
       "      <td>Hirvonen, Mrs. Alexander (Helga E Lindqvist)</td>\n",
       "      <td>female</td>\n",
       "      <td>22.0</td>\n",
       "      <td>1</td>\n",
       "      <td>1</td>\n",
       "      <td>3101298</td>\n",
       "      <td>12.2875</td>\n",
       "      <td>NaN</td>\n",
       "      <td>S</td>\n",
       "    </tr>\n",
       "  </tbody>\n",
       "</table>\n",
       "</div>"
      ],
      "text/plain": [
       "   PassengerId  Pclass                                          Name     Sex  \\\n",
       "0          892       3                              Kelly, Mr. James    male   \n",
       "1          893       3              Wilkes, Mrs. James (Ellen Needs)  female   \n",
       "2          894       2                     Myles, Mr. Thomas Francis    male   \n",
       "3          895       3                              Wirz, Mr. Albert    male   \n",
       "4          896       3  Hirvonen, Mrs. Alexander (Helga E Lindqvist)  female   \n",
       "\n",
       "    Age  SibSp  Parch   Ticket     Fare Cabin Embarked  \n",
       "0  34.5      0      0   330911   7.8292   NaN        Q  \n",
       "1  47.0      1      0   363272   7.0000   NaN        S  \n",
       "2  62.0      0      0   240276   9.6875   NaN        Q  \n",
       "3  27.0      0      0   315154   8.6625   NaN        S  \n",
       "4  22.0      1      1  3101298  12.2875   NaN        S  "
      ]
     },
     "execution_count": 3,
     "metadata": {},
     "output_type": "execute_result"
    }
   ],
   "source": [
    "# load test data\n",
    "test_data = pd.read_csv(\"/kaggle/input/titanic/test.csv\")\n",
    "test_data.head()"
   ]
  },
  {
   "cell_type": "markdown",
   "metadata": {
    "papermill": {
     "duration": 0.018144,
     "end_time": "2020-08-17T06:39:47.664065",
     "exception": false,
     "start_time": "2020-08-17T06:39:47.645921",
     "status": "completed"
    },
    "tags": []
   },
   "source": [
    "# Looking into Training and Testing Data"
   ]
  },
  {
   "cell_type": "code",
   "execution_count": 4,
   "metadata": {
    "execution": {
     "iopub.execute_input": "2020-08-17T06:39:47.711669Z",
     "iopub.status.busy": "2020-08-17T06:39:47.710558Z",
     "iopub.status.idle": "2020-08-17T06:39:47.714671Z",
     "shell.execute_reply": "2020-08-17T06:39:47.715594Z"
    },
    "papermill": {
     "duration": 0.033168,
     "end_time": "2020-08-17T06:39:47.715798",
     "exception": false,
     "start_time": "2020-08-17T06:39:47.682630",
     "status": "completed"
    },
    "tags": []
   },
   "outputs": [
    {
     "name": "stdout",
     "output_type": "stream",
     "text": [
      "==================================================\n",
      "Number of columns in training data\n",
      "==================================================\n",
      "\n",
      "\n",
      "['PassengerId' 'Survived' 'Pclass' 'Name' 'Sex' 'Age' 'SibSp' 'Parch'\n",
      " 'Ticket' 'Fare' 'Cabin' 'Embarked']\n",
      "\n",
      "\n",
      "==================================================\n",
      "Number of columns in test data\n",
      "==================================================\n",
      "\n",
      "\n",
      "['PassengerId' 'Pclass' 'Name' 'Sex' 'Age' 'SibSp' 'Parch' 'Ticket' 'Fare'\n",
      " 'Cabin' 'Embarked']\n"
     ]
    }
   ],
   "source": [
    "print('='*50)\n",
    "print(\"Number of columns in training data\")\n",
    "print('='*50)\n",
    "print(\"\\n\")\n",
    "print(train_data.columns.values)\n",
    "print(\"\\n\")\n",
    "print('='*50)\n",
    "print(\"Number of columns in test data\")\n",
    "print('='*50)\n",
    "print(\"\\n\")\n",
    "print(test_data.columns.values)"
   ]
  },
  {
   "cell_type": "markdown",
   "metadata": {
    "papermill": {
     "duration": 0.018265,
     "end_time": "2020-08-17T06:39:47.752479",
     "exception": false,
     "start_time": "2020-08-17T06:39:47.734214",
     "status": "completed"
    },
    "tags": []
   },
   "source": [
    "From above column name we can see that test data doesn't have Survived column. That's our task to do. For test data we have to find out whethere give passenger will survive or not."
   ]
  },
  {
   "cell_type": "markdown",
   "metadata": {
    "papermill": {
     "duration": 0.017975,
     "end_time": "2020-08-17T06:39:47.789055",
     "exception": false,
     "start_time": "2020-08-17T06:39:47.771080",
     "status": "completed"
    },
    "tags": []
   },
   "source": [
    "Lets have look at each column information.\n",
    "\n",
    "* PassengerId: An unique index for each passenger. It starts from 1 and increments by 1 for every new passenger.\n",
    "* Survived: Shows if the passenger survived or not. 1 stands for survived and 0 stands for not survived.\n",
    "\n",
    "* Pclass: Ticket class. 1 stands for First class ticket. 2 stands for Second class ticket. 3 stands for Third class ticket.\n",
    "\n",
    "* Name: Passenger's name. Name also contain title. \"Mr\" for man. \"Mrs\" for woman. \"Miss\" for girl. \"Master\" for boy.\n",
    "\n",
    "* Sex: Passenger's sex. It's either Male or Female.\n",
    "\n",
    "* Age: Passenger's age. \"NaN\" values in this column indicates that the age of that particular passenger has not been recorded.\n",
    "\n",
    "* SibSp: Number of siblings or spouses travelling with each passenger.\n",
    "\n",
    "* Parch: Number of parents of children travelling with each passenger.\n",
    "\n",
    "* Ticket: Ticket number.\n",
    "\n",
    "* Fare: How much money the passenger has paid for the travel journey.\n",
    "\n",
    "* Cabin: Cabin number of the passenger. \"NaN\" values in this column indicates that the cabin number of that particular passenger has not been recorded.\n",
    "\n",
    "* Embarked: Port from where the particular passenger was embarked/boarded."
   ]
  },
  {
   "cell_type": "markdown",
   "metadata": {
    "papermill": {
     "duration": 0.018119,
     "end_time": "2020-08-17T06:39:47.826521",
     "exception": false,
     "start_time": "2020-08-17T06:39:47.808402",
     "status": "completed"
    },
    "tags": []
   },
   "source": [
    "Have a look at data shape"
   ]
  },
  {
   "cell_type": "code",
   "execution_count": 5,
   "metadata": {
    "execution": {
     "iopub.execute_input": "2020-08-17T06:39:47.873263Z",
     "iopub.status.busy": "2020-08-17T06:39:47.872186Z",
     "iopub.status.idle": "2020-08-17T06:39:47.877230Z",
     "shell.execute_reply": "2020-08-17T06:39:47.876275Z"
    },
    "papermill": {
     "duration": 0.032538,
     "end_time": "2020-08-17T06:39:47.877379",
     "exception": false,
     "start_time": "2020-08-17T06:39:47.844841",
     "status": "completed"
    },
    "tags": []
   },
   "outputs": [
    {
     "name": "stdout",
     "output_type": "stream",
     "text": [
      "==========\n",
      "Train data shape\n",
      "==========\n",
      "\n",
      "\n",
      "(891, 12)\n",
      "\n",
      "\n",
      "==========\n",
      "Test data shape\n",
      "==========\n",
      "\n",
      "\n",
      "(418, 11)\n"
     ]
    }
   ],
   "source": [
    "print('='*10)\n",
    "print(\"Train data shape\")\n",
    "print('='*10)\n",
    "print(\"\\n\")\n",
    "print(train_data.shape)\n",
    "print(\"\\n\")\n",
    "print('='*10)\n",
    "print(\"Test data shape\")\n",
    "print('='*10)\n",
    "print(\"\\n\")\n",
    "print(test_data.shape)"
   ]
  },
  {
   "cell_type": "markdown",
   "metadata": {
    "papermill": {
     "duration": 0.018199,
     "end_time": "2020-08-17T06:39:47.913944",
     "exception": false,
     "start_time": "2020-08-17T06:39:47.895745",
     "status": "completed"
    },
    "tags": []
   },
   "source": [
    "Describing training dataset\n",
    "\n",
    "describe() method can show different values like count, mean, standard deviation, etc. of numeric data types."
   ]
  },
  {
   "cell_type": "code",
   "execution_count": 6,
   "metadata": {
    "execution": {
     "iopub.execute_input": "2020-08-17T06:39:47.973369Z",
     "iopub.status.busy": "2020-08-17T06:39:47.972463Z",
     "iopub.status.idle": "2020-08-17T06:39:48.005387Z",
     "shell.execute_reply": "2020-08-17T06:39:48.006101Z"
    },
    "papermill": {
     "duration": 0.073359,
     "end_time": "2020-08-17T06:39:48.006296",
     "exception": false,
     "start_time": "2020-08-17T06:39:47.932937",
     "status": "completed"
    },
    "tags": []
   },
   "outputs": [
    {
     "name": "stdout",
     "output_type": "stream",
     "text": [
      "==================================================\n",
      "\n",
      "Describe traing data\n",
      "\n",
      "==================================================\n",
      "\n",
      "\n",
      "       PassengerId    Survived      Pclass         Age       SibSp  \\\n",
      "count   891.000000  891.000000  891.000000  714.000000  891.000000   \n",
      "mean    446.000000    0.383838    2.308642   29.699118    0.523008   \n",
      "std     257.353842    0.486592    0.836071   14.526497    1.102743   \n",
      "min       1.000000    0.000000    1.000000    0.420000    0.000000   \n",
      "25%     223.500000    0.000000    2.000000   20.125000    0.000000   \n",
      "50%     446.000000    0.000000    3.000000   28.000000    0.000000   \n",
      "75%     668.500000    1.000000    3.000000   38.000000    1.000000   \n",
      "max     891.000000    1.000000    3.000000   80.000000    8.000000   \n",
      "\n",
      "            Parch        Fare  \n",
      "count  891.000000  891.000000  \n",
      "mean     0.381594   32.204208  \n",
      "std      0.806057   49.693429  \n",
      "min      0.000000    0.000000  \n",
      "25%      0.000000    7.910400  \n",
      "50%      0.000000   14.454200  \n",
      "75%      0.000000   31.000000  \n",
      "max      6.000000  512.329200  \n"
     ]
    }
   ],
   "source": [
    "print('='*50)\n",
    "print(\"\\nDescribe traing data\\n\")\n",
    "print('='*50) \n",
    "print(\"\\n\")\n",
    "print(train_data.describe())"
   ]
  },
  {
   "cell_type": "code",
   "execution_count": 7,
   "metadata": {
    "execution": {
     "iopub.execute_input": "2020-08-17T06:39:48.063500Z",
     "iopub.status.busy": "2020-08-17T06:39:48.058007Z",
     "iopub.status.idle": "2020-08-17T06:39:48.084614Z",
     "shell.execute_reply": "2020-08-17T06:39:48.083574Z"
    },
    "papermill": {
     "duration": 0.057327,
     "end_time": "2020-08-17T06:39:48.084758",
     "exception": false,
     "start_time": "2020-08-17T06:39:48.027431",
     "status": "completed"
    },
    "tags": []
   },
   "outputs": [
    {
     "name": "stdout",
     "output_type": "stream",
     "text": [
      "Describe test data\n",
      "==================================================\n",
      "       PassengerId      Pclass         Age       SibSp       Parch        Fare\n",
      "count   418.000000  418.000000  332.000000  418.000000  418.000000  417.000000\n",
      "mean   1100.500000    2.265550   30.272590    0.447368    0.392344   35.627188\n",
      "std     120.810458    0.841838   14.181209    0.896760    0.981429   55.907576\n",
      "min     892.000000    1.000000    0.170000    0.000000    0.000000    0.000000\n",
      "25%     996.250000    1.000000   21.000000    0.000000    0.000000    7.895800\n",
      "50%    1100.500000    3.000000   27.000000    0.000000    0.000000   14.454200\n",
      "75%    1204.750000    3.000000   39.000000    1.000000    0.000000   31.500000\n",
      "max    1309.000000    3.000000   76.000000    8.000000    9.000000  512.329200\n"
     ]
    }
   ],
   "source": [
    "print(\"Describe test data\")\n",
    "print('='*50)\n",
    "print(test_data.describe())"
   ]
  },
  {
   "cell_type": "markdown",
   "metadata": {
    "papermill": {
     "duration": 0.018819,
     "end_time": "2020-08-17T06:39:48.122527",
     "exception": false,
     "start_time": "2020-08-17T06:39:48.103708",
     "status": "completed"
    },
    "tags": []
   },
   "source": [
    "Info of training data "
   ]
  },
  {
   "cell_type": "code",
   "execution_count": 8,
   "metadata": {
    "execution": {
     "iopub.execute_input": "2020-08-17T06:39:48.185426Z",
     "iopub.status.busy": "2020-08-17T06:39:48.175828Z",
     "iopub.status.idle": "2020-08-17T06:39:48.192500Z",
     "shell.execute_reply": "2020-08-17T06:39:48.191696Z"
    },
    "papermill": {
     "duration": 0.050862,
     "end_time": "2020-08-17T06:39:48.192636",
     "exception": false,
     "start_time": "2020-08-17T06:39:48.141774",
     "status": "completed"
    },
    "tags": []
   },
   "outputs": [
    {
     "name": "stdout",
     "output_type": "stream",
     "text": [
      "==================================================\n",
      "\n",
      "Training data info\n",
      "\n",
      "==================================================\n",
      "<class 'pandas.core.frame.DataFrame'>\n",
      "RangeIndex: 891 entries, 0 to 890\n",
      "Data columns (total 12 columns):\n",
      " #   Column       Non-Null Count  Dtype  \n",
      "---  ------       --------------  -----  \n",
      " 0   PassengerId  891 non-null    int64  \n",
      " 1   Survived     891 non-null    int64  \n",
      " 2   Pclass       891 non-null    int64  \n",
      " 3   Name         891 non-null    object \n",
      " 4   Sex          891 non-null    object \n",
      " 5   Age          714 non-null    float64\n",
      " 6   SibSp        891 non-null    int64  \n",
      " 7   Parch        891 non-null    int64  \n",
      " 8   Ticket       891 non-null    object \n",
      " 9   Fare         891 non-null    float64\n",
      " 10  Cabin        204 non-null    object \n",
      " 11  Embarked     889 non-null    object \n",
      "dtypes: float64(2), int64(5), object(5)\n",
      "memory usage: 83.7+ KB\n",
      "None\n",
      "\n",
      "\n",
      "==================================================\n",
      "\n",
      " Test data info \n",
      "\n",
      "==================================================\n",
      "\n",
      "\n",
      "<class 'pandas.core.frame.DataFrame'>\n",
      "RangeIndex: 418 entries, 0 to 417\n",
      "Data columns (total 11 columns):\n",
      " #   Column       Non-Null Count  Dtype  \n",
      "---  ------       --------------  -----  \n",
      " 0   PassengerId  418 non-null    int64  \n",
      " 1   Pclass       418 non-null    int64  \n",
      " 2   Name         418 non-null    object \n",
      " 3   Sex          418 non-null    object \n",
      " 4   Age          332 non-null    float64\n",
      " 5   SibSp        418 non-null    int64  \n",
      " 6   Parch        418 non-null    int64  \n",
      " 7   Ticket       418 non-null    object \n",
      " 8   Fare         417 non-null    float64\n",
      " 9   Cabin        91 non-null     object \n",
      " 10  Embarked     418 non-null    object \n",
      "dtypes: float64(2), int64(4), object(5)\n",
      "memory usage: 36.0+ KB\n",
      "None\n"
     ]
    }
   ],
   "source": [
    "print('='*50)\n",
    "print(\"\\nTraining data info\\n\")\n",
    "print('='*50)\n",
    "print(train_data.info())\n",
    "print(\"\\n\")\n",
    "print('='*50)\n",
    "print(\"\\n Test data info \\n\")\n",
    "print('='*50)\n",
    "print(\"\\n\")\n",
    "print(test_data.info())"
   ]
  },
  {
   "cell_type": "markdown",
   "metadata": {
    "papermill": {
     "duration": 0.018846,
     "end_time": "2020-08-17T06:39:48.230347",
     "exception": false,
     "start_time": "2020-08-17T06:39:48.211501",
     "status": "completed"
    },
    "tags": []
   },
   "source": [
    "We can see that Age, Cabin and Embarked have missing values.\n",
    "\n",
    "Age and Embarked have only few missing values. Whereas Cabin column have so many missing values."
   ]
  },
  {
   "cell_type": "code",
   "execution_count": 9,
   "metadata": {
    "execution": {
     "iopub.execute_input": "2020-08-17T06:39:48.283924Z",
     "iopub.status.busy": "2020-08-17T06:39:48.279344Z",
     "iopub.status.idle": "2020-08-17T06:39:48.289281Z",
     "shell.execute_reply": "2020-08-17T06:39:48.288332Z"
    },
    "papermill": {
     "duration": 0.039364,
     "end_time": "2020-08-17T06:39:48.289420",
     "exception": false,
     "start_time": "2020-08-17T06:39:48.250056",
     "status": "completed"
    },
    "tags": []
   },
   "outputs": [
    {
     "name": "stdout",
     "output_type": "stream",
     "text": [
      "==================================================\n",
      "\n",
      "Number of null values in train data\n",
      "\n",
      "==================================================\n",
      "\n",
      "\n",
      "PassengerId      0\n",
      "Survived         0\n",
      "Pclass           0\n",
      "Name             0\n",
      "Sex              0\n",
      "Age            177\n",
      "SibSp            0\n",
      "Parch            0\n",
      "Ticket           0\n",
      "Fare             0\n",
      "Cabin          687\n",
      "Embarked         2\n",
      "dtype: int64\n",
      "\n",
      "\n",
      "==================================================\n",
      "\n",
      " Number of null values in test data\n",
      "\n",
      "==================================================\n",
      "\n",
      "\n",
      "PassengerId      0\n",
      "Pclass           0\n",
      "Name             0\n",
      "Sex              0\n",
      "Age             86\n",
      "SibSp            0\n",
      "Parch            0\n",
      "Ticket           0\n",
      "Fare             1\n",
      "Cabin          327\n",
      "Embarked         0\n",
      "dtype: int64\n"
     ]
    }
   ],
   "source": [
    "print('='*50)\n",
    "print('\\nNumber of null values in train data\\n')\n",
    "print('='*50)\n",
    "print('\\n')\n",
    "print(train_data.isnull().sum())\n",
    "print('\\n')\n",
    "print('='*50)\n",
    "print('\\n Number of null values in test data\\n')\n",
    "print('='*50)\n",
    "print(\"\\n\")\n",
    "print(test_data.isnull().sum())"
   ]
  },
  {
   "cell_type": "markdown",
   "metadata": {
    "papermill": {
     "duration": 0.018975,
     "end_time": "2020-08-17T06:39:48.327647",
     "exception": false,
     "start_time": "2020-08-17T06:39:48.308672",
     "status": "completed"
    },
    "tags": []
   },
   "source": [
    "### Age Feature\n",
    "One solution is to fill in the null values with the median age."
   ]
  },
  {
   "cell_type": "code",
   "execution_count": 10,
   "metadata": {
    "execution": {
     "iopub.execute_input": "2020-08-17T06:39:48.375328Z",
     "iopub.status.busy": "2020-08-17T06:39:48.374492Z",
     "iopub.status.idle": "2020-08-17T06:39:48.377899Z",
     "shell.execute_reply": "2020-08-17T06:39:48.377131Z"
    },
    "papermill": {
     "duration": 0.03116,
     "end_time": "2020-08-17T06:39:48.378050",
     "exception": false,
     "start_time": "2020-08-17T06:39:48.346890",
     "status": "completed"
    },
    "tags": []
   },
   "outputs": [],
   "source": [
    "train_data['Age'] = train_data['Age'].fillna(train_data['Age'].median())\n",
    "test_data['Age'] = test_data['Age'].fillna(test_data['Age'].median())"
   ]
  },
  {
   "cell_type": "markdown",
   "metadata": {
    "papermill": {
     "duration": 0.019403,
     "end_time": "2020-08-17T06:39:48.417217",
     "exception": false,
     "start_time": "2020-08-17T06:39:48.397814",
     "status": "completed"
    },
    "tags": []
   },
   "source": [
    "### Cabin Feature\n",
    "I'll start off by dropping the Cabin feature since not a lot more useful information can be extracted from it."
   ]
  },
  {
   "cell_type": "code",
   "execution_count": 11,
   "metadata": {
    "execution": {
     "iopub.execute_input": "2020-08-17T06:39:48.465933Z",
     "iopub.status.busy": "2020-08-17T06:39:48.465111Z",
     "iopub.status.idle": "2020-08-17T06:39:48.468930Z",
     "shell.execute_reply": "2020-08-17T06:39:48.468161Z"
    },
    "papermill": {
     "duration": 0.032356,
     "end_time": "2020-08-17T06:39:48.469104",
     "exception": false,
     "start_time": "2020-08-17T06:39:48.436748",
     "status": "completed"
    },
    "tags": []
   },
   "outputs": [],
   "source": [
    "train_data = train_data.drop(['Cabin'], axis = 1)\n",
    "test_data = test_data.drop(['Cabin'], axis = 1)"
   ]
  },
  {
   "cell_type": "markdown",
   "metadata": {
    "papermill": {
     "duration": 0.019139,
     "end_time": "2020-08-17T06:39:48.507760",
     "exception": false,
     "start_time": "2020-08-17T06:39:48.488621",
     "status": "completed"
    },
    "tags": []
   },
   "source": [
    "### Ticket Feature\n",
    "I will also drop the Ticket feature since it's unlikely to yield any useful information."
   ]
  },
  {
   "cell_type": "code",
   "execution_count": 12,
   "metadata": {
    "execution": {
     "iopub.execute_input": "2020-08-17T06:39:48.556678Z",
     "iopub.status.busy": "2020-08-17T06:39:48.555628Z",
     "iopub.status.idle": "2020-08-17T06:39:48.558813Z",
     "shell.execute_reply": "2020-08-17T06:39:48.558182Z"
    },
    "papermill": {
     "duration": 0.03151,
     "end_time": "2020-08-17T06:39:48.558942",
     "exception": false,
     "start_time": "2020-08-17T06:39:48.527432",
     "status": "completed"
    },
    "tags": []
   },
   "outputs": [],
   "source": [
    "train_data = train_data.drop(['Ticket'], axis = 1)\n",
    "test_data = test_data.drop(['Ticket'], axis = 1)"
   ]
  },
  {
   "cell_type": "markdown",
   "metadata": {
    "papermill": {
     "duration": 0.019044,
     "end_time": "2020-08-17T06:39:48.597420",
     "exception": false,
     "start_time": "2020-08-17T06:39:48.578376",
     "status": "completed"
    },
    "tags": []
   },
   "source": [
    "### Embarked Features\n",
    "There is two missing embarked values in train data."
   ]
  },
  {
   "cell_type": "code",
   "execution_count": 13,
   "metadata": {
    "execution": {
     "iopub.execute_input": "2020-08-17T06:39:48.645613Z",
     "iopub.status.busy": "2020-08-17T06:39:48.644301Z",
     "iopub.status.idle": "2020-08-17T06:39:48.648430Z",
     "shell.execute_reply": "2020-08-17T06:39:48.647749Z"
    },
    "papermill": {
     "duration": 0.030784,
     "end_time": "2020-08-17T06:39:48.648570",
     "exception": false,
     "start_time": "2020-08-17T06:39:48.617786",
     "status": "completed"
    },
    "tags": []
   },
   "outputs": [],
   "source": [
    "train_data['Embarked'] = train_data['Embarked'].fillna('S')"
   ]
  },
  {
   "cell_type": "markdown",
   "metadata": {
    "papermill": {
     "duration": 0.019306,
     "end_time": "2020-08-17T06:39:48.688036",
     "exception": false,
     "start_time": "2020-08-17T06:39:48.668730",
     "status": "completed"
    },
    "tags": []
   },
   "source": [
    "### Fare Feature\n",
    "For only test data we have one missing value so I am going to fill that with median."
   ]
  },
  {
   "cell_type": "code",
   "execution_count": 14,
   "metadata": {
    "execution": {
     "iopub.execute_input": "2020-08-17T06:39:48.735916Z",
     "iopub.status.busy": "2020-08-17T06:39:48.734916Z",
     "iopub.status.idle": "2020-08-17T06:39:48.738286Z",
     "shell.execute_reply": "2020-08-17T06:39:48.737614Z"
    },
    "papermill": {
     "duration": 0.030082,
     "end_time": "2020-08-17T06:39:48.738421",
     "exception": false,
     "start_time": "2020-08-17T06:39:48.708339",
     "status": "completed"
    },
    "tags": []
   },
   "outputs": [],
   "source": [
    "test_data[\"Fare\"].fillna(test_data[\"Fare\"].median(), inplace=True)"
   ]
  },
  {
   "cell_type": "code",
   "execution_count": 15,
   "metadata": {
    "execution": {
     "iopub.execute_input": "2020-08-17T06:39:48.789096Z",
     "iopub.status.busy": "2020-08-17T06:39:48.786946Z",
     "iopub.status.idle": "2020-08-17T06:39:48.796720Z",
     "shell.execute_reply": "2020-08-17T06:39:48.795965Z"
    },
    "papermill": {
     "duration": 0.038778,
     "end_time": "2020-08-17T06:39:48.796857",
     "exception": false,
     "start_time": "2020-08-17T06:39:48.758079",
     "status": "completed"
    },
    "tags": []
   },
   "outputs": [
    {
     "name": "stdout",
     "output_type": "stream",
     "text": [
      "==================================================\n",
      "\n",
      "Number of null values in train data\n",
      "\n",
      "==================================================\n",
      "\n",
      "\n",
      "PassengerId    0\n",
      "Survived       0\n",
      "Pclass         0\n",
      "Name           0\n",
      "Sex            0\n",
      "Age            0\n",
      "SibSp          0\n",
      "Parch          0\n",
      "Fare           0\n",
      "Embarked       0\n",
      "dtype: int64\n",
      "\n",
      "\n",
      "==================================================\n",
      "\n",
      " Number of null values in test data\n",
      "\n",
      "==================================================\n",
      "\n",
      "\n",
      "PassengerId    0\n",
      "Pclass         0\n",
      "Name           0\n",
      "Sex            0\n",
      "Age            0\n",
      "SibSp          0\n",
      "Parch          0\n",
      "Fare           0\n",
      "Embarked       0\n",
      "dtype: int64\n"
     ]
    }
   ],
   "source": [
    "# let check missing value again\n",
    "print('='*50)\n",
    "print('\\nNumber of null values in train data\\n')\n",
    "print('='*50)\n",
    "print('\\n')\n",
    "print(train_data.isnull().sum())\n",
    "print('\\n')\n",
    "print('='*50)\n",
    "print('\\n Number of null values in test data\\n')\n",
    "print('='*50)\n",
    "print(\"\\n\")\n",
    "print(test_data.isnull().sum())"
   ]
  },
  {
   "cell_type": "markdown",
   "metadata": {
    "papermill": {
     "duration": 0.020095,
     "end_time": "2020-08-17T06:39:48.836672",
     "exception": false,
     "start_time": "2020-08-17T06:39:48.816577",
     "status": "completed"
    },
    "tags": []
   },
   "source": [
    "Now we don't have any missing value in train and test data. Let's do some visuaization."
   ]
  },
  {
   "cell_type": "markdown",
   "metadata": {
    "papermill": {
     "duration": 0.019372,
     "end_time": "2020-08-17T06:39:48.875892",
     "exception": false,
     "start_time": "2020-08-17T06:39:48.856520",
     "status": "completed"
    },
    "tags": []
   },
   "source": [
    "# EDA (Exploratory Data Analysis)"
   ]
  },
  {
   "cell_type": "markdown",
   "metadata": {
    "papermill": {
     "duration": 0.019308,
     "end_time": "2020-08-17T06:39:48.968461",
     "exception": false,
     "start_time": "2020-08-17T06:39:48.949153",
     "status": "completed"
    },
    "tags": []
   },
   "source": [
    "To make some observations and assumptions, we need to quickly analyze some feature correlations by pivoting features against each other. As we cleaned our data, we are able to make this correlation for every feature.\n",
    "\n",
    "#### Observation: \n",
    "\n",
    "- It is clear that out of 891 passengers only 342 manage to survive. Which indicated majority of passengers died.\n",
    "- **Sex** Female passenger have high priority of survival.\n",
    "- **Pclass** First class passenger have higher change of survival, which is >50%.\n",
    "- **Embarked** Passger who board the ship from Cherbourg."
   ]
  },
  {
   "cell_type": "code",
   "execution_count": 16,
   "metadata": {
    "execution": {
     "iopub.execute_input": "2020-08-17T06:39:49.019982Z",
     "iopub.status.busy": "2020-08-17T06:39:49.018460Z",
     "iopub.status.idle": "2020-08-17T06:39:49.024193Z",
     "shell.execute_reply": "2020-08-17T06:39:49.024842Z"
    },
    "papermill": {
     "duration": 0.036801,
     "end_time": "2020-08-17T06:39:49.025052",
     "exception": false,
     "start_time": "2020-08-17T06:39:48.988251",
     "status": "completed"
    },
    "tags": []
   },
   "outputs": [
    {
     "data": {
      "text/plain": [
       "Survived\n",
       "0    549\n",
       "1    342\n",
       "Name: Survived, dtype: int64"
      ]
     },
     "execution_count": 16,
     "metadata": {},
     "output_type": "execute_result"
    }
   ],
   "source": [
    "# number of survived passengers\n",
    "train_data.groupby(['Survived'])['Survived'].count()"
   ]
  },
  {
   "cell_type": "code",
   "execution_count": 17,
   "metadata": {
    "execution": {
     "iopub.execute_input": "2020-08-17T06:39:49.079350Z",
     "iopub.status.busy": "2020-08-17T06:39:49.076440Z",
     "iopub.status.idle": "2020-08-17T06:39:49.093929Z",
     "shell.execute_reply": "2020-08-17T06:39:49.093280Z"
    },
    "papermill": {
     "duration": 0.04858,
     "end_time": "2020-08-17T06:39:49.094096",
     "exception": false,
     "start_time": "2020-08-17T06:39:49.045516",
     "status": "completed"
    },
    "tags": []
   },
   "outputs": [
    {
     "data": {
      "text/html": [
       "<div>\n",
       "<style scoped>\n",
       "    .dataframe tbody tr th:only-of-type {\n",
       "        vertical-align: middle;\n",
       "    }\n",
       "\n",
       "    .dataframe tbody tr th {\n",
       "        vertical-align: top;\n",
       "    }\n",
       "\n",
       "    .dataframe thead th {\n",
       "        text-align: right;\n",
       "    }\n",
       "</style>\n",
       "<table border=\"1\" class=\"dataframe\">\n",
       "  <thead>\n",
       "    <tr style=\"text-align: right;\">\n",
       "      <th></th>\n",
       "      <th>Sex</th>\n",
       "      <th>Survived</th>\n",
       "    </tr>\n",
       "  </thead>\n",
       "  <tbody>\n",
       "    <tr>\n",
       "      <th>0</th>\n",
       "      <td>female</td>\n",
       "      <td>0.742038</td>\n",
       "    </tr>\n",
       "    <tr>\n",
       "      <th>1</th>\n",
       "      <td>male</td>\n",
       "      <td>0.188908</td>\n",
       "    </tr>\n",
       "  </tbody>\n",
       "</table>\n",
       "</div>"
      ],
      "text/plain": [
       "      Sex  Survived\n",
       "0  female  0.742038\n",
       "1    male  0.188908"
      ]
     },
     "execution_count": 17,
     "metadata": {},
     "output_type": "execute_result"
    }
   ],
   "source": [
    "# percentage of male and female who survived\n",
    "train_data[[\"Sex\", \"Survived\"]].groupby(['Sex'], as_index=False).mean().sort_values(by='Survived', ascending=False)"
   ]
  },
  {
   "cell_type": "code",
   "execution_count": 18,
   "metadata": {
    "execution": {
     "iopub.execute_input": "2020-08-17T06:39:49.154400Z",
     "iopub.status.busy": "2020-08-17T06:39:49.153177Z",
     "iopub.status.idle": "2020-08-17T06:39:49.158728Z",
     "shell.execute_reply": "2020-08-17T06:39:49.157912Z"
    },
    "papermill": {
     "duration": 0.0439,
     "end_time": "2020-08-17T06:39:49.158876",
     "exception": false,
     "start_time": "2020-08-17T06:39:49.114976",
     "status": "completed"
    },
    "tags": []
   },
   "outputs": [
    {
     "data": {
      "text/html": [
       "<div>\n",
       "<style scoped>\n",
       "    .dataframe tbody tr th:only-of-type {\n",
       "        vertical-align: middle;\n",
       "    }\n",
       "\n",
       "    .dataframe tbody tr th {\n",
       "        vertical-align: top;\n",
       "    }\n",
       "\n",
       "    .dataframe thead th {\n",
       "        text-align: right;\n",
       "    }\n",
       "</style>\n",
       "<table border=\"1\" class=\"dataframe\">\n",
       "  <thead>\n",
       "    <tr style=\"text-align: right;\">\n",
       "      <th></th>\n",
       "      <th>Pclass</th>\n",
       "      <th>Survived</th>\n",
       "    </tr>\n",
       "  </thead>\n",
       "  <tbody>\n",
       "    <tr>\n",
       "      <th>0</th>\n",
       "      <td>1</td>\n",
       "      <td>0.629630</td>\n",
       "    </tr>\n",
       "    <tr>\n",
       "      <th>1</th>\n",
       "      <td>2</td>\n",
       "      <td>0.472826</td>\n",
       "    </tr>\n",
       "    <tr>\n",
       "      <th>2</th>\n",
       "      <td>3</td>\n",
       "      <td>0.242363</td>\n",
       "    </tr>\n",
       "  </tbody>\n",
       "</table>\n",
       "</div>"
      ],
      "text/plain": [
       "   Pclass  Survived\n",
       "0       1  0.629630\n",
       "1       2  0.472826\n",
       "2       3  0.242363"
      ]
     },
     "execution_count": 18,
     "metadata": {},
     "output_type": "execute_result"
    }
   ],
   "source": [
    "# percentage of people survived according to their Ticker Class\n",
    "train_data[[\"Pclass\", \"Survived\"]].groupby(['Pclass'], as_index=False).mean().sort_values(by='Survived', ascending=False)"
   ]
  },
  {
   "cell_type": "code",
   "execution_count": 19,
   "metadata": {
    "execution": {
     "iopub.execute_input": "2020-08-17T06:39:49.221453Z",
     "iopub.status.busy": "2020-08-17T06:39:49.220622Z",
     "iopub.status.idle": "2020-08-17T06:39:49.226227Z",
     "shell.execute_reply": "2020-08-17T06:39:49.225576Z"
    },
    "papermill": {
     "duration": 0.045766,
     "end_time": "2020-08-17T06:39:49.226364",
     "exception": false,
     "start_time": "2020-08-17T06:39:49.180598",
     "status": "completed"
    },
    "tags": []
   },
   "outputs": [
    {
     "data": {
      "text/html": [
       "<div>\n",
       "<style scoped>\n",
       "    .dataframe tbody tr th:only-of-type {\n",
       "        vertical-align: middle;\n",
       "    }\n",
       "\n",
       "    .dataframe tbody tr th {\n",
       "        vertical-align: top;\n",
       "    }\n",
       "\n",
       "    .dataframe thead th {\n",
       "        text-align: right;\n",
       "    }\n",
       "</style>\n",
       "<table border=\"1\" class=\"dataframe\">\n",
       "  <thead>\n",
       "    <tr style=\"text-align: right;\">\n",
       "      <th></th>\n",
       "      <th>Embarked</th>\n",
       "      <th>Survived</th>\n",
       "    </tr>\n",
       "  </thead>\n",
       "  <tbody>\n",
       "    <tr>\n",
       "      <th>0</th>\n",
       "      <td>C</td>\n",
       "      <td>0.553571</td>\n",
       "    </tr>\n",
       "    <tr>\n",
       "      <th>1</th>\n",
       "      <td>Q</td>\n",
       "      <td>0.389610</td>\n",
       "    </tr>\n",
       "    <tr>\n",
       "      <th>2</th>\n",
       "      <td>S</td>\n",
       "      <td>0.339009</td>\n",
       "    </tr>\n",
       "  </tbody>\n",
       "</table>\n",
       "</div>"
      ],
      "text/plain": [
       "  Embarked  Survived\n",
       "0        C  0.553571\n",
       "1        Q  0.389610\n",
       "2        S  0.339009"
      ]
     },
     "execution_count": 19,
     "metadata": {},
     "output_type": "execute_result"
    }
   ],
   "source": [
    "# Percentage of survived people based on their embarked. \n",
    "train_data[[\"Embarked\", \"Survived\"]].groupby(['Embarked'], as_index=False).mean().sort_values(by='Survived', ascending=False)"
   ]
  },
  {
   "cell_type": "code",
   "execution_count": 20,
   "metadata": {
    "execution": {
     "iopub.execute_input": "2020-08-17T06:39:49.287525Z",
     "iopub.status.busy": "2020-08-17T06:39:49.286646Z",
     "iopub.status.idle": "2020-08-17T06:39:49.291852Z",
     "shell.execute_reply": "2020-08-17T06:39:49.292435Z"
    },
    "papermill": {
     "duration": 0.045132,
     "end_time": "2020-08-17T06:39:49.292606",
     "exception": false,
     "start_time": "2020-08-17T06:39:49.247474",
     "status": "completed"
    },
    "tags": []
   },
   "outputs": [
    {
     "data": {
      "text/html": [
       "<div>\n",
       "<style scoped>\n",
       "    .dataframe tbody tr th:only-of-type {\n",
       "        vertical-align: middle;\n",
       "    }\n",
       "\n",
       "    .dataframe tbody tr th {\n",
       "        vertical-align: top;\n",
       "    }\n",
       "\n",
       "    .dataframe thead th {\n",
       "        text-align: right;\n",
       "    }\n",
       "</style>\n",
       "<table border=\"1\" class=\"dataframe\">\n",
       "  <thead>\n",
       "    <tr style=\"text-align: right;\">\n",
       "      <th></th>\n",
       "      <th>Parch</th>\n",
       "      <th>Survived</th>\n",
       "    </tr>\n",
       "  </thead>\n",
       "  <tbody>\n",
       "    <tr>\n",
       "      <th>3</th>\n",
       "      <td>3</td>\n",
       "      <td>0.600000</td>\n",
       "    </tr>\n",
       "    <tr>\n",
       "      <th>1</th>\n",
       "      <td>1</td>\n",
       "      <td>0.550847</td>\n",
       "    </tr>\n",
       "    <tr>\n",
       "      <th>2</th>\n",
       "      <td>2</td>\n",
       "      <td>0.500000</td>\n",
       "    </tr>\n",
       "    <tr>\n",
       "      <th>0</th>\n",
       "      <td>0</td>\n",
       "      <td>0.343658</td>\n",
       "    </tr>\n",
       "    <tr>\n",
       "      <th>5</th>\n",
       "      <td>5</td>\n",
       "      <td>0.200000</td>\n",
       "    </tr>\n",
       "    <tr>\n",
       "      <th>4</th>\n",
       "      <td>4</td>\n",
       "      <td>0.000000</td>\n",
       "    </tr>\n",
       "    <tr>\n",
       "      <th>6</th>\n",
       "      <td>6</td>\n",
       "      <td>0.000000</td>\n",
       "    </tr>\n",
       "  </tbody>\n",
       "</table>\n",
       "</div>"
      ],
      "text/plain": [
       "   Parch  Survived\n",
       "3      3  0.600000\n",
       "1      1  0.550847\n",
       "2      2  0.500000\n",
       "0      0  0.343658\n",
       "5      5  0.200000\n",
       "4      4  0.000000\n",
       "6      6  0.000000"
      ]
     },
     "execution_count": 20,
     "metadata": {},
     "output_type": "execute_result"
    }
   ],
   "source": [
    "train_data[[\"Parch\", \"Survived\"]].groupby(['Parch'], as_index=False).mean().sort_values(by='Survived', ascending=False)"
   ]
  },
  {
   "cell_type": "code",
   "execution_count": 21,
   "metadata": {
    "execution": {
     "iopub.execute_input": "2020-08-17T06:39:49.357039Z",
     "iopub.status.busy": "2020-08-17T06:39:49.356152Z",
     "iopub.status.idle": "2020-08-17T06:39:49.361274Z",
     "shell.execute_reply": "2020-08-17T06:39:49.360647Z"
    },
    "papermill": {
     "duration": 0.045746,
     "end_time": "2020-08-17T06:39:49.361408",
     "exception": false,
     "start_time": "2020-08-17T06:39:49.315662",
     "status": "completed"
    },
    "tags": []
   },
   "outputs": [
    {
     "data": {
      "text/html": [
       "<div>\n",
       "<style scoped>\n",
       "    .dataframe tbody tr th:only-of-type {\n",
       "        vertical-align: middle;\n",
       "    }\n",
       "\n",
       "    .dataframe tbody tr th {\n",
       "        vertical-align: top;\n",
       "    }\n",
       "\n",
       "    .dataframe thead th {\n",
       "        text-align: right;\n",
       "    }\n",
       "</style>\n",
       "<table border=\"1\" class=\"dataframe\">\n",
       "  <thead>\n",
       "    <tr style=\"text-align: right;\">\n",
       "      <th></th>\n",
       "      <th>SibSp</th>\n",
       "      <th>Survived</th>\n",
       "    </tr>\n",
       "  </thead>\n",
       "  <tbody>\n",
       "    <tr>\n",
       "      <th>1</th>\n",
       "      <td>1</td>\n",
       "      <td>0.535885</td>\n",
       "    </tr>\n",
       "    <tr>\n",
       "      <th>2</th>\n",
       "      <td>2</td>\n",
       "      <td>0.464286</td>\n",
       "    </tr>\n",
       "    <tr>\n",
       "      <th>0</th>\n",
       "      <td>0</td>\n",
       "      <td>0.345395</td>\n",
       "    </tr>\n",
       "    <tr>\n",
       "      <th>3</th>\n",
       "      <td>3</td>\n",
       "      <td>0.250000</td>\n",
       "    </tr>\n",
       "    <tr>\n",
       "      <th>4</th>\n",
       "      <td>4</td>\n",
       "      <td>0.166667</td>\n",
       "    </tr>\n",
       "    <tr>\n",
       "      <th>5</th>\n",
       "      <td>5</td>\n",
       "      <td>0.000000</td>\n",
       "    </tr>\n",
       "    <tr>\n",
       "      <th>6</th>\n",
       "      <td>8</td>\n",
       "      <td>0.000000</td>\n",
       "    </tr>\n",
       "  </tbody>\n",
       "</table>\n",
       "</div>"
      ],
      "text/plain": [
       "   SibSp  Survived\n",
       "1      1  0.535885\n",
       "2      2  0.464286\n",
       "0      0  0.345395\n",
       "3      3  0.250000\n",
       "4      4  0.166667\n",
       "5      5  0.000000\n",
       "6      8  0.000000"
      ]
     },
     "execution_count": 21,
     "metadata": {},
     "output_type": "execute_result"
    }
   ],
   "source": [
    "train_data[[\"SibSp\", \"Survived\"]].groupby(['SibSp'], as_index=False).mean().sort_values(by='Survived', ascending=False)"
   ]
  },
  {
   "cell_type": "markdown",
   "metadata": {
    "papermill": {
     "duration": 0.021531,
     "end_time": "2020-08-17T06:39:49.404166",
     "exception": false,
     "start_time": "2020-08-17T06:39:49.382635",
     "status": "completed"
    },
    "tags": []
   },
   "source": [
    "# Data Visualization"
   ]
  },
  {
   "cell_type": "code",
   "execution_count": 22,
   "metadata": {
    "execution": {
     "iopub.execute_input": "2020-08-17T06:39:49.454703Z",
     "iopub.status.busy": "2020-08-17T06:39:49.452848Z",
     "iopub.status.idle": "2020-08-17T06:39:49.698135Z",
     "shell.execute_reply": "2020-08-17T06:39:49.697373Z"
    },
    "papermill": {
     "duration": 0.272708,
     "end_time": "2020-08-17T06:39:49.698285",
     "exception": false,
     "start_time": "2020-08-17T06:39:49.425577",
     "status": "completed"
    },
    "tags": []
   },
   "outputs": [
    {
     "data": {
      "text/plain": [
       "<matplotlib.axes._subplots.AxesSubplot at 0x7f6b5e455390>"
      ]
     },
     "execution_count": 22,
     "metadata": {},
     "output_type": "execute_result"
    },
    {
     "data": {
      "image/png": "[encoded data removed]",
      "text/plain": [
       "<Figure size 432x288 with 1 Axes>"
      ]
     },
     "metadata": {},
     "output_type": "display_data"
    }
   ],
   "source": [
    "sns.countplot(x = 'Survived', data = train_data)"
   ]
  },
  {
   "cell_type": "code",
   "execution_count": 23,
   "metadata": {
    "execution": {
     "iopub.execute_input": "2020-08-17T06:39:49.758221Z",
     "iopub.status.busy": "2020-08-17T06:39:49.756921Z",
     "iopub.status.idle": "2020-08-17T06:39:50.013028Z",
     "shell.execute_reply": "2020-08-17T06:39:50.013681Z"
    },
    "papermill": {
     "duration": 0.291496,
     "end_time": "2020-08-17T06:39:50.013860",
     "exception": false,
     "start_time": "2020-08-17T06:39:49.722364",
     "status": "completed"
    },
    "tags": []
   },
   "outputs": [
    {
     "data": {
      "text/plain": [
       "<matplotlib.axes._subplots.AxesSubplot at 0x7f6b5e2a9690>"
      ]
     },
     "execution_count": 23,
     "metadata": {},
     "output_type": "execute_result"
    },
    {
     "data": {
      "image/png": "[encoded data removed]",
      "text/plain": [
       "<Figure size 432x288 with 1 Axes>"
      ]
     },
     "metadata": {},
     "output_type": "display_data"
    }
   ],
   "source": [
    "#draw a bar plot of survival by sex\n",
    "sns.barplot(x=\"Sex\", y=\"Survived\", data=train_data)"
   ]
  },
  {
   "cell_type": "code",
   "execution_count": 24,
   "metadata": {
    "execution": {
     "iopub.execute_input": "2020-08-17T06:39:50.076290Z",
     "iopub.status.busy": "2020-08-17T06:39:50.074012Z",
     "iopub.status.idle": "2020-08-17T06:39:50.446562Z",
     "shell.execute_reply": "2020-08-17T06:39:50.445719Z"
    },
    "papermill": {
     "duration": 0.408128,
     "end_time": "2020-08-17T06:39:50.446710",
     "exception": false,
     "start_time": "2020-08-17T06:39:50.038582",
     "status": "completed"
    },
    "tags": []
   },
   "outputs": [
    {
     "data": {
      "text/plain": [
       "<matplotlib.axes._subplots.AxesSubplot at 0x7f6b5e20e2d0>"
      ]
     },
     "execution_count": 24,
     "metadata": {},
     "output_type": "execute_result"
    },
    {
     "data": {
      "image/png": "[encoded data removed]",
      "text/plain": [
       "<Figure size 432x288 with 1 Axes>"
      ]
     },
     "metadata": {},
     "output_type": "display_data"
    }
   ],
   "source": [
    "#draw a bar plot of survival by sex\n",
    "sns.barplot(x=\"Pclass\", y=\"Survived\", data=train_data)"
   ]
  },
  {
   "cell_type": "code",
   "execution_count": 25,
   "metadata": {
    "execution": {
     "iopub.execute_input": "2020-08-17T06:39:50.506702Z",
     "iopub.status.busy": "2020-08-17T06:39:50.505840Z",
     "iopub.status.idle": "2020-08-17T06:39:50.804710Z",
     "shell.execute_reply": "2020-08-17T06:39:50.803867Z"
    },
    "papermill": {
     "duration": 0.334993,
     "end_time": "2020-08-17T06:39:50.804877",
     "exception": false,
     "start_time": "2020-08-17T06:39:50.469884",
     "status": "completed"
    },
    "tags": []
   },
   "outputs": [
    {
     "data": {
      "text/plain": [
       "<matplotlib.axes._subplots.AxesSubplot at 0x7f6b5e17d410>"
      ]
     },
     "execution_count": 25,
     "metadata": {},
     "output_type": "execute_result"
    },
    {
     "data": {
      "image/png": "[encoded data removed]",
      "text/plain": [
       "<Figure size 432x288 with 1 Axes>"
      ]
     },
     "metadata": {},
     "output_type": "display_data"
    }
   ],
   "source": [
    "#draw a bar plot of survival by sex\n",
    "sns.barplot(x = \"Embarked\", y = \"Survived\", data = train_data)"
   ]
  },
  {
   "cell_type": "code",
   "execution_count": 26,
   "metadata": {
    "execution": {
     "iopub.execute_input": "2020-08-17T06:39:50.867929Z",
     "iopub.status.busy": "2020-08-17T06:39:50.867086Z",
     "iopub.status.idle": "2020-08-17T06:39:51.340312Z",
     "shell.execute_reply": "2020-08-17T06:39:51.339686Z"
    },
    "papermill": {
     "duration": 0.512233,
     "end_time": "2020-08-17T06:39:51.340452",
     "exception": false,
     "start_time": "2020-08-17T06:39:50.828219",
     "status": "completed"
    },
    "tags": []
   },
   "outputs": [
    {
     "data": {
      "text/plain": [
       "<matplotlib.axes._subplots.AxesSubplot at 0x7f6b5e20e650>"
      ]
     },
     "execution_count": 26,
     "metadata": {},
     "output_type": "execute_result"
    },
    {
     "data": {
      "image/png": "[encoded data removed]",
      "text/plain": [
       "<Figure size 432x288 with 1 Axes>"
      ]
     },
     "metadata": {},
     "output_type": "display_data"
    }
   ],
   "source": [
    "#draw a bar plot of survival by sex\n",
    "sns.barplot(x=\"Parch\", y=\"Survived\", data=train_data)"
   ]
  },
  {
   "cell_type": "code",
   "execution_count": 27,
   "metadata": {
    "execution": {
     "iopub.execute_input": "2020-08-17T06:39:51.407318Z",
     "iopub.status.busy": "2020-08-17T06:39:51.405962Z",
     "iopub.status.idle": "2020-08-17T06:39:55.399752Z",
     "shell.execute_reply": "2020-08-17T06:39:55.400376Z"
    },
    "papermill": {
     "duration": 4.036856,
     "end_time": "2020-08-17T06:39:55.400565",
     "exception": false,
     "start_time": "2020-08-17T06:39:51.363709",
     "status": "completed"
    },
    "tags": []
   },
   "outputs": [
    {
     "data": {
      "text/plain": [
       "<matplotlib.axes._subplots.AxesSubplot at 0x7f6b5e01b850>"
      ]
     },
     "execution_count": 27,
     "metadata": {},
     "output_type": "execute_result"
    },
    {
     "data": {
      "image/png": "[encoded data removed]",
      "text/plain": [
       "<Figure size 915.875x216 with 1 Axes>"
      ]
     },
     "metadata": {},
     "output_type": "display_data"
    },
    {
     "data": {
      "image/png": "[encoded data removed]",
      "text/plain": [
       "<Figure size 1296x288 with 1 Axes>"
      ]
     },
     "metadata": {},
     "output_type": "display_data"
    }
   ],
   "source": [
    "# peaks for survived/not survived passengers by their age\n",
    "facet = sns.FacetGrid(train_data, hue=\"Survived\",aspect=4)\n",
    "facet.map(sns.kdeplot,'Age',shade= True)\n",
    "facet.set(xlim=(0, train_data['Age'].max()))\n",
    "facet.add_legend()\n",
    "\n",
    "# average survived passengers by age\n",
    "fig, axis1 = plt.subplots(1,1,figsize=(18,4))\n",
    "average_age = train_data[[\"Age\", \"Survived\"]].groupby(['Age'],as_index=False).mean()\n",
    "sns.barplot(x='Age', y='Survived', data=average_age)"
   ]
  },
  {
   "cell_type": "code",
   "execution_count": 28,
   "metadata": {
    "execution": {
     "iopub.execute_input": "2020-08-17T06:39:55.479228Z",
     "iopub.status.busy": "2020-08-17T06:39:55.472574Z",
     "iopub.status.idle": "2020-08-17T06:39:59.176744Z",
     "shell.execute_reply": "2020-08-17T06:39:59.175896Z"
    },
    "papermill": {
     "duration": 3.748968,
     "end_time": "2020-08-17T06:39:59.176884",
     "exception": false,
     "start_time": "2020-08-17T06:39:55.427916",
     "status": "completed"
    },
    "tags": []
   },
   "outputs": [
    {
     "data": {
      "image/png": "[encoded data removed]",
      "text/plain": [
       "<Figure size 440x648 with 6 Axes>"
      ]
     },
     "metadata": {},
     "output_type": "display_data"
    }
   ],
   "source": [
    "grid = sns.FacetGrid(train_data, col='Survived', row='Pclass')\n",
    "grid.map(plt.hist, 'Age', alpha=.5, bins=20)\n",
    "grid.add_legend();"
   ]
  },
  {
   "cell_type": "code",
   "execution_count": 29,
   "metadata": {
    "execution": {
     "iopub.execute_input": "2020-08-17T06:39:59.243629Z",
     "iopub.status.busy": "2020-08-17T06:39:59.242594Z",
     "iopub.status.idle": "2020-08-17T06:40:03.244851Z",
     "shell.execute_reply": "2020-08-17T06:40:03.244062Z"
    },
    "papermill": {
     "duration": 4.042915,
     "end_time": "2020-08-17T06:40:03.244983",
     "exception": false,
     "start_time": "2020-08-17T06:39:59.202068",
     "status": "completed"
    },
    "tags": []
   },
   "outputs": [
    {
     "data": {
      "image/png": "[encoded data removed]",
      "text/plain": [
       "<Figure size 440x648 with 6 Axes>"
      ]
     },
     "metadata": {},
     "output_type": "display_data"
    }
   ],
   "source": [
    "grid = sns.FacetGrid(train_data, col='Survived', row='Pclass')\n",
    "grid.map(plt.hist, 'SibSp', alpha=.5, bins=20)\n",
    "grid.add_legend();"
   ]
  },
  {
   "cell_type": "code",
   "execution_count": 30,
   "metadata": {
    "execution": {
     "iopub.execute_input": "2020-08-17T06:40:03.316594Z",
     "iopub.status.busy": "2020-08-17T06:40:03.315419Z",
     "iopub.status.idle": "2020-08-17T06:40:05.597967Z",
     "shell.execute_reply": "2020-08-17T06:40:05.598736Z"
    },
    "papermill": {
     "duration": 2.328435,
     "end_time": "2020-08-17T06:40:05.598972",
     "exception": false,
     "start_time": "2020-08-17T06:40:03.270537",
     "status": "completed"
    },
    "tags": []
   },
   "outputs": [
    {
     "data": {
      "image/png": "[encoded data removed]",
      "text/plain": [
       "<Figure size 440x648 with 6 Axes>"
      ]
     },
     "metadata": {},
     "output_type": "display_data"
    }
   ],
   "source": [
    "grid = sns.FacetGrid(train_data, col='Survived', row='Pclass')\n",
    "grid.map(plt.hist, 'Embarked', alpha=.5, bins=20)\n",
    "grid.add_legend();"
   ]
  },
  {
   "cell_type": "code",
   "execution_count": 31,
   "metadata": {
    "execution": {
     "iopub.execute_input": "2020-08-17T06:40:05.674581Z",
     "iopub.status.busy": "2020-08-17T06:40:05.672428Z",
     "iopub.status.idle": "2020-08-17T06:40:06.371396Z",
     "shell.execute_reply": "2020-08-17T06:40:06.370696Z"
    },
    "papermill": {
     "duration": 0.741509,
     "end_time": "2020-08-17T06:40:06.371540",
     "exception": false,
     "start_time": "2020-08-17T06:40:05.630031",
     "status": "completed"
    },
    "tags": []
   },
   "outputs": [
    {
     "data": {
      "image/png": "[encoded data removed]",
      "text/plain": [
       "<Figure size 1440x864 with 2 Axes>"
      ]
     },
     "metadata": {},
     "output_type": "display_data"
    }
   ],
   "source": [
    "sns.heatmap(train_data.corr(),annot=True,cmap='RdYlGn',linewidths=0.2)\n",
    "fig=plt.gcf()\n",
    "fig.set_size_inches(20,12)\n",
    "plt.show()"
   ]
  },
  {
   "cell_type": "markdown",
   "metadata": {
    "papermill": {
     "duration": 0.028405,
     "end_time": "2020-08-17T06:40:06.429077",
     "exception": false,
     "start_time": "2020-08-17T06:40:06.400672",
     "status": "completed"
    },
    "tags": []
   },
   "source": [
    "## Converting Categorial data to Numeric\n",
    "\n",
    "In our data some of features are represent categorial values, like Sex, Embarked etc. So we have to convert them in numeric value."
   ]
  },
  {
   "cell_type": "code",
   "execution_count": 32,
   "metadata": {
    "execution": {
     "iopub.execute_input": "2020-08-17T06:40:06.501153Z",
     "iopub.status.busy": "2020-08-17T06:40:06.500322Z",
     "iopub.status.idle": "2020-08-17T06:40:06.505115Z",
     "shell.execute_reply": "2020-08-17T06:40:06.504306Z"
    },
    "papermill": {
     "duration": 0.046753,
     "end_time": "2020-08-17T06:40:06.505271",
     "exception": false,
     "start_time": "2020-08-17T06:40:06.458518",
     "status": "completed"
    },
    "tags": []
   },
   "outputs": [],
   "source": [
    "train_data['Sex'] = train_data['Sex'].map({'male':1, 'female':0})\n",
    "test_data['Sex'] = test_data['Sex'].map({'male':1, 'female':0})"
   ]
  },
  {
   "cell_type": "code",
   "execution_count": 33,
   "metadata": {
    "execution": {
     "iopub.execute_input": "2020-08-17T06:40:06.578904Z",
     "iopub.status.busy": "2020-08-17T06:40:06.577771Z",
     "iopub.status.idle": "2020-08-17T06:40:06.580883Z",
     "shell.execute_reply": "2020-08-17T06:40:06.581696Z"
    },
    "papermill": {
     "duration": 0.04711,
     "end_time": "2020-08-17T06:40:06.581897",
     "exception": false,
     "start_time": "2020-08-17T06:40:06.534787",
     "status": "completed"
    },
    "tags": []
   },
   "outputs": [],
   "source": [
    "train_data['Embarked'] = train_data['Embarked'].map({'Q':2, 'S':1, 'C':0})\n",
    "test_data['Embarked'] = test_data['Embarked'].map({'Q':2, 'S':1, 'C':0})"
   ]
  },
  {
   "cell_type": "markdown",
   "metadata": {
    "papermill": {
     "duration": 0.029098,
     "end_time": "2020-08-17T06:40:06.640047",
     "exception": false,
     "start_time": "2020-08-17T06:40:06.610949",
     "status": "completed"
    },
    "tags": []
   },
   "source": [
    "# Model Prediction\n",
    "Now our data is ready to prepare model to predict solution. There is plenty of predictive algorithm out there to try. However, our problem is classification problem thus I will try classification models. "
   ]
  },
  {
   "cell_type": "markdown",
   "metadata": {
    "papermill": {
     "duration": 0.027524,
     "end_time": "2020-08-17T06:40:06.696953",
     "exception": false,
     "start_time": "2020-08-17T06:40:06.669429",
     "status": "completed"
    },
    "tags": []
   },
   "source": [
    "# First import all required machine learning libraries"
   ]
  },
  {
   "cell_type": "code",
   "execution_count": 34,
   "metadata": {
    "execution": {
     "iopub.execute_input": "2020-08-17T06:40:06.765866Z",
     "iopub.status.busy": "2020-08-17T06:40:06.764890Z",
     "iopub.status.idle": "2020-08-17T06:40:07.422952Z",
     "shell.execute_reply": "2020-08-17T06:40:07.421422Z"
    },
    "papermill": {
     "duration": 0.697714,
     "end_time": "2020-08-17T06:40:07.423203",
     "exception": false,
     "start_time": "2020-08-17T06:40:06.725489",
     "status": "completed"
    },
    "tags": []
   },
   "outputs": [],
   "source": [
    "# machine learning\n",
    "from sklearn.linear_model import LogisticRegression\n",
    "from sklearn.svm import SVC, LinearSVC\n",
    "from sklearn.ensemble import RandomForestClassifier\n",
    "from sklearn.neighbors import KNeighborsClassifier\n",
    "from sklearn.naive_bayes import GaussianNB\n",
    "from sklearn.linear_model import SGDClassifier\n",
    "from sklearn.tree import DecisionTreeClassifier"
   ]
  },
  {
   "cell_type": "markdown",
   "metadata": {
    "papermill": {
     "duration": 0.029979,
     "end_time": "2020-08-17T06:40:07.482543",
     "exception": false,
     "start_time": "2020-08-17T06:40:07.452564",
     "status": "completed"
    },
    "tags": []
   },
   "source": [
    "### Prepare data for train and test model."
   ]
  },
  {
   "cell_type": "code",
   "execution_count": 35,
   "metadata": {
    "execution": {
     "iopub.execute_input": "2020-08-17T06:40:07.552455Z",
     "iopub.status.busy": "2020-08-17T06:40:07.547435Z",
     "iopub.status.idle": "2020-08-17T06:40:07.557955Z",
     "shell.execute_reply": "2020-08-17T06:40:07.556941Z"
    },
    "papermill": {
     "duration": 0.046278,
     "end_time": "2020-08-17T06:40:07.558133",
     "exception": false,
     "start_time": "2020-08-17T06:40:07.511855",
     "status": "completed"
    },
    "tags": []
   },
   "outputs": [
    {
     "data": {
      "text/plain": [
       "((891, 7), (891,), (418, 7))"
      ]
     },
     "execution_count": 35,
     "metadata": {},
     "output_type": "execute_result"
    }
   ],
   "source": [
    "X_train = train_data.drop([\"Name\", \"Survived\", \"PassengerId\"], axis=1)\n",
    "Y_train = train_data[\"Survived\"]\n",
    "X_test  = test_data.drop(['Name',\"PassengerId\"], axis=1).copy()\n",
    "X_train.shape, Y_train.shape, X_test.shape"
   ]
  },
  {
   "cell_type": "markdown",
   "metadata": {
    "papermill": {
     "duration": 0.02735,
     "end_time": "2020-08-17T06:40:07.614423",
     "exception": false,
     "start_time": "2020-08-17T06:40:07.587073",
     "status": "completed"
    },
    "tags": []
   },
   "source": [
    "# Support Vector Machine"
   ]
  },
  {
   "cell_type": "code",
   "execution_count": 36,
   "metadata": {
    "execution": {
     "iopub.execute_input": "2020-08-17T06:40:07.682496Z",
     "iopub.status.busy": "2020-08-17T06:40:07.681481Z",
     "iopub.status.idle": "2020-08-17T06:40:07.748390Z",
     "shell.execute_reply": "2020-08-17T06:40:07.747510Z"
    },
    "papermill": {
     "duration": 0.105087,
     "end_time": "2020-08-17T06:40:07.748536",
     "exception": false,
     "start_time": "2020-08-17T06:40:07.643449",
     "status": "completed"
    },
    "tags": []
   },
   "outputs": [
    {
     "data": {
      "text/plain": [
       "0.6823793490460157"
      ]
     },
     "execution_count": 36,
     "metadata": {},
     "output_type": "execute_result"
    }
   ],
   "source": [
    "# Support Vector Machine\n",
    "svc = SVC()\n",
    "svc.fit(X_train, Y_train)\n",
    "svm_Y_pred = svc.predict(X_test)\n",
    "svc_accuracy = svc.score(X_train, Y_train)\n",
    "svc_accuracy"
   ]
  },
  {
   "cell_type": "markdown",
   "metadata": {
    "papermill": {
     "duration": 0.028872,
     "end_time": "2020-08-17T06:40:07.807818",
     "exception": false,
     "start_time": "2020-08-17T06:40:07.778946",
     "status": "completed"
    },
    "tags": []
   },
   "source": [
    "# K-Nearest Neighbour"
   ]
  },
  {
   "cell_type": "code",
   "execution_count": 37,
   "metadata": {
    "execution": {
     "iopub.execute_input": "2020-08-17T06:40:07.878513Z",
     "iopub.status.busy": "2020-08-17T06:40:07.877646Z",
     "iopub.status.idle": "2020-08-17T06:40:07.959881Z",
     "shell.execute_reply": "2020-08-17T06:40:07.960497Z"
    },
    "papermill": {
     "duration": 0.122062,
     "end_time": "2020-08-17T06:40:07.960688",
     "exception": false,
     "start_time": "2020-08-17T06:40:07.838626",
     "status": "completed"
    },
    "tags": []
   },
   "outputs": [
    {
     "data": {
      "text/plain": [
       "0.8406285072951739"
      ]
     },
     "execution_count": 37,
     "metadata": {},
     "output_type": "execute_result"
    }
   ],
   "source": [
    "# k-nearest neighbor\n",
    "knn = KNeighborsClassifier(n_neighbors = 3)\n",
    "knn.fit(X_train, Y_train)\n",
    "knn_Y_pred = knn.predict(X_test)\n",
    "knn_accuracy = knn.score(X_train, Y_train)\n",
    "knn_accuracy"
   ]
  },
  {
   "cell_type": "markdown",
   "metadata": {
    "papermill": {
     "duration": 0.029216,
     "end_time": "2020-08-17T06:40:08.017585",
     "exception": false,
     "start_time": "2020-08-17T06:40:07.988369",
     "status": "completed"
    },
    "tags": []
   },
   "source": [
    "# Gaussian Naive Bayes"
   ]
  },
  {
   "cell_type": "code",
   "execution_count": 38,
   "metadata": {
    "execution": {
     "iopub.execute_input": "2020-08-17T06:40:08.086479Z",
     "iopub.status.busy": "2020-08-17T06:40:08.085349Z",
     "iopub.status.idle": "2020-08-17T06:40:08.098974Z",
     "shell.execute_reply": "2020-08-17T06:40:08.098117Z"
    },
    "papermill": {
     "duration": 0.052687,
     "end_time": "2020-08-17T06:40:08.099130",
     "exception": false,
     "start_time": "2020-08-17T06:40:08.046443",
     "status": "completed"
    },
    "tags": []
   },
   "outputs": [
    {
     "data": {
      "text/plain": [
       "0.7912457912457912"
      ]
     },
     "execution_count": 38,
     "metadata": {},
     "output_type": "execute_result"
    }
   ],
   "source": [
    "# Gaussian Naive Bayes\n",
    "\n",
    "gaussian = GaussianNB()\n",
    "gaussian.fit(X_train, Y_train)\n",
    "guassian_Y_pred = gaussian.predict(X_test)\n",
    "gaussian_accuracy = gaussian.score(X_train, Y_train)\n",
    "gaussian_accuracy"
   ]
  },
  {
   "cell_type": "markdown",
   "metadata": {
    "papermill": {
     "duration": 0.030045,
     "end_time": "2020-08-17T06:40:08.162931",
     "exception": false,
     "start_time": "2020-08-17T06:40:08.132886",
     "status": "completed"
    },
    "tags": []
   },
   "source": [
    "# Linear SVC"
   ]
  },
  {
   "cell_type": "code",
   "execution_count": 39,
   "metadata": {
    "execution": {
     "iopub.execute_input": "2020-08-17T06:40:08.231067Z",
     "iopub.status.busy": "2020-08-17T06:40:08.229846Z",
     "iopub.status.idle": "2020-08-17T06:40:08.299161Z",
     "shell.execute_reply": "2020-08-17T06:40:08.300226Z"
    },
    "papermill": {
     "duration": 0.108392,
     "end_time": "2020-08-17T06:40:08.300487",
     "exception": false,
     "start_time": "2020-08-17T06:40:08.192095",
     "status": "completed"
    },
    "tags": []
   },
   "outputs": [
    {
     "data": {
      "text/plain": [
       "0.7654320987654321"
      ]
     },
     "execution_count": 39,
     "metadata": {},
     "output_type": "execute_result"
    }
   ],
   "source": [
    "# Linear SVC\n",
    "\n",
    "linear_svc = LinearSVC()\n",
    "linear_svc.fit(X_train, Y_train)\n",
    "linear_svc_Y_pred = linear_svc.predict(X_test)\n",
    "linear_svc_accuracy = linear_svc.score(X_train, Y_train)\n",
    "linear_svc_accuracy"
   ]
  },
  {
   "cell_type": "markdown",
   "metadata": {
    "papermill": {
     "duration": 0.032556,
     "end_time": "2020-08-17T06:40:08.365144",
     "exception": false,
     "start_time": "2020-08-17T06:40:08.332588",
     "status": "completed"
    },
    "tags": []
   },
   "source": [
    "# Stochastic Gradient Descent"
   ]
  },
  {
   "cell_type": "code",
   "execution_count": 40,
   "metadata": {
    "execution": {
     "iopub.execute_input": "2020-08-17T06:40:08.440402Z",
     "iopub.status.busy": "2020-08-17T06:40:08.437308Z",
     "iopub.status.idle": "2020-08-17T06:40:08.454947Z",
     "shell.execute_reply": "2020-08-17T06:40:08.454135Z"
    },
    "papermill": {
     "duration": 0.05901,
     "end_time": "2020-08-17T06:40:08.455104",
     "exception": false,
     "start_time": "2020-08-17T06:40:08.396094",
     "status": "completed"
    },
    "tags": []
   },
   "outputs": [
    {
     "data": {
      "text/plain": [
       "0.7575757575757576"
      ]
     },
     "execution_count": 40,
     "metadata": {},
     "output_type": "execute_result"
    }
   ],
   "source": [
    "# Stochastic Gradient Descent\n",
    "\n",
    "sgd = SGDClassifier()\n",
    "sgd.fit(X_train, Y_train)\n",
    "sgd_Y_pred = sgd.predict(X_test)\n",
    "sgd_accuracy = sgd.score(X_train, Y_train)\n",
    "sgd_accuracy"
   ]
  },
  {
   "cell_type": "markdown",
   "metadata": {
    "papermill": {
     "duration": 0.027387,
     "end_time": "2020-08-17T06:40:08.510822",
     "exception": false,
     "start_time": "2020-08-17T06:40:08.483435",
     "status": "completed"
    },
    "tags": []
   },
   "source": [
    "# Decision Tree\n"
   ]
  },
  {
   "cell_type": "code",
   "execution_count": 41,
   "metadata": {
    "execution": {
     "iopub.execute_input": "2020-08-17T06:40:08.584118Z",
     "iopub.status.busy": "2020-08-17T06:40:08.583172Z",
     "iopub.status.idle": "2020-08-17T06:40:08.600864Z",
     "shell.execute_reply": "2020-08-17T06:40:08.600078Z"
    },
    "papermill": {
     "duration": 0.059076,
     "end_time": "2020-08-17T06:40:08.601010",
     "exception": false,
     "start_time": "2020-08-17T06:40:08.541934",
     "status": "completed"
    },
    "tags": []
   },
   "outputs": [
    {
     "data": {
      "text/plain": [
       "0.9797979797979798"
      ]
     },
     "execution_count": 41,
     "metadata": {},
     "output_type": "execute_result"
    }
   ],
   "source": [
    "# Decision Tree\n",
    "\n",
    "decision_tree = DecisionTreeClassifier()\n",
    "decision_tree.fit(X_train, Y_train)\n",
    "decision_tree_Y_pred = decision_tree.predict(X_test)\n",
    "decision_tree_accuracy = decision_tree.score(X_train, Y_train)\n",
    "decision_tree_accuracy"
   ]
  },
  {
   "cell_type": "markdown",
   "metadata": {
    "papermill": {
     "duration": 0.031148,
     "end_time": "2020-08-17T06:40:08.661445",
     "exception": false,
     "start_time": "2020-08-17T06:40:08.630297",
     "status": "completed"
    },
    "tags": []
   },
   "source": [
    "# Random Forest"
   ]
  },
  {
   "cell_type": "code",
   "execution_count": 42,
   "metadata": {
    "execution": {
     "iopub.execute_input": "2020-08-17T06:40:08.728848Z",
     "iopub.status.busy": "2020-08-17T06:40:08.727673Z",
     "iopub.status.idle": "2020-08-17T06:40:09.117932Z",
     "shell.execute_reply": "2020-08-17T06:40:09.118574Z"
    },
    "papermill": {
     "duration": 0.42964,
     "end_time": "2020-08-17T06:40:09.118766",
     "exception": false,
     "start_time": "2020-08-17T06:40:08.689126",
     "status": "completed"
    },
    "tags": []
   },
   "outputs": [
    {
     "data": {
      "text/plain": [
       "0.9797979797979798"
      ]
     },
     "execution_count": 42,
     "metadata": {},
     "output_type": "execute_result"
    }
   ],
   "source": [
    "# Random Forest\n",
    "\n",
    "random_forest = RandomForestClassifier(n_estimators=100)\n",
    "random_forest.fit(X_train, Y_train)\n",
    "random_forest_Y_pred = random_forest.predict(X_test)\n",
    "random_forest.score(X_train, Y_train)\n",
    "random_forest_accuracy = random_forest.score(X_train, Y_train)\n",
    "random_forest_accuracy"
   ]
  },
  {
   "cell_type": "code",
   "execution_count": 43,
   "metadata": {
    "execution": {
     "iopub.execute_input": "2020-08-17T06:40:09.199499Z",
     "iopub.status.busy": "2020-08-17T06:40:09.198627Z",
     "iopub.status.idle": "2020-08-17T06:40:09.206103Z",
     "shell.execute_reply": "2020-08-17T06:40:09.205137Z"
    },
    "papermill": {
     "duration": 0.058451,
     "end_time": "2020-08-17T06:40:09.206294",
     "exception": false,
     "start_time": "2020-08-17T06:40:09.147843",
     "status": "completed"
    },
    "tags": []
   },
   "outputs": [
    {
     "data": {
      "text/html": [
       "<div>\n",
       "<style scoped>\n",
       "    .dataframe tbody tr th:only-of-type {\n",
       "        vertical-align: middle;\n",
       "    }\n",
       "\n",
       "    .dataframe tbody tr th {\n",
       "        vertical-align: top;\n",
       "    }\n",
       "\n",
       "    .dataframe thead th {\n",
       "        text-align: right;\n",
       "    }\n",
       "</style>\n",
       "<table border=\"1\" class=\"dataframe\">\n",
       "  <thead>\n",
       "    <tr style=\"text-align: right;\">\n",
       "      <th></th>\n",
       "      <th>Model</th>\n",
       "      <th>Score</th>\n",
       "    </tr>\n",
       "  </thead>\n",
       "  <tbody>\n",
       "    <tr>\n",
       "      <th>5</th>\n",
       "      <td>Decision Tree</td>\n",
       "      <td>0.979798</td>\n",
       "    </tr>\n",
       "    <tr>\n",
       "      <th>6</th>\n",
       "      <td>Random Forest</td>\n",
       "      <td>0.979798</td>\n",
       "    </tr>\n",
       "    <tr>\n",
       "      <th>1</th>\n",
       "      <td>KNN</td>\n",
       "      <td>0.840629</td>\n",
       "    </tr>\n",
       "    <tr>\n",
       "      <th>2</th>\n",
       "      <td>Gaussian Naive Bayes</td>\n",
       "      <td>0.791246</td>\n",
       "    </tr>\n",
       "    <tr>\n",
       "      <th>3</th>\n",
       "      <td>Linear SVC</td>\n",
       "      <td>0.765432</td>\n",
       "    </tr>\n",
       "    <tr>\n",
       "      <th>4</th>\n",
       "      <td>Stochastic Gradient Decent</td>\n",
       "      <td>0.757576</td>\n",
       "    </tr>\n",
       "    <tr>\n",
       "      <th>0</th>\n",
       "      <td>Support Vector Machines</td>\n",
       "      <td>0.682379</td>\n",
       "    </tr>\n",
       "  </tbody>\n",
       "</table>\n",
       "</div>"
      ],
      "text/plain": [
       "                        Model     Score\n",
       "5               Decision Tree  0.979798\n",
       "6               Random Forest  0.979798\n",
       "1                         KNN  0.840629\n",
       "2        Gaussian Naive Bayes  0.791246\n",
       "3                  Linear SVC  0.765432\n",
       "4  Stochastic Gradient Decent  0.757576\n",
       "0     Support Vector Machines  0.682379"
      ]
     },
     "execution_count": 43,
     "metadata": {},
     "output_type": "execute_result"
    }
   ],
   "source": [
    "models = pd.DataFrame({\n",
    "    'Model': ['Support Vector Machines', 'KNN', 'Gaussian Naive Bayes', 'Linear SVC',\n",
    "              'Stochastic Gradient Decent', 'Decision Tree','Random Forest'],\n",
    "    'Score': [svc_accuracy, knn_accuracy, gaussian_accuracy, linear_svc_accuracy, \n",
    "              sgd_accuracy, decision_tree_accuracy, random_forest_accuracy]})\n",
    "models.sort_values(by='Score', ascending=False)"
   ]
  },
  {
   "cell_type": "code",
   "execution_count": 44,
   "metadata": {
    "execution": {
     "iopub.execute_input": "2020-08-17T06:40:09.280868Z",
     "iopub.status.busy": "2020-08-17T06:40:09.279684Z",
     "iopub.status.idle": "2020-08-17T06:40:09.421247Z",
     "shell.execute_reply": "2020-08-17T06:40:09.420398Z"
    },
    "papermill": {
     "duration": 0.18541,
     "end_time": "2020-08-17T06:40:09.421391",
     "exception": false,
     "start_time": "2020-08-17T06:40:09.235981",
     "status": "completed"
    },
    "tags": []
   },
   "outputs": [],
   "source": [
    "# submission file from each model\n",
    "svm_submission = pd.DataFrame({\"PassengerId\": test_data[\"PassengerId\"], \"Survived\": svm_Y_pred})\n",
    "svm_submission.to_csv('svm_submission.csv', index=False)\n",
    "\n",
    "knn_submission = pd.DataFrame({\"PassengerId\": test_data[\"PassengerId\"], \"Survived\": knn_Y_pred})\n",
    "knn_submission.to_csv('knn_submission.csv', index=False)\n",
    "\n",
    "guassian_submission = pd.DataFrame({\"PassengerId\": test_data[\"PassengerId\"], \"Survived\": guassian_Y_pred})\n",
    "guassian_submission.to_csv('guassian_submission.csv', index=False)\n",
    "\n",
    "linear_svc_submission = pd.DataFrame({\"PassengerId\": test_data[\"PassengerId\"], \"Survived\": linear_svc_Y_pred})\n",
    "linear_svc_submission.to_csv('linear_svc_submission.csv', index=False)\n",
    "\n",
    "sgd_submission = pd.DataFrame({\"PassengerId\": test_data[\"PassengerId\"], \"Survived\": sgd_Y_pred})\n",
    "sgd_submission.to_csv('sgd_submission.csv', index=False)\n",
    "\n",
    "decision_tree_submission = pd.DataFrame({\"PassengerId\": test_data[\"PassengerId\"], \"Survived\": decision_tree_Y_pred})\n",
    "decision_tree_submission.to_csv('decision_tree_submission.csv', index=False)\n",
    "\n",
    "random_forest_submission = pd.DataFrame({\"PassengerId\": test_data[\"PassengerId\"], \"Survived\": random_forest_Y_pred})\n",
    "random_forest_submission.to_csv('random_forest_submission.csv', index=False)"
   ]
  },
  {
   "cell_type": "markdown",
   "metadata": {
    "papermill": {
     "duration": 0.030075,
     "end_time": "2020-08-17T06:40:09.481117",
     "exception": false,
     "start_time": "2020-08-17T06:40:09.451042",
     "status": "completed"
    },
    "tags": []
   },
   "source": [
    "## <font color='blue'> I hope you enjoyed this kernel , Please don't forget to appreciate me with an Upvote. </font>"
   ]
  }
 ],
 "metadata": {
  "kernelspec": {
   "display_name": "Python 3",
   "language": "python",
   "name": "python3"
  },
  "language_info": {
   "codemirror_mode": {
    "name": "ipython",
    "version": 3
   },
   "file_extension": ".py",
   "mimetype": "text/x-python",
   "name": "python",
   "nbconvert_exporter": "python",
   "pygments_lexer": "ipython3",
   "version": "3.7.4"
  },
  "papermill": {
   "duration": 29.052686,
   "end_time": "2020-08-17T06:40:09.621151",
   "environment_variables": {},
   "exception": null,
   "input_path": "__notebook__.ipynb",
   "output_path": "__notebook__.ipynb",
   "parameters": {},
   "start_time": "2020-08-17T06:39:40.568465",
   "version": "2.1.0"
  }
 },
 "nbformat": 4,
 "nbformat_minor": 4
}
