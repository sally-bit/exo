{
 "cells": [
  {
   "cell_type": "code",
   "execution_count": 7,
   "metadata": {},
   "outputs": [
    {
     "name": "stdout",
     "output_type": "stream",
     "text": [
      "vbkggamyk\n"
     ]
    }
   ],
   "source": [
    "lines=['28', 'hfbwyfk 152', 'wkwlnfc 876', 'qlisdkc 721', 'vbkggamyk 1', \n",
    "       'qafhxz 865', 'lqqodabt 887', 'mkofc 464', 'vvpqyyy 689', 'wkjio 416', 'chngpc 606', \n",
    "       'rydufku 49', 'nshylhj 143', 'skehqxs 153', 'ovriiz 224', 'zbjdgo 604', 'qsaqoxon 164', 'jhnlns 981', \n",
    "       'qmghmns 805', 'devxbjnb 558', 'nkvfbzoz 940', 'gdfstiqw 524', 'rhswjxhrr 359', 'heusa 33', 'owlipqohq 409', \n",
    "       'wakhkhf 192', 'iweczdz 23', 'tohfzn 576', 'axnoei 866']\n",
    "nom=[]\n",
    "taille=[]\n",
    "\n",
    "for i in lines[1:]:\n",
    "    k=i.split(' ')\n",
    "    nom.append(k[0])\n",
    "    taille.append(int(k[1]))\n",
    "for i in lines[1:]:\n",
    "    if int(i.split(' ')[1]) == min(taille):\n",
    "        print(i.split(' ')[0])"
   ]
  },
  {
   "cell_type": "code",
   "execution_count": null,
   "metadata": {},
   "outputs": [],
   "source": []
  }
 ],
 "metadata": {
  "kernelspec": {
   "display_name": "Python 3",
   "language": "python",
   "name": "python3"
  },
  "language_info": {
   "codemirror_mode": {
    "name": "ipython",
    "version": 3
   },
   "file_extension": ".py",
   "mimetype": "text/x-python",
   "name": "python",
   "nbconvert_exporter": "python",
   "pygments_lexer": "ipython3",
   "version": "3.7.4"
  }
 },
 "nbformat": 4,
 "nbformat_minor": 2
}
