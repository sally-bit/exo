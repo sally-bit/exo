{
 "cells": [
  {
   "cell_type": "markdown",
   "metadata": {},
   "source": [
    "#### Votre code a renvoyé : ['10 15', '820 1958', '2192 2261', '2352 2469', '2355 2491', '2080 2177', '2241 2333', '1143 1370', '851 2308', '2341 2486', '1946 2130', '2287 2408', '1373 2339', '1140 2400', '596 1737', '633 1028']\n",
    "#### Résultat possible : 2 7 2 3 6 10 9 4 1 3 9 5 8 1 10"
   ]
  },
  {
   "cell_type": "code",
   "execution_count": 1,
   "metadata": {},
   "outputs": [],
   "source": [
    "lines=['10 15', '820 1958', '2192 2261', '2352 2469', '2355 2491', '2080 2177', '2241 2333',\n",
    "       '1143 1370', '851 2308', '2341 2486','1946 2130', '2287 2408', '1373 2339', '1140 2400', '596 1737', '633 1028']\n",
    "\n"
   ]
  },
  {
   "cell_type": "markdown",
   "metadata": {},
   "source": [
    "#### Une solution pour cette question est de parcourir tous les instants de 0 à 2500. A chaque instant, voir s'il correspond à une fin d'usage, si oui libérer le câble correspondant à cet usage. Pour le même instant voir ensuite s'il correspond à un début d'usage. Si oui, lui attribuer un câble libre, s'il n'y en a pas, afficher \"pas de solution\". Il faut donc maintenir à jour deux listes, une liste des câbles indiquant s'ils sont libres ou pas et une liste d'utilisation des câbles qui permet de retrouver quel câble était utilisé pour quelle utilisation ce qui permet de libérer le bon câble quand on atteint une fin d'utilisation."
   ]
  },
  {
   "cell_type": "code",
   "execution_count": null,
   "metadata": {},
   "outputs": [],
   "source": []
  },
  {
   "cell_type": "code",
   "execution_count": null,
   "metadata": {},
   "outputs": [],
   "source": [
    "lines=['10 15', '820 1958', '2192 2261', '2352 2469', '2355 2491', '2080 2177', '2241 2333',\n",
    "       '1143 1370', '851 2308', '2341 2486','1946 2130', '2287 2408', '1373 2339', '1140 2400', '596 1737', '633 1028']\n",
    "\n",
    "\n",
    "n,m=int(lines[0].split(' ')[0]),int(lines[0].split(' ')[1])\n",
    "t=[0 for i in range(m)]\n",
    "mylist=[]\n",
    "utilise=[0 for i in range(n)]\n",
    "\n",
    "for i,elt in enumerate(lines[1:]):\n",
    "    \n",
    "    mylist.append((int(elt.split(' ')[0]),int(elt.split(' ')[1]),i))\n",
    "    \n",
    "mylist.sort()\n",
    "\n",
    "for d,f,i in mylist:\n",
    "    for j in range(n): \n",
    "        if d >= utilise[j]:    \n",
    "            utilise[j]=f\n",
    "            t[i]=j+1\n",
    "            break\n",
    "for i in t:\n",
    "    i=str(i)\n",
    "if 0 in t:\n",
    "    print('pas possible')\n",
    "else:\n",
    "    print(' '.join([str(e) for e in t ]))\n",
    "    \n",
    "   "
   ]
  },
  {
   "cell_type": "code",
   "execution_count": null,
   "metadata": {},
   "outputs": [],
   "source": []
  },
  {
   "cell_type": "code",
   "execution_count": null,
   "metadata": {},
   "outputs": [],
   "source": []
  }
 ],
 "metadata": {
  "kernelspec": {
   "display_name": "Python 3",
   "language": "python",
   "name": "python3"
  },
  "language_info": {
   "codemirror_mode": {
    "name": "ipython",
    "version": 3
   },
   "file_extension": ".py",
   "mimetype": "text/x-python",
   "name": "python",
   "nbconvert_exporter": "python",
   "pygments_lexer": "ipython3",
   "version": "3.7.4"
  }
 },
 "nbformat": 4,
 "nbformat_minor": 2
}
